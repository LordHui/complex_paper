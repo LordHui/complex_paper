{
 "cells": [
  {
   "cell_type": "markdown",
   "metadata": {},
   "source": [
    "# CIFAR10 experiment prototype"
   ]
  },
  {
   "cell_type": "markdown",
   "metadata": {},
   "source": [
    "If you plan to use DenseNet you'd better read [the paper](https://arxiv.org/abs/1608.06993.pdf)\n",
    "* it seems that using `ADAM` is a recipe for a disaster\n",
    "* it is better to use `SGD` with a scheduler.\n",
    "\n",
    "[Also this medium post](https://medium.com/@wwwbbb8510/lessons-learned-from-reproducing-resnet-and-densenet-on-cifar-10-dataset-6e25b03328da)"
   ]
  },
  {
   "cell_type": "code",
   "execution_count": null,
   "metadata": {},
   "outputs": [],
   "source": [
    "import torch\n",
    "import numpy as np"
   ]
  },
  {
   "cell_type": "code",
   "execution_count": null,
   "metadata": {},
   "outputs": [],
   "source": [
    "%matplotlib inline\n",
    "import matplotlib.pyplot as plt"
   ]
  },
  {
   "cell_type": "code",
   "execution_count": null,
   "metadata": {},
   "outputs": [],
   "source": [
    "import json\n",
    "from pkg_resources import resource_filename\n",
    "\n",
    "filename = resource_filename(\"cplxpaper.cifar.models.vgg\", \"template.json\")\n",
    "\n",
    "with open(filename, \"r\") as fin:\n",
    "    manifest = json.load(fin)"
   ]
  },
  {
   "cell_type": "code",
   "execution_count": null,
   "metadata": {},
   "outputs": [],
   "source": [
    "manifest[\"datasets\"] = {\n",
    "    'train': {\n",
    "        'cls': \"<class 'cplxpaper.cifar.dataset.AugmentedCIFAR10_Train'>\",\n",
    "        'root': '/home/ivan.nazarov/Github/complex_paper/experiments/cifar/data'\n",
    "    }, 'test': {\n",
    "        'cls': \"<class 'cplxpaper.cifar.dataset.AugmentedCIFAR10_Test'>\",\n",
    "        'root': '/home/ivan.nazarov/Github/complex_paper/experiments/cifar/data'\n",
    "    }\n",
    "}"
   ]
  },
  {
   "cell_type": "code",
   "execution_count": null,
   "metadata": {},
   "outputs": [],
   "source": [
    "manifest[\"features\"] = {\n",
    "    'cls': \"<class 'cplxpaper.auto.feeds.FeedRawFeatures'>\"\n",
    "#     \"cls\": \"<class 'cplxpaper.auto.feeds.FeedFourierFeatures'>\",\n",
    "#     \"signal_ndim\": 2,\n",
    "#     \"shift\": True,\n",
    "#     \"cplx\": True,\n",
    "}\n",
    "\n",
    "manifest[\"model\"] = {\n",
    "    \"cls\": \"<class 'cplxpaper.cifar.models.vgg.complex.VGG'>\",\n",
    "    \"vgg_name\": 'VGG16',\n",
    "    \"n_outputs\": 10,\n",
    "    \"upcast\": True,\n",
    "    \"half\": True\n",
    "}"
   ]
  },
  {
   "cell_type": "code",
   "execution_count": null,
   "metadata": {},
   "outputs": [],
   "source": [
    "manifest[\"stages\"][\"dense\"][\"model\"] = {\n",
    "    \"cls\": \"<class 'cplxpaper.cifar.models.vgg.complex.VGG'>\"\n",
    "}\n",
    "\n",
    "\n",
    "manifest[\"stages\"][\"sparsify\"][\"model\"] = {\n",
    "    \"cls\": \"<class 'cplxpaper.cifar.models.vgg.complex.VGGARD'>\"\n",
    "}\n",
    "\n",
    "manifest[\"stages\"][\"fine-tune\"][\"model\"] = {\n",
    "    \"cls\": \"<class 'cplxpaper.cifar.models.vgg.complex.VGGMasked'>\"\n",
    "}"
   ]
  },
  {
   "cell_type": "code",
   "execution_count": null,
   "metadata": {},
   "outputs": [],
   "source": [
    "manifest[\"stages\"][\"dense\"][\"lr_scheduler\"] = {\n",
    "    'cls': \"<class 'cplxpaper.musicnet.lr_scheduler.FastStepScheduler'>\"\n",
    "}"
   ]
  },
  {
   "cell_type": "code",
   "execution_count": null,
   "metadata": {},
   "outputs": [],
   "source": [
    "manifest[\"objective_terms\"][\"kl_div\"][\"coef\"] = 2e-5"
   ]
  },
  {
   "cell_type": "code",
   "execution_count": null,
   "metadata": {},
   "outputs": [],
   "source": [
    "manifest[\"stages\"][\"dense\"][\"n_epochs\"] = 1  # 20\n",
    "manifest[\"stages\"][\"sparsify\"][\"n_epochs\"] = 2  # 40\n",
    "manifest[\"stages\"][\"fine-tune\"][\"n_epochs\"] = 1  # 20"
   ]
  },
  {
   "cell_type": "code",
   "execution_count": null,
   "metadata": {},
   "outputs": [],
   "source": [
    "manifest[\"stages\"][\"dense\"][\"grad_clip\"] = 0.5\n",
    "manifest[\"stages\"][\"sparsify\"][\"grad_clip\"] = 0.5\n",
    "manifest[\"stages\"][\"fine-tune\"][\"grad_clip\"] = 0.5"
   ]
  },
  {
   "cell_type": "code",
   "execution_count": null,
   "metadata": {},
   "outputs": [],
   "source": [
    "manifest[\"device\"] = \"cuda:3\""
   ]
  },
  {
   "cell_type": "markdown",
   "metadata": {},
   "source": [
    "<br>"
   ]
  },
  {
   "cell_type": "code",
   "execution_count": null,
   "metadata": {},
   "outputs": [],
   "source": [
    "from cplxpaper.auto import auto"
   ]
  },
  {
   "cell_type": "code",
   "execution_count": null,
   "metadata": {
    "scrolled": false
   },
   "outputs": [],
   "source": [
    "auto.run(manifest, './test_vgg', \"cplx-cifar-vgg16-test\")"
   ]
  },
  {
   "cell_type": "code",
   "execution_count": null,
   "metadata": {},
   "outputs": [],
   "source": [
    "assert False"
   ]
  },
  {
   "cell_type": "code",
   "execution_count": null,
   "metadata": {},
   "outputs": [],
   "source": [
    "devtype = dict(device=torch.device(manifest[\"device\"]))\n",
    "datasets = auto.get_datasets(manifest[\"datasets\"])\n",
    "feeds = auto.get_feeds(datasets, devtype, manifest[\"features\"], manifest[\"feeds\"])"
   ]
  },
  {
   "cell_type": "code",
   "execution_count": null,
   "metadata": {},
   "outputs": [],
   "source": [
    "datasets[\"train\"]"
   ]
  },
  {
   "cell_type": "code",
   "execution_count": null,
   "metadata": {},
   "outputs": [],
   "source": [
    "settings = manifest[\"stages\"][\"fine-tune\"]\n",
    "new = auto.state_create(manifest[\"model\"], settings, devtype)"
   ]
  },
  {
   "cell_type": "code",
   "execution_count": null,
   "metadata": {},
   "outputs": [],
   "source": [
    "for bx, by in feeds['train']:\n",
    "    break"
   ]
  },
  {
   "cell_type": "code",
   "execution_count": null,
   "metadata": {
    "scrolled": false
   },
   "outputs": [],
   "source": [
    "from cplxmodule.nn.utils.sparsity import named_sparsity\n",
    "\n",
    "sparsity = dict(named_sparsity(new.model, threshold=-0.5, hard=True))\n",
    "n_zer, n_par = map(sum, zip(*sparsity.values()))\n",
    "# n_zer, n_par"
   ]
  },
  {
   "cell_type": "code",
   "execution_count": null,
   "metadata": {},
   "outputs": [],
   "source": [
    "n_zer, n_par"
   ]
  },
  {
   "cell_type": "code",
   "execution_count": null,
   "metadata": {},
   "outputs": [],
   "source": [
    "new.model(bx).shape"
   ]
  },
  {
   "cell_type": "markdown",
   "metadata": {},
   "source": [
    "<br>"
   ]
  },
  {
   "cell_type": "markdown",
   "metadata": {},
   "source": [
    "Model taken from [this tutorial](https://pytorch.org/tutorials/beginner/blitz/cifar10_tutorial.html)"
   ]
  },
  {
   "cell_type": "code",
   "execution_count": null,
   "metadata": {},
   "outputs": [],
   "source": [
    "import torch\n",
    "from collections import OrderedDict\n",
    "\n",
    "from cplxmodule.nn import CplxToCplx\n",
    "from cplxmodule.nn import CplxConv2d, CplxLinear\n",
    "\n",
    "from cplxmodule.nn import CplxReal\n",
    "from cplxmodule.nn.modules.casting import ConcatenatedRealToCplx\n",
    "from cplxmodule.nn.modules.casting import CplxToConcatenatedReal\n",
    "# from cplxmodule.nn.relevance import CplxConv2dVD, CplxLinearVD\n",
    "from cplxmodule.nn.relevance.extensions import CplxLinearVDBogus as CplxLinearVD\n",
    "from cplxmodule.nn.relevance.extensions import CplxConv2dVDBogus as CplxConv2dVD\n",
    "from cplxmodule.nn.masked import CplxConv2dMasked, CplxLinearMasked\n",
    "\n",
    "\n",
    "class CIFAR10Model(torch.nn.Sequential):\n",
    "    Linear = CplxLinear\n",
    "    Conv2d = CplxConv2d\n",
    "\n",
    "    def __init__(self):\n",
    "        layers = [\n",
    "            (\"cplx\", ConcatenatedRealToCplx(copy=False, dim=-3)),\n",
    "\n",
    "            (\"conv1\", self.Conv2d( 3, 32, 3, 1)),\n",
    "            (\"relu1\", CplxToCplx[torch.nn.ReLU]()),\n",
    "            (\"pool1\", CplxToCplx[torch.nn.AvgPool2d](2, 2)),\n",
    "            (\"conv2\", self.Conv2d(32, 64, 3, 1)),\n",
    "            (\"relu2\", CplxToCplx[torch.nn.ReLU]()),\n",
    "            (\"pool2\", CplxToCplx[torch.nn.AvgPool2d](2, 2)),\n",
    "            (\"flat_\", CplxToCplx[torch.nn.Flatten](-3, -1)),\n",
    "            (\"lin_1\", self.Linear(6 * 6 * 64, 2048)),\n",
    "            (\"relu3\", CplxToCplx[torch.nn.ReLU]()),\n",
    "            (\"lin_2\", self.Linear(2048, 10)),\n",
    "            (\"real\", CplxReal()),\n",
    "            # (\"real\", CplxToConcatenatedReal(dim=-1)),\n",
    "            # (\"lin_3\", torch.nn.Linear(20, 10)),\n",
    "        ]\n",
    "\n",
    "        super().__init__(OrderedDict(layers))\n",
    "\n",
    "\n",
    "class CIFAR10ModelVD(CIFAR10Model):\n",
    "    Linear = CplxLinearVD\n",
    "    Conv2d = CplxConv2dVD\n",
    "\n",
    "\n",
    "class CIFAR10ModelMasked(CIFAR10Model):\n",
    "    Linear = CplxLinearMasked\n",
    "    Conv2d = CplxConv2dMasked\n"
   ]
  },
  {
   "cell_type": "code",
   "execution_count": null,
   "metadata": {},
   "outputs": [],
   "source": [
    "options[\"stages\"]['fine-tune']['reset'] = False\n",
    "\n",
    "options[\"stages\"]['sparsify']['objective']['kl_div'] = 1e-1\n",
    "\n",
    "options[\"stages\"]['dense'][\"optimizer\"][\"weight_decay\"] = 5e-4\n",
    "options[\"stages\"]['sparsify'][\"optimizer\"][\"weight_decay\"] = 5e-4\n",
    "options[\"stages\"]['fine-tune'][\"optimizer\"][\"weight_decay\"] = 5e-4"
   ]
  },
  {
   "cell_type": "code",
   "execution_count": null,
   "metadata": {},
   "outputs": [],
   "source": [
    "options"
   ]
  },
  {
   "cell_type": "code",
   "execution_count": null,
   "metadata": {
    "scrolled": false
   },
   "outputs": [],
   "source": [
    "auto.run(options, './test', \"cplx-cifar-vgg16\")"
   ]
  },
  {
   "cell_type": "code",
   "execution_count": null,
   "metadata": {},
   "outputs": [],
   "source": [
    "from cplxpaper.auto.utils import load_snapshot"
   ]
  },
  {
   "cell_type": "code",
   "execution_count": null,
   "metadata": {},
   "outputs": [],
   "source": [
    "load_snapshot('./test/0-dense cplx-cifar.gz')[\"performance\"]"
   ]
  },
  {
   "cell_type": "code",
   "execution_count": null,
   "metadata": {},
   "outputs": [],
   "source": [
    "load_snapshot('./test/2-fine-tune cplx-cifar.gz')[\"performance\"]"
   ]
  },
  {
   "cell_type": "code",
   "execution_count": null,
   "metadata": {},
   "outputs": [],
   "source": [
    "losses = []\n",
    "cold = load_snapshot('./test/0-dense cplx-cifar.gz')\n",
    "losses.append(cold['history'][\"loss\"])\n",
    "cold = load_snapshot('./test/1-sparsify cplx-cifar.gz')\n",
    "losses.append(cold['history'][\"loss\"])\n",
    "cold = load_snapshot('./test/2-fine-tune cplx-cifar.gz')\n",
    "losses.append(cold['history'][\"loss\"])\n",
    "\n",
    "plt.semilogy(np.concatenate(losses))"
   ]
  },
  {
   "cell_type": "code",
   "execution_count": null,
   "metadata": {
    "scrolled": true
   },
   "outputs": [],
   "source": [
    "assert False"
   ]
  },
  {
   "cell_type": "markdown",
   "metadata": {},
   "source": [
    "<br>"
   ]
  }
 ],
 "metadata": {
  "kernelspec": {
   "display_name": "Python 3",
   "language": "python",
   "name": "python3"
  },
  "language_info": {
   "codemirror_mode": {
    "name": "ipython",
    "version": 3
   },
   "file_extension": ".py",
   "mimetype": "text/x-python",
   "name": "python",
   "nbconvert_exporter": "python",
   "pygments_lexer": "ipython3",
   "version": "3.8.1"
  }
 },
 "nbformat": 4,
 "nbformat_minor": 2
}
