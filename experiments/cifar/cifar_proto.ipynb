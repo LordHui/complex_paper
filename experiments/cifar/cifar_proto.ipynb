{
 "cells": [
  {
   "cell_type": "markdown",
   "metadata": {},
   "source": [
    "# CIFAR10 experiment prototype"
   ]
  },
  {
   "cell_type": "code",
   "execution_count": null,
   "metadata": {},
   "outputs": [],
   "source": [
    "import torch\n",
    "import numpy as np"
   ]
  },
  {
   "cell_type": "code",
   "execution_count": null,
   "metadata": {},
   "outputs": [],
   "source": [
    "import json\n",
    "\n",
    "from pkg_resources import resource_stream\n",
    "\n",
    "with resource_stream(\"cplxpaper.mnist\", \"template.json\") as fin:\n",
    "    options = json.load(fin)"
   ]
  },
  {
   "cell_type": "code",
   "execution_count": null,
   "metadata": {},
   "outputs": [],
   "source": [
    "%matplotlib inline\n",
    "import matplotlib.pyplot as plt"
   ]
  },
  {
   "cell_type": "code",
   "execution_count": null,
   "metadata": {},
   "outputs": [],
   "source": [
    "from cplxpaper.auto import auto"
   ]
  },
  {
   "cell_type": "code",
   "execution_count": null,
   "metadata": {},
   "outputs": [],
   "source": [
    "options[\"device\"] = \"cuda:1\""
   ]
  },
  {
   "cell_type": "code",
   "execution_count": null,
   "metadata": {},
   "outputs": [],
   "source": [
    "options[\"datasets\"] = {\n",
    "    'mnist-train': {\n",
    "        'cls': \"<class 'cplxpaper.cifar.dataset.CIFAR10Train'>\", 'root': './data'\n",
    "    },\n",
    "    'mnist-test': {\n",
    "        'cls': \"<class 'cplxpaper.cifar.dataset.CIFAR10Test'>\", 'root': './data'\n",
    "    }\n",
    "}"
   ]
  },
  {
   "cell_type": "code",
   "execution_count": null,
   "metadata": {},
   "outputs": [],
   "source": [
    "options[\"features\"] = {\n",
    "    'cls': \"<class 'cplxpaper.auto.feeds.FeedFourierFeatures'>\",\n",
    "    'signal_ndim': 2,\n",
    "    'cplx': True,\n",
    "    'shift': True,\n",
    "#     'cls': \"<class 'cplxpaper.auto.feeds.FeedRawFeatures'>\"\n",
    "}"
   ]
  },
  {
   "cell_type": "code",
   "execution_count": null,
   "metadata": {},
   "outputs": [],
   "source": [
    "import torch\n",
    "from collections import OrderedDict\n",
    "\n",
    "from cplxmodule.nn import CplxToCplx\n",
    "from cplxmodule.nn import CplxConv2d, CplxLinear\n",
    "\n",
    "from cplxmodule.nn.layers import CplxReal\n",
    "from cplxmodule.nn.layers import ConcatenatedRealToCplx\n",
    "from cplxmodule.nn.layers import CplxToConcatenatedReal\n",
    "from cplxmodule.nn.relevance import CplxConv2dARD, CplxLinearARD\n",
    "# from cplxmodule.nn.relevance.extensions import CplxLinearVDBogus as CplxLinearARD\n",
    "# from cplxmodule.nn.relevance.extensions import CplxConv2dVDBogus as CplxConv2dARD\n",
    "from cplxmodule.nn.masked import CplxConv2dMasked, CplxLinearMasked\n",
    "\n",
    "\n",
    "class CIFAR10Model(torch.nn.Sequential):\n",
    "    Linear = CplxLinear\n",
    "    Conv2d = CplxConv2d\n",
    "\n",
    "    def __init__(self):\n",
    "        layers = [\n",
    "            (\"cplx\", ConcatenatedRealToCplx(copy=False, dim=-3)),\n",
    "\n",
    "            (\"conv1\", self.Conv2d( 3, 20, 5, 1)),\n",
    "            (\"relu1\", CplxToCplx[torch.nn.ReLU]()),\n",
    "            (\"pool1\", CplxToCplx[torch.nn.AvgPool2d](2, 2)),\n",
    "            (\"conv2\", self.Conv2d(20, 50, 5, 1)),\n",
    "            (\"relu2\", CplxToCplx[torch.nn.ReLU]()),\n",
    "            (\"pool2\", CplxToCplx[torch.nn.AvgPool2d](2, 2)),\n",
    "            (\"flat_\", CplxToCplx[torch.nn.Flatten](-3, -1)),\n",
    "            (\"lin_1\", self.Linear(5 * 5 * 50, 500)),\n",
    "            (\"relu3\", CplxToCplx[torch.nn.ReLU]()),\n",
    "            (\"lin_2\", self.Linear(500, 10)),\n",
    "            (\"real\", CplxReal()),\n",
    "            # (\"real\", CplxToConcatenatedReal(dim=-1)),\n",
    "            # (\"lin_3\", torch.nn.Linear(20, 10)),\n",
    "        ]\n",
    "\n",
    "        super().__init__(OrderedDict(layers))\n",
    "\n",
    "\n",
    "class CIFAR10ModelARD(CIFAR10Model):\n",
    "    Linear = CplxLinearARD\n",
    "    Conv2d = CplxConv2dARD\n",
    "\n",
    "\n",
    "class CIFAR10ModelMasked(CIFAR10Model):\n",
    "    Linear = CplxLinearMasked\n",
    "    Conv2d = CplxConv2dMasked\n"
   ]
  },
  {
   "cell_type": "code",
   "execution_count": null,
   "metadata": {},
   "outputs": [],
   "source": [
    "options[\"model\"][\"cls\"] = \"<class '__main__.CIFAR10Model'>\"\n",
    "options[\"stages\"]['sparsify'][\"model\"][\"cls\"] = \"<class '__main__.CIFAR10ModelARD'>\"\n",
    "options[\"stages\"]['fine-tune'][\"model\"][\"cls\"] = \"<class '__main__.CIFAR10ModelMasked'>\""
   ]
  },
  {
   "cell_type": "code",
   "execution_count": null,
   "metadata": {},
   "outputs": [],
   "source": [
    "options[\"stages\"]['fine-tune']['reset'] = False\n",
    "\n",
    "options[\"stages\"]['sparsify']['objective']['kl_div'] = 1e-1"
   ]
  },
  {
   "cell_type": "code",
   "execution_count": null,
   "metadata": {},
   "outputs": [],
   "source": [
    "options"
   ]
  },
  {
   "cell_type": "code",
   "execution_count": null,
   "metadata": {
    "scrolled": false
   },
   "outputs": [],
   "source": [
    "auto.run(options, './test', \"cplx-cifar\")"
   ]
  },
  {
   "cell_type": "code",
   "execution_count": null,
   "metadata": {},
   "outputs": [],
   "source": [
    "from cplxpaper.auto.utils import load_snapshot"
   ]
  },
  {
   "cell_type": "code",
   "execution_count": null,
   "metadata": {},
   "outputs": [],
   "source": [
    "load_snapshot('./test/0-dense cplx-cifar.gz')[\"performance\"]"
   ]
  },
  {
   "cell_type": "code",
   "execution_count": null,
   "metadata": {},
   "outputs": [],
   "source": [
    "load_snapshot('./test/2-fine-tune cplx-cifar.gz')[\"performance\"]"
   ]
  },
  {
   "cell_type": "code",
   "execution_count": null,
   "metadata": {},
   "outputs": [],
   "source": [
    "losses = []\n",
    "cold = load_snapshot('./test/0-dense cplx-cifar.gz')\n",
    "losses.append(cold['history'][\"loss\"])\n",
    "cold = load_snapshot('./test/1-sparsify cplx-cifar.gz')\n",
    "losses.append(cold['history'][\"loss\"])\n",
    "cold = load_snapshot('./test/2-fine-tune cplx-cifar.gz')\n",
    "losses.append(cold['history'][\"loss\"])\n",
    "\n",
    "plt.semilogy(np.concatenate(losses))"
   ]
  },
  {
   "cell_type": "code",
   "execution_count": null,
   "metadata": {
    "scrolled": true
   },
   "outputs": [],
   "source": [
    "assert False"
   ]
  },
  {
   "cell_type": "markdown",
   "metadata": {},
   "source": [
    "<br>"
   ]
  }
 ],
 "metadata": {
  "kernelspec": {
   "display_name": "Python 3",
   "language": "python",
   "name": "python3"
  },
  "language_info": {
   "codemirror_mode": {
    "name": "ipython",
    "version": 3
   },
   "file_extension": ".py",
   "mimetype": "text/x-python",
   "name": "python",
   "nbconvert_exporter": "python",
   "pygments_lexer": "ipython3",
   "version": "3.7.5"
  }
 },
 "nbformat": 4,
 "nbformat_minor": 2
}
