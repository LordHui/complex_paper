{
 "cells": [
  {
   "cell_type": "markdown",
   "metadata": {},
   "source": [
    "# Manifest generator for CIFAR10 : real vs complex"
   ]
  },
  {
   "cell_type": "code",
   "execution_count": null,
   "metadata": {},
   "outputs": [],
   "source": [
    "import os\n",
    "import copy\n",
    "import numpy as np\n",
    "\n",
    "from itertools import product"
   ]
  },
  {
   "cell_type": "markdown",
   "metadata": {},
   "source": [
    "Load default config"
   ]
  },
  {
   "cell_type": "code",
   "execution_count": null,
   "metadata": {},
   "outputs": [],
   "source": [
    "import json\n",
    "from pkg_resources import resource_stream\n",
    "\n",
    "with resource_stream(\"cplxpaper.cifar.models.vgg\", \"template.json\") as fin:\n",
    "    options = json.load(fin)"
   ]
  },
  {
   "cell_type": "markdown",
   "metadata": {},
   "source": [
    "define datasets"
   ]
  },
  {
   "cell_type": "code",
   "execution_count": null,
   "metadata": {},
   "outputs": [],
   "source": [
    "from cplxpaper.cifar import dataset\n",
    "\n",
    "dataset_variety = {\n",
    "    \"cifar10\": {\n",
    "        \"datasets__train__cls\": [str(dataset.AugmentedCIFAR10_Train)],\n",
    "        \"datasets__train__disable\": [False],  # disable random crop and hor-flip\n",
    "        \"datasets__test__cls\": [str(dataset.AugmentedCIFAR10_Test)],\n",
    "        \"model__n_outputs\": [10],\n",
    "    }\n",
    "}"
   ]
  },
  {
   "cell_type": "markdown",
   "metadata": {},
   "source": [
    "Enumerate all possbile model `combinations`"
   ]
  },
  {
   "cell_type": "code",
   "execution_count": null,
   "metadata": {},
   "outputs": [],
   "source": [
    "from cplxpaper.cifar import models\n",
    "from itertools import product, chain\n",
    "\n",
    "model_combinations = {\n",
    "    \"real\": [*chain(product([\n",
    "            models.vgg.real.VGG\n",
    "        ], [\n",
    "            models.vgg.real.VGGARD, models.vgg.real.VGGVD\n",
    "        ], [\n",
    "            models.vgg.real.VGGMasked\n",
    "        ])\n",
    "    )],\n",
    "    \"complex\": [*chain(product([\n",
    "            models.vgg.complex.VGG\n",
    "        ], [\n",
    "            models.vgg.complex.VGGARD, models.vgg.complex.VGGVD\n",
    "        ], [\n",
    "            models.vgg.complex.VGGMasked\n",
    "        ])\n",
    "    )],\n",
    "}"
   ]
  },
  {
   "cell_type": "code",
   "execution_count": null,
   "metadata": {},
   "outputs": [],
   "source": [
    "model_variety = {}\n",
    "\n",
    "for name, combinations in model_combinations.items():\n",
    "    for models in combinations:\n",
    "        m_dense, m_sparsify, m_masked = map(str, models)\n",
    "        model_variety.setdefault(name, []).append({\n",
    "            \"stages__dense__model__cls\": [m_dense],\n",
    "            \"stages__sparsify__model__cls\": [m_sparsify],\n",
    "            \"stages__fine-tune__model__cls\": [m_masked],\n",
    "        })"
   ]
  },
  {
   "cell_type": "markdown",
   "metadata": {},
   "source": [
    "Update the template with correct data specification"
   ]
  },
  {
   "cell_type": "code",
   "execution_count": null,
   "metadata": {},
   "outputs": [],
   "source": [
    "options.update({\n",
    "    \"datasets\": {\n",
    "        \"train\": {\n",
    "            \"cls\": None,\n",
    "            \"root\": '/home/ivan.nazarov/Github/complex_paper/experiments/cifar/data',\n",
    "        },\n",
    "        \"test\": {\n",
    "            \"cls\": None,\n",
    "            \"root\": '/home/ivan.nazarov/Github/complex_paper/experiments/cifar/data'\n",
    "        },\n",
    "    },\n",
    "    'features': {\n",
    "        \"cls\": None\n",
    "    },\n",
    "    \"feeds\": {\n",
    "        'train': {\n",
    "            'cls': \"<class 'torch.utils.data.dataloader.DataLoader'>\",\n",
    "            'dataset': 'train',\n",
    "            'batch_size': 128,\n",
    "            'shuffle': True,\n",
    "            'pin_memory': False,\n",
    "            'n_batches': -1\n",
    "        },\n",
    "        'test': {\n",
    "            'cls': \"<class 'torch.utils.data.dataloader.DataLoader'>\",\n",
    "            'dataset': 'test',\n",
    "            'batch_size': 128,\n",
    "            'shuffle': False,\n",
    "            'pin_memory': False,\n",
    "            'n_batches': -1\n",
    "        }\n",
    "    },\n",
    "    \"scorers\": {},  # we shall score models when building a report\n",
    "})"
   ]
  },
  {
   "cell_type": "markdown",
   "metadata": {},
   "source": [
    "Prepare the main template:\n",
    "* reset roots\n",
    "* clear model definitions\n",
    "* specify restarts and grad clips"
   ]
  },
  {
   "cell_type": "code",
   "execution_count": null,
   "metadata": {},
   "outputs": [],
   "source": [
    "from cplxpaper.auto.parameter_grid import get_params, set_params, special_params\n",
    "\n",
    "options = set_params(options, **{\n",
    "    \"threshold\": -0.5,  # we use -1/2 for reasons outlined in the text\n",
    "\n",
    "    \"objective_terms__kl_div__reduction\": \"sum\",\n",
    "    \"objective_terms__kl_div__coef\": 1e-4,  # 5 fold over 1 / 50k = 2e-5 for higher compression\n",
    "\n",
    "    # specify state inheritance\n",
    "    \"stages__sparsify__restart\": False,\n",
    "    \"stages__sparsify__reset\": False,\n",
    "\n",
    "    \"stages__fine-tune__restart\": True,\n",
    "    \"stages__fine-tune__reset\": False,\n",
    "\n",
    "    # L2 clip gradients: seems to be always better to do so.\n",
    "    \"stages__dense__grad_clip\": 0.5,\n",
    "    \"stages__sparsify__grad_clip\": 0.5,\n",
    "    \"stages__fine-tune__grad_clip\": 0.5,\n",
    "\n",
    "    # train 20-40-20\n",
    "    \"stages__dense__n_epochs\": 20,  # ~40 min for C-half, should be faster for R\n",
    "    \"stages__sparsify__n_epochs\": 40,  # ~100 min\n",
    "    \"stages__fine-tune__n_epochs\": 20,  # ~40 min\n",
    "\n",
    "    # 10 epoch of 1e-3, then 1e-4\n",
    "    \"stages__dense__lr_scheduler__cls\": \"<class 'cplxpaper.musicnet.lr_scheduler.Trabelsi2017LRSchedule'>\",\n",
    "    \"stages__sparsify__lr_scheduler__cls\": \"<class 'cplxpaper.musicnet.lr_scheduler.Trabelsi2017LRSchedule'>\",\n",
    "    \"stages__fine-tune__lr_scheduler__cls\": \"<class 'cplxpaper.musicnet.lr_scheduler.Trabelsi2017LRSchedule'>\",\n",
    "\n",
    "    # clean models\n",
    "    \"model\": {\n",
    "        \"vgg_name\": \"VGG16\"  # request VGG16 architecture\n",
    "    },\n",
    "    \"stages__dense__model\": {},\n",
    "    \"stages__sparsify__model\": {},\n",
    "    \"stages__fine-tune__model\": {},\n",
    "})"
   ]
  },
  {
   "cell_type": "markdown",
   "metadata": {},
   "source": [
    "<br>"
   ]
  },
  {
   "cell_type": "markdown",
   "metadata": {},
   "source": [
    "KL-divergence coeffcient $C$ settings -- directly affects sparsification."
   ]
  },
  {
   "cell_type": "code",
   "execution_count": null,
   "metadata": {},
   "outputs": [],
   "source": [
    "base_grid = {\n",
    "#     \"stages__sparsify__objective__kl_div\": 1.5 * np.logspace(-13, -1, base=2, num=13),\n",
    "\n",
    "    # short grid\n",
    "    \"stages__sparsify__objective__kl_div\": 1.5 * np.logspace(-7.5, -3.5, base=2, num=9),\n",
    "\n",
    "    # use only one threshold for higher sparsity at the cost of worse performance\n",
    "    \"threshold\": [-0.5],  # [-0.5, 1.5]\n",
    "}"
   ]
  },
  {
   "cell_type": "markdown",
   "metadata": {},
   "source": [
    "The grid"
   ]
  },
  {
   "cell_type": "code",
   "execution_count": null,
   "metadata": {},
   "outputs": [],
   "source": [
    "grid, tag = [], \"real-vs-cplx\""
   ]
  },
  {
   "cell_type": "markdown",
   "metadata": {},
   "source": [
    "Use raw feaures and compare $\\mathbb{R}$ against $\\tfrac12 \\mathbb{C}$"
   ]
  },
  {
   "cell_type": "code",
   "execution_count": null,
   "metadata": {},
   "outputs": [],
   "source": [
    "from cplxpaper.auto import feeds\n",
    "\n",
    "features = {\n",
    "    \"features__cls\": [str(feeds.FeedRawFeatures),],\n",
    "    \"model__n_channels\": [3],\n",
    "}\n",
    "for data, data_options in dataset_variety.items():\n",
    "    for model_stages in model_variety[\"real\"]:\n",
    "        grid.append({\n",
    "            \"____name__\": [f\"Full real-valued VGG16 on raw {data}\"],\n",
    "            **data_options,\n",
    "            **model_stages,\n",
    "            **features,\n",
    "            \"model__double\": [False],\n",
    "            **base_grid\n",
    "        })\n",
    "\n",
    "# SKIP\n",
    "#     for model_stages in model_variety[\"complex\"]:\n",
    "#         grid.append({\n",
    "#             \"____name__\": [f\"Halved complex-valued VGG16 on raw {data}\"],\n",
    "#             **data_options,\n",
    "#             **model_stages,\n",
    "#             **features,\n",
    "#             \"model__half\": [True],\n",
    "#             \"model__upcast\": [True],\n",
    "#             **base_grid\n",
    "#         })\n",
    "\n",
    "    for model_stages in model_variety[\"complex\"]:\n",
    "        grid.append({\n",
    "            \"____name__\": [f\"Full complex-valued VGG16 on raw {data}\"],\n",
    "            **data_options,\n",
    "            **model_stages,\n",
    "            **features,\n",
    "            \"model__half\": [False],\n",
    "            \"model__upcast\": [True],\n",
    "            **base_grid\n",
    "        })"
   ]
  },
  {
   "cell_type": "markdown",
   "metadata": {},
   "source": [
    "Use Fourier feaures and compare $2 \\mathbb{R}$ against $\\mathbb{C}$"
   ]
  },
  {
   "cell_type": "raw",
   "metadata": {},
   "source": [
    "# SKIP\n",
    "if False:\n",
    "    from cplxpaper.auto import feeds\n",
    "\n",
    "    features = {\n",
    "        \"features__cls\": [str(feeds.FeedFourierFeatures),],\n",
    "        \"features__cplx\": [True],\n",
    "        \"features__shift\": [True],\n",
    "        \"features__signal_ndim\": [2],\n",
    "        \"model__n_channels\": [3],\n",
    "    }\n",
    "    for data, data_options in dataset_variety.items():\n",
    "        for model_stages in model_variety[\"real\"]:\n",
    "            grid.append({\n",
    "                \"____name__\": [f\"Doubled real-valued VGG16 on Fourier features of {data}\"],\n",
    "                **data_options,\n",
    "                **model_stages,\n",
    "                **features,\n",
    "                \"model__n_channels\": [6],\n",
    "                \"model__double\": [True],\n",
    "                **base_grid\n",
    "            })\n",
    "\n",
    "        for model_stages in model_variety[\"complex\"]:\n",
    "            grid.append({\n",
    "                \"____name__\": [f\"Full complex-valued VGG16 on Fourier features of {data}\"],\n",
    "                **data_options,\n",
    "                **model_stages,\n",
    "                **features,\n",
    "                \"model__half\": [False],\n",
    "                \"model__upcast\": [False],\n",
    "                **base_grid\n",
    "            })\n",
    "\n",
    "        for model_stages in model_variety[\"real\"]:\n",
    "            grid.append({\n",
    "                \"____name__\": [f\"Full real-valued VGG16 on Fourier features of {data}\"],\n",
    "                **data_options,\n",
    "                **model_stages,\n",
    "                **features,\n",
    "                \"model__n_channels\": [6],\n",
    "                \"model__double\": [False],\n",
    "                **base_grid\n",
    "            })"
   ]
  },
  {
   "cell_type": "markdown",
   "metadata": {},
   "source": [
    "<br>"
   ]
  },
  {
   "cell_type": "markdown",
   "metadata": {},
   "source": [
    "## Create the grid"
   ]
  },
  {
   "cell_type": "markdown",
   "metadata": {},
   "source": [
    "Create a master folder to house all grid replications."
   ]
  },
  {
   "cell_type": "code",
   "execution_count": null,
   "metadata": {},
   "outputs": [],
   "source": [
    "SUFFIX = \"-short\"\n",
    "\n",
    "base_folder = os.path.normpath(os.path.abspath(f\"./grids{SUFFIX}/\"))\n",
    "os.makedirs(base_folder, exist_ok=False)\n",
    "\n",
    "assert os.path.exists(base_folder) and os.path.isdir(base_folder)"
   ]
  },
  {
   "cell_type": "markdown",
   "metadata": {},
   "source": [
    "Repeat the experiment 5 times"
   ]
  },
  {
   "cell_type": "code",
   "execution_count": null,
   "metadata": {},
   "outputs": [],
   "source": [
    "n_replications = 5"
   ]
  },
  {
   "cell_type": "markdown",
   "metadata": {},
   "source": [
    "Write experiment manifest en-masse: put each replication in a separate folder"
   ]
  },
  {
   "cell_type": "code",
   "execution_count": null,
   "metadata": {},
   "outputs": [],
   "source": [
    "import tqdm\n",
    "from sklearn.model_selection import ParameterGrid\n",
    "\n",
    "folders = []\n",
    "for replication in range(n_replications):\n",
    "    folder = os.path.join(base_folder, f\"cifar10__{tag}__{replication:02d}\")\n",
    "    os.makedirs(folder, exist_ok=False)\n",
    "\n",
    "    for exp_no, par in enumerate(tqdm.tqdm(ParameterGrid(grid))):\n",
    "        par, special = special_params(**par)\n",
    "\n",
    "        local = set_params(copy.deepcopy(options), **par, device=None)\n",
    "        local.update(special)\n",
    "\n",
    "        # format the name\n",
    "        filename = os.path.join(folder, f\"experiment__{exp_no:05d}.json\")\n",
    "        json.dump(local, open(filename, \"w\"), indent=2)\n",
    "\n",
    "    folders.append(folder)"
   ]
  },
  {
   "cell_type": "markdown",
   "metadata": {},
   "source": [
    "Create a bash script for this grid"
   ]
  },
  {
   "cell_type": "code",
   "execution_count": null,
   "metadata": {},
   "outputs": [],
   "source": [
    "import stat\n",
    "\n",
    "devspec = \"\"\"--devices \"cuda:0\" \"cuda:1\" \"cuda:2\" \"cuda:3\" --per-device 2\"\"\"\n",
    "bash = os.path.join(base_folder, \"cifar.sh\")\n",
    "with open(bash, \"w\") as fout:\n",
    "    # experiment execution\n",
    "    for folder in map(os.path.abspath, folders):\n",
    "        fout.write(f\"\"\"python -m cplxpaper.auto {devspec} \"{folder}\"\\n\"\"\")\n",
    "\n",
    "    # report analysis\n",
    "    paths = '\" \"'.join(map(os.path.abspath, folders))\n",
    "    output = os.path.join(base_folder, \"report__trade-off.pk\")\n",
    "    fout.write(f\"\"\"python -m cplxpaper.auto.reports {devspec} \"trade-off\" \"{output}\" \"{paths}\"\\n\"\"\")\n",
    "\n",
    "# allow exc and keep r/w\n",
    "os.chmod(bash, stat.S_IXUSR | stat.S_IRUSR | stat.S_IWUSR)\n",
    "\n",
    "bash"
   ]
  },
  {
   "cell_type": "code",
   "execution_count": null,
   "metadata": {},
   "outputs": [],
   "source": [
    "assert False"
   ]
  },
  {
   "cell_type": "markdown",
   "metadata": {},
   "source": [
    "<br>"
   ]
  }
 ],
 "metadata": {
  "kernelspec": {
   "display_name": "Python 3",
   "language": "python",
   "name": "python3"
  },
  "language_info": {
   "codemirror_mode": {
    "name": "ipython",
    "version": 3
   },
   "file_extension": ".py",
   "mimetype": "text/x-python",
   "name": "python",
   "nbconvert_exporter": "python",
   "pygments_lexer": "ipython3",
   "version": "3.8.1"
  }
 },
 "nbformat": 4,
 "nbformat_minor": 2
}
