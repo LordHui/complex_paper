{
 "cells": [
  {
   "cell_type": "markdown",
   "metadata": {},
   "source": [
    "# Preparing `fig:figure__cplx-gaussian`"
   ]
  },
  {
   "cell_type": "markdown",
   "metadata": {},
   "source": [
    "[Campese (2015)](http://arxiv.org/abs/1511.00547) is a good reference for $\\mathbb{C}$-related stuff: Gaussian and Wirtinger derivatives."
   ]
  },
  {
   "cell_type": "code",
   "execution_count": null,
   "metadata": {},
   "outputs": [],
   "source": [
    "import numpy as np\n",
    "\n",
    "%matplotlib inline\n",
    "import matplotlib.pyplot as plt"
   ]
  },
  {
   "cell_type": "markdown",
   "metadata": {},
   "source": [
    "A $z \\in \\mathbb{C}^m$ is a $\\mathbb{C}$ gaussian vector iff\n",
    "$$  \\label{eq:cn-paired-real-density}\n",
    "\\begin{pmatrix}\n",
    "  \\Re z \\\\ \\Im z\n",
    "\\end{pmatrix}\n",
    "  \\sim \\mathcal{N}_{2 m}\\biggl(\n",
    "    \\begin{pmatrix}\n",
    "      \\Re \\mu \\\\ \\Im \\mu\n",
    "    \\end{pmatrix},\n",
    "    \\frac12\n",
    "      \\begin{pmatrix}\n",
    "        \\Re{(\\Gamma + C)} & \\Im{(C - \\Gamma)} \\\\\n",
    "        \\Im{(\\Gamma + C)} & \\Re{(\\Gamma - C)}\n",
    "      \\end{pmatrix}\n",
    "  \\biggr)\n",
    "  \\,,\n",
    "$$\n",
    "with $\\mu \\in \\mathbb{C}^m$, $\\Gamma, C \\in \\mathbb{C}^{m\\times m}$,\n",
    "$\\Gamma \\succeq 0$, $\\Gamma = \\overline{\\Gamma}^\\top$, $C = C^\\top$ and $\n",
    "  \\overline{\\Gamma} \\succeq \\overline{C}^\\top \\Gamma^{-1} C\n",
    "$."
   ]
  },
  {
   "cell_type": "markdown",
   "metadata": {},
   "source": [
    "A univariate complex Gaussian $\n",
    "    z\\sim \\mathcal{CN}(\n",
    "        z \\mid \\mu, \\sigma^2, \\gamma\n",
    "    )\n",
    "$ iff\n",
    "$$  % \\label{eq:cn-paired-real-density}\n",
    "\\begin{pmatrix}\n",
    "  \\Re z \\\\ \\Im z\n",
    "\\end{pmatrix}\n",
    "  \\sim \\mathcal{N}_{2}\\biggl(\n",
    "    \\begin{pmatrix}\n",
    "      \\Re \\mu \\\\ \\Im \\mu\n",
    "    \\end{pmatrix},\n",
    "    \\frac12\n",
    "      \\begin{pmatrix}\n",
    "        \\sigma^2 + \\Re{\\gamma} & \\Im{\\gamma} \\\\\n",
    "        \\Im{\\gamma} & \\sigma^2 - \\Re{\\gamma}\n",
    "      \\end{pmatrix}\n",
    "  \\biggr)\n",
    "  \\,,\n",
    "$$\n",
    "\n",
    "with $\\mu, \\gamma \\in \\mathbb{C}$ and $\n",
    "  \\sigma^2 \\geq \\lvert \\gamma \\rvert\n",
    "$."
   ]
  },
  {
   "cell_type": "markdown",
   "metadata": {},
   "source": [
    "Let $\\gamma = \\sigma^2 \\eta e^{i \\phi}$, with $\\lvert \\eta \\rvert \\leq 1$.\n",
    "Then $\n",
    "    z\\sim \\mathcal{CN}(z\\mid\\mu, \\sigma^2, \\gamma)\n",
    "$ is equivalent to\n",
    "\n",
    "$$  % \\label{eq:cn-paired-real-density}\n",
    "\\begin{pmatrix}\n",
    "  \\Re z \\\\ \\Im z\n",
    "\\end{pmatrix}\n",
    "  \\sim \\mathcal{N}_{2}\\biggl(\n",
    "    \\begin{pmatrix}\n",
    "      \\Re \\mu \\\\ \\Im \\mu\n",
    "    \\end{pmatrix},\n",
    "    \\frac{\\sigma^2}2\n",
    "      \\begin{pmatrix}\n",
    "        1 + \\eta \\cos\\phi & \\eta \\sin\\phi \\\\\n",
    "        \\eta \\sin\\phi & 1 - \\eta \\cos\\phi\n",
    "      \\end{pmatrix}\n",
    "  \\biggr)\n",
    "  \\,.\n",
    "$$\n"
   ]
  },
  {
   "cell_type": "markdown",
   "metadata": {},
   "source": [
    "Consdier a standard zero-mean $\\mathbb{C}$-Gaussian rv ($\\mu=0$, $\\sigma^2=1$,\n",
    "$\\eta\\in [-1, 1]$ and $\\phi \\in [-\\pi, +\\pi]$). Then $\n",
    "    \\mathcal{CN}(0, 1, \\eta e^{i\\phi})\n",
    "$ is equivalent in distribution to a Gaussain $\\mathbb{R}^2$ rv with density:\n",
    "\n",
    "$$  % \\label{eq:cn-paired-real-density}\n",
    "\\mathcal{N}_{2}\\biggl(\n",
    "    0,\n",
    "    \\frac12\n",
    "      \\begin{pmatrix}\n",
    "        1 + \\eta \\cos\\phi & \\eta \\sin\\phi \\\\\n",
    "        \\eta \\sin\\phi & 1 - \\eta \\cos\\phi\n",
    "      \\end{pmatrix}\n",
    "  \\biggr)\n",
    "\\,.\n",
    "$$\n"
   ]
  },
  {
   "cell_type": "code",
   "execution_count": null,
   "metadata": {},
   "outputs": [],
   "source": [
    "def cov(eta, phi):\n",
    "    ''' Cov matrix for geometric eqivalent of univariate complex gaissian rv.'''\n",
    "    s, c = np.sin(phi), np.cos(phi)\n",
    "    return 0.5 * (np.eye(2) + eta * np.c_[[c,  s], [s, -c]])"
   ]
  },
  {
   "cell_type": "markdown",
   "metadata": {},
   "source": [
    "A Cholesky factor of a $\\mathbb{R}$ $2\\times 2$ matrix $\n",
    "    M = \\begin{pmatrix} a & b \\\\ c & d\\end{pmatrix}\n",
    "$ is\n",
    "$$\n",
    "\\sqrt{M}\n",
    "  = \\frac1{t} \\begin{pmatrix}\n",
    "    a + s & b \\\\ c & d + s\n",
    "  \\end{pmatrix}\n",
    "  \\,, $$\n",
    "for $s = \\sqrt{ad - bc}$ and $t = \\sqrt{a + d + 2 s}$\n",
    "<!-- det \\sqrt{M} = t^{-2} (ad + s(d + a) + s^2 - bc) = s -->"
   ]
  },
  {
   "cell_type": "code",
   "execution_count": null,
   "metadata": {},
   "outputs": [],
   "source": [
    "def sqrt_cov(eta, phi):\n",
    "    '''Closed form for R with M = RR. R is symmetric whenever M is.'''\n",
    "    s, c = np.sin(phi), np.cos(phi)\n",
    "    # emm = 1/2 * np.c_[[1 + eta * c,  eta * s], [eta * s, 1 - eta * c]]\n",
    "\n",
    "    ss = np.sqrt(1 - eta * eta)\n",
    "    tt = np.sqrt(1 + ss)\n",
    "    return 0.5 * np.c_[\n",
    "        [1 + eta * c + ss, eta * s],\n",
    "        [eta * s, 1 - eta * c + ss],\n",
    "    ] / tt"
   ]
  },
  {
   "cell_type": "markdown",
   "metadata": {},
   "source": [
    "Verifying:\n",
    "$$\n",
    "\\frac1{t^2} \\begin{pmatrix}\n",
    "    a + s & b \\\\ c & d + s\n",
    "  \\end{pmatrix} \\begin{pmatrix}\n",
    "    a + s & b \\\\ c & d + s\n",
    "  \\end{pmatrix}\n",
    "  = \\frac1{t^2} \\begin{pmatrix}\n",
    "    (a + s)^2 + b c\n",
    "        & (a + s) b + b (d + s) \\\\\n",
    "     c (a + s) + (d + s) c\n",
    "        & c b + (d + s)^2\n",
    "  \\end{pmatrix}\n",
    "%   = \\frac1{a + d + 2 s} \\begin{pmatrix}\n",
    "%     (a + s)^2 + b c\n",
    "%         & (a + s) b + b (d + s) \\\\\n",
    "%      c (a + s) + (d + s) c\n",
    "%         & c b + (d + s)^2\n",
    "%   \\end{pmatrix}\n",
    "%   = \\frac1{a + d + 2 s} \\begin{pmatrix}\n",
    "%     a^2 + 2 a s + s^2 + b c\n",
    "%         & a b + s b + b d + b s \\\\\n",
    "%      c a + c s + d c + s c\n",
    "%         & c b + d^2 + 2 s d + s^2\n",
    "%   \\end{pmatrix}\n",
    "%   = \\frac1{a + d + 2 s} \\begin{pmatrix}\n",
    "%     a^2 + 2 a s + a d\n",
    "%         & a b + s b + b d + b s \\\\\n",
    "%      c a + c s + d c + s c\n",
    "%         & d^2 + 2 s d + a d\n",
    "%   \\end{pmatrix}\n",
    "  = \\frac1{a + d + 2 s} \\begin{pmatrix}\n",
    "    a (a + 2 s + d)\n",
    "        & (a + s + d + s) b  \\\\\n",
    "     (a + s + d + s) c\n",
    "        & (d + 2 s + a) d\n",
    "  \\end{pmatrix}\n",
    "\\,. $$"
   ]
  },
  {
   "cell_type": "code",
   "execution_count": null,
   "metadata": {},
   "outputs": [],
   "source": [
    "from itertools import product\n",
    "\n",
    "for eta, phi in product(np.linspace(-1, +1, num=101),\n",
    "                        np.linspace(-1, +1, num=101) * np.pi):\n",
    "\n",
    "    C = sqrt_cov(eta, phi)\n",
    "    assert np.allclose(C @ C, cov(eta, phi))"
   ]
  },
  {
   "cell_type": "markdown",
   "metadata": {},
   "source": [
    "<br>"
   ]
  },
  {
   "cell_type": "markdown",
   "metadata": {},
   "source": [
    "A handy standard cplx-gausain generator"
   ]
  },
  {
   "cell_type": "code",
   "execution_count": null,
   "metadata": {},
   "outputs": [],
   "source": [
    "def cplx_stdgauss(*shape, eta=0., phi=0.):\n",
    "    z = np.random.randn(*shape, 2)\n",
    "    re_im = z @ sqrt_cov(eta, phi)\n",
    "    return re_im[..., 0] + 1j * re_im[..., 1]\n"
   ]
  },
  {
   "cell_type": "markdown",
   "metadata": {},
   "source": [
    "A small \"grid\" of $\\eta$ and $\\phi$ for illustration"
   ]
  },
  {
   "cell_type": "code",
   "execution_count": null,
   "metadata": {},
   "outputs": [],
   "source": [
    "# etas, phis = np.r_[0., +0.5, +1.], np.r_[0., +0.5, +1.] * np.pi\n",
    "# etas, phis = np.r_[0.25, +0.95, +.99], np.r_[0., np.pi / 6, np.pi / 2]\n",
    "etas, phis = np.r_[0.25, +0.95, +.99], np.r_[-45, 0, 90]\n",
    "\n",
    "common = np.random.randn(10000, 2)"
   ]
  },
  {
   "cell_type": "markdown",
   "metadata": {},
   "source": [
    "An excessive plot"
   ]
  },
  {
   "cell_type": "code",
   "execution_count": null,
   "metadata": {},
   "outputs": [],
   "source": [
    "xlim, ylim = (-2, +2), (-2, +2)\n",
    "\n",
    "fig, axes = plt.subplots(3, 3, figsize=(4.5, 4.5), squeeze=False, sharex=True, sharey=True,\n",
    "                        subplot_kw=dict(xlim=xlim, xticks=[], ylim=ylim, yticks=[]), dpi=300)\n",
    "# fig.patch.set_alpha(1.)\n",
    "\n",
    "for row, eta in zip(axes, etas):\n",
    "    row[0].set_ylabel(rf'$\\eta \\approx {eta:.1f}$')\n",
    "    for ax, phi in zip(row, phis):\n",
    "        # z = cplx_stdgauss(10000, eta=eta, phi=phi)\n",
    "        re_im = common @ sqrt_cov(eta, phi * np.pi / 180)\n",
    "        z = re_im[..., 0] + 1j * re_im[..., 1]  # + (1j - 1)*.5\n",
    "\n",
    "        ax.hist2d(z.real, z.imag, bins=51, cmap=plt.cm.hot,\n",
    "                  range=[xlim, ylim])\n",
    "#         ax.hexbin(z.real, z.imag, gridsize=51, cmap=plt.cm.hot,\n",
    "#                   extent=(*xlim, *ylim))  # (left, right, bottom, top)\n",
    "\n",
    "# last row creates x-labels\n",
    "for ax, phi in zip(row, phis):\n",
    "    ax.set_xlabel(rf'$\\phi \\approx {phi:.0f}^\\circ$')\n",
    "\n",
    "# title = r'$\\mathbb{C}\\mathcal{N}(0, 1, \\eta e^{\\jmath \\phi})$'\n",
    "# fig.text(0.125, 1.025, title, ha='center', size='xx-large')\n",
    "\n",
    "plt.tight_layout(pad=-.15, rect=(0, 0, 0.92, 0.92))\n",
    "fig.text(0.50, 0.935, 'real', ha='center', size='xx-large')\n",
    "fig.text(0.93, 0.50, 'imag', va='center', size='xx-large', rotation=270)\n",
    "\n",
    "plt.savefig('../../assets/figure__cplx_gaussian.pdf', dpi=300)"
   ]
  },
  {
   "cell_type": "markdown",
   "metadata": {},
   "source": [
    "<br>"
   ]
  },
  {
   "cell_type": "code",
   "execution_count": null,
   "metadata": {},
   "outputs": [],
   "source": [
    "assert False"
   ]
  }
 ],
 "metadata": {
  "kernelspec": {
   "display_name": "Python 3",
   "language": "python",
   "name": "python3"
  },
  "language_info": {
   "codemirror_mode": {
    "name": "ipython",
    "version": 3
   },
   "file_extension": ".py",
   "mimetype": "text/x-python",
   "name": "python",
   "nbconvert_exporter": "python",
   "pygments_lexer": "ipython3",
   "version": "3.8.1"
  }
 },
 "nbformat": 4,
 "nbformat_minor": 4
}
