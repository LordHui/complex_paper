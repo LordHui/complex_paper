{
 "cells": [
  {
   "cell_type": "markdown",
   "metadata": {},
   "source": [
    "# check stft and fft"
   ]
  },
  {
   "cell_type": "code",
   "execution_count": null,
   "metadata": {},
   "outputs": [],
   "source": [
    "import os\n",
    "import numpy as np"
   ]
  },
  {
   "cell_type": "code",
   "execution_count": null,
   "metadata": {},
   "outputs": [],
   "source": [
    "%matplotlib inline\n",
    "import matplotlib.pyplot as plt"
   ]
  },
  {
   "cell_type": "code",
   "execution_count": null,
   "metadata": {},
   "outputs": [],
   "source": [
    "import torch\n",
    "import torch.nn.functional as F"
   ]
  },
  {
   "cell_type": "code",
   "execution_count": null,
   "metadata": {},
   "outputs": [],
   "source": [
    "from scipy.signal import stft\n",
    "from scipy.fftpack import fft, fftshift"
   ]
  },
  {
   "cell_type": "code",
   "execution_count": null,
   "metadata": {},
   "outputs": [],
   "source": [
    "import h5py\n",
    "from cplxpaper.musicnet import MusicNetHDF5"
   ]
  },
  {
   "cell_type": "code",
   "execution_count": null,
   "metadata": {},
   "outputs": [],
   "source": [
    "h5_in = h5py.File(\"./data/musicnet_11khz_valid.h5\", \"r\")\n",
    "dataset = MusicNetHDF5(h5_in, window=4096, stride=512, at=None)"
   ]
  },
  {
   "cell_type": "markdown",
   "metadata": {},
   "source": [
    "From around [dataset.py#L179](https://github.com/ChihebTrabelsi/deep_complex_networks/blob/master/musicnet/musicnet/dataset.py#L179)\n",
    "```python\n",
    "def aggregate_raw_batch(features, output, kind=None, cplx=True):\n",
    "    n_samples, n_window, n_one = features.shape\n",
    "    assert n_one == 1\n",
    "\n",
    "    n_channels = 2 if cplx else 1\n",
    "    features_out = np.zeros([n_samples, n_window, n_channels])\n",
    "\n",
    "    if kind == \"fourier\":\n",
    "        if cplx:\n",
    "            data = fft(features, axis=1)\n",
    "            features_out[:, :, 0] = np.real(data[:, :, 0])\n",
    "            features_out[:, :, 1] = np.imag(data[:, :, 0])\n",
    "\n",
    "        else:\n",
    "            data = np.abs(fft(features, axis=1))\n",
    "            features_out = data\n",
    "\n",
    "    elif kind == \"stft\":\n",
    "        #  scipy.signal.stft: `... the last axis ... corresponds to the segment times`.\n",
    "        _, _, data = stft(features, nperseg=120, noverlap=60, axis=1)\n",
    "        length = data.shape[1]\n",
    "        n_feats = data.shape[3]\n",
    "\n",
    "        if cplx:\n",
    "            features_out = np.zeros([n_samples, length, n_feats * 2])\n",
    "            features_out[:, :, :n_feats] = np.real(data)  # <- data is 4d\n",
    "            features_out[:, :, n_feats:] = np.imag(data)\n",
    "\n",
    "        else:\n",
    "            features_out = np.abs(data[:, :, 0, :])\n",
    "\n",
    "    else:\n",
    "        features_out = features  # <- references a new object, does not overwrite contents \n",
    "\n",
    "    return features_out, output\n",
    "\n",
    "\n",
    "def train_iterator(self, **kwargs):\n",
    "    features = np.zeros([len(self.keys), self.window])\n",
    "    if True:\n",
    "        output = np.zeros([len(self.keys), self.n_outputs])\n",
    "        for j, key in enumerate(self.keys):\n",
    "            features[j], output[j] = self[np.random.randint(*self.limits[key])]\n",
    "\n",
    "        yield aggregate_raw_batch(features[:, :, None], output, **kwargs)\n",
    "```"
   ]
  },
  {
   "cell_type": "markdown",
   "metadata": {},
   "source": [
    "Rewritten"
   ]
  },
  {
   "cell_type": "code",
   "execution_count": null,
   "metadata": {},
   "outputs": [],
   "source": [
    "def aggregate_raw_batch(features, output, kind=None, cplx=True, dim_fix=False):\n",
    "    if kind == \"fourier\":\n",
    "        data = fft(features, axis=1)\n",
    "\n",
    "    elif kind == \"stft\":\n",
    "        _, _, data = stft(features[:, :, 0], nperseg=120, noverlap=60, axis=-1)\n",
    "        if dim_fix:\n",
    "            # shuffle freq and time dims, so that re-im freqs are concatenated\n",
    "            data = data.transpose(0, 2, 1)\n",
    "\n",
    "    else:\n",
    "        data = features\n",
    "\n",
    "    if cplx:\n",
    "        features_out = np.concatenate([data.real, data.imag], axis=-1)\n",
    "\n",
    "    elif kind == \"fourier\" or kind == \"stft\":\n",
    "        features_out = abs(data)\n",
    "\n",
    "    else:\n",
    "        features_out = data\n",
    "\n",
    "    return features_out, output\n",
    "\n",
    "\n",
    "def train_iterator(self, **kwargs):\n",
    "    if True:\n",
    "        # rig the RNG\n",
    "        features, output = map(np.stack, zip(*(\n",
    "            self[np.random.RandomState(111111).randint(*self.limits[key])]\n",
    "            for key in self.keys\n",
    "        )))\n",
    "\n",
    "        yield aggregate_raw_batch(features[..., np.newaxis], output, **kwargs)"
   ]
  },
  {
   "cell_type": "code",
   "execution_count": null,
   "metadata": {},
   "outputs": [],
   "source": [
    "from sklearn.model_selection import ParameterGrid\n",
    "\n",
    "grid = ParameterGrid({\n",
    "    \"kind\": [None, \"fourier\", \"stft\"],\n",
    "    \"cplx\": [False, True],\n",
    "    \"dim_fix\": [True]\n",
    "})"
   ]
  },
  {
   "cell_type": "code",
   "execution_count": null,
   "metadata": {},
   "outputs": [],
   "source": [
    "shapes = []\n",
    "for par in grid:\n",
    "    bx, by = next(train_iterator(dataset, **par))\n",
    "    shapes.append((par, bx.shape, bx[0, :5, :2]))"
   ]
  },
  {
   "cell_type": "code",
   "execution_count": null,
   "metadata": {
    "scrolled": false
   },
   "outputs": [],
   "source": [
    "shapes"
   ]
  },
  {
   "cell_type": "code",
   "execution_count": null,
   "metadata": {
    "scrolled": true
   },
   "outputs": [],
   "source": [
    "n_len, n_wnd, n_ovr = 40, 33, 32\n",
    "padded, boundary = True, \"zeros\"\n",
    "padded, boundary = False, \"zeros\"\n",
    "padded, boundary = True, None\n",
    "padded, boundary = False, None\n",
    "\n",
    "for n_len in range(40, 121):\n",
    "    _, _, z = stft(np.r_[:n_len], nperseg=n_wnd, noverlap=n_ovr, boundary=boundary, padded=padded)\n",
    "    ll = z.shape[-1]\n",
    "\n",
    "    if padded:\n",
    "        n_len = n_len + (-(n_len - n_wnd) % (n_wnd - n_ovr)) % n_wnd\n",
    "    \n",
    "    if boundary is not None:\n",
    "        n_len += 2 * (n_wnd // 2)\n",
    "    \n",
    "    assert ll == ((n_len - n_ovr) // (n_wnd - n_ovr))"
   ]
  },
  {
   "cell_type": "markdown",
   "metadata": {},
   "source": [
    "<br>"
   ]
  }
 ],
 "metadata": {
  "kernelspec": {
   "display_name": "Python 3",
   "language": "python",
   "name": "python3"
  },
  "language_info": {
   "codemirror_mode": {
    "name": "ipython",
    "version": 3
   },
   "file_extension": ".py",
   "mimetype": "text/x-python",
   "name": "python",
   "nbconvert_exporter": "python",
   "pygments_lexer": "ipython3",
   "version": "3.7.4"
  }
 },
 "nbformat": 4,
 "nbformat_minor": 2
}
