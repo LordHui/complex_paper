{
 "cells": [
  {
   "cell_type": "markdown",
   "metadata": {},
   "source": [
    "# Simple MusicNet Visualizer for Fun"
   ]
  },
  {
   "cell_type": "code",
   "execution_count": null,
   "metadata": {},
   "outputs": [],
   "source": [
    "%matplotlib inline\n",
    "import matplotlib.pyplot as plt"
   ]
  },
  {
   "cell_type": "markdown",
   "metadata": {},
   "source": [
    "Load the dataset and set the sampling rate (for plot aesthetics)."
   ]
  },
  {
   "cell_type": "code",
   "execution_count": null,
   "metadata": {},
   "outputs": [],
   "source": [
    "import h5py\n",
    "from cplxpaper.musicnet import MusicNetHDF5\n",
    "\n",
    "\n",
    "h5_in = h5py.File(\"../musicnet/data/musicnet_11khz_test.h5\", \"r\")\n",
    "fs = 11000\n",
    "\n",
    "dataset = MusicNetHDF5(h5_in, window=4096, stride=512, at=None, resident=True)"
   ]
  },
  {
   "cell_type": "markdown",
   "metadata": {},
   "source": [
    "Create an interactive spectrogram of the dataset."
   ]
  },
  {
   "cell_type": "code",
   "execution_count": null,
   "metadata": {},
   "outputs": [],
   "source": [
    "from ipywidgets import widgets"
   ]
  },
  {
   "cell_type": "markdown",
   "metadata": {},
   "source": [
    "Populate the `w_keys` combobox with composition IDs."
   ]
  },
  {
   "cell_type": "code",
   "execution_count": null,
   "metadata": {},
   "outputs": [],
   "source": [
    "w_keys = widgets.Dropdown(options=dir(dataset))"
   ]
  },
  {
   "cell_type": "markdown",
   "metadata": {},
   "source": [
    "Create the `w_sample` integer slider."
   ]
  },
  {
   "cell_type": "code",
   "execution_count": null,
   "metadata": {},
   "outputs": [],
   "source": [
    "def int_slider(min, max, step, value=None, continuous_update=True):\n",
    "    layout = widgets.Layout(min_width='500px', display='flex')\n",
    "    value = min if value is None else min\n",
    "    return widgets.IntSlider(min=min, max=max, step=step,value=value,\n",
    "                             continuous_update=continuous_update, layout=layout)\n",
    "\n",
    "w_sample = int_slider(0, 1, 1)"
   ]
  },
  {
   "cell_type": "markdown",
   "metadata": {},
   "source": [
    "Change the `w_sample` slider parameters on update event of the `w_keys.value` combo."
   ]
  },
  {
   "cell_type": "code",
   "execution_count": null,
   "metadata": {
    "scrolled": true
   },
   "outputs": [],
   "source": [
    "def update_w_sample(*args):\n",
    "    beg, end = dataset.limits[w_keys.value]\n",
    "    w_sample.max = end - beg\n",
    "    w_sample.value = min(end - beg, max(0, w_sample.value))\n",
    "\n",
    "w_keys.observe(update_w_sample, 'value')\n",
    "\n",
    "# the first update initializes the slider properly\n",
    "update_w_sample()"
   ]
  },
  {
   "cell_type": "markdown",
   "metadata": {},
   "source": [
    "<hr>"
   ]
  },
  {
   "cell_type": "markdown",
   "metadata": {},
   "source": [
    "<br>"
   ]
  },
  {
   "cell_type": "code",
   "execution_count": null,
   "metadata": {},
   "outputs": [],
   "source": [
    "from scipy.signal import stft\n",
    "from scipy.fftpack import fft, fftshift\n",
    "\n",
    "\n",
    "@widgets.interact(key=w_keys, ix=w_sample, fs=widgets.fixed(11000))\n",
    "def draw(key, ix, fs=11000):\n",
    "    beg, end = dataset.limits[key]\n",
    "    data, labels = dataset[ix + beg]\n",
    "    \n",
    "    t0 = ix * dataset.stride / fs\n",
    "\n",
    "    f, t, z = stft(data, fs=fs, nperseg=120, noverlap=60, axis=-1)\n",
    "\n",
    "    fig, ax = plt.subplots(1, 1, figsize=(12, 3))\n",
    "\n",
    "    ax.pcolormesh(t0 + t, f, abs(z), vmin=0, cmap=plt.cm.jet)\n",
    "    ax.set_title(f'STFT Magnitude {key}')\n",
    "    ax.set_ylabel('Frequency [Hz]')\n",
    "    ax.set_xlabel('Time [sec]')\n",
    "\n",
    "    plt.show()"
   ]
  },
  {
   "cell_type": "markdown",
   "metadata": {},
   "source": [
    "<br>"
   ]
  },
  {
   "cell_type": "markdown",
   "metadata": {},
   "source": [
    "<hr>"
   ]
  },
  {
   "cell_type": "markdown",
   "metadata": {},
   "source": [
    "## Test HDF5 feed speed"
   ]
  },
  {
   "cell_type": "code",
   "execution_count": null,
   "metadata": {},
   "outputs": [],
   "source": [
    "import torch\n",
    "import torch.nn.functional as F"
   ]
  },
  {
   "cell_type": "code",
   "execution_count": null,
   "metadata": {},
   "outputs": [],
   "source": [
    "import tqdm\n",
    "\n",
    "feed = torch.utils.data.DataLoader(dataset, batch_size=512, shuffle=False,\n",
    "                                   pin_memory=True)\n",
    "\n",
    "for bx, by in tqdm.tqdm(feed):\n",
    "    pass"
   ]
  },
  {
   "cell_type": "markdown",
   "metadata": {},
   "source": [
    "## Test random access to HDF5 file\n",
    "\n",
    "Not applicable if `resident=True`."
   ]
  },
  {
   "cell_type": "code",
   "execution_count": null,
   "metadata": {},
   "outputs": [],
   "source": [
    "import numpy as np"
   ]
  },
  {
   "cell_type": "markdown",
   "metadata": {},
   "source": [
    "Compare random access to objects and labels (NLCS)"
   ]
  },
  {
   "cell_type": "code",
   "execution_count": null,
   "metadata": {},
   "outputs": [],
   "source": [
    "cache = dataset\n",
    "objects, labels, window = cache.objects, cache.labels, cache.window"
   ]
  },
  {
   "cell_type": "markdown",
   "metadata": {},
   "source": [
    "Prepare indices and pointers"
   ]
  },
  {
   "cell_type": "code",
   "execution_count": null,
   "metadata": {},
   "outputs": [],
   "source": [
    "lengths = np.r_[list(map(len, objects))]\n",
    "indptr = np.r_[0, lengths.cumsum()]\n",
    "\n",
    "indices = np.random.randint(indptr[-1], size=1000)\n",
    "\n",
    "lookup = indptr.searchsorted(indices, side=\"right\") - 1\n",
    "assert np.all(0 <= lookup) and np.all(lookup < len(objects))\n",
    "\n",
    "ix_access = np.minimum(indices - indptr[lookup], lengths[lookup] - window)"
   ]
  },
  {
   "cell_type": "markdown",
   "metadata": {},
   "source": [
    "### Data access"
   ]
  },
  {
   "cell_type": "markdown",
   "metadata": {},
   "source": [
    "Measure copy and indexing"
   ]
  },
  {
   "cell_type": "code",
   "execution_count": null,
   "metadata": {},
   "outputs": [],
   "source": [
    "out = np.empty(window)\n",
    "zeros = np.zeros(window)"
   ]
  },
  {
   "cell_type": "code",
   "execution_count": null,
   "metadata": {},
   "outputs": [],
   "source": [
    "%%timeit -n 100\n",
    "for key, ix in zip(lookup, ix_access):\n",
    "    obj = objects[key]\n",
    "    out[:] = zeros[:]"
   ]
  },
  {
   "cell_type": "code",
   "execution_count": null,
   "metadata": {
    "scrolled": true
   },
   "outputs": [],
   "source": [
    "%%timeit -n 10\n",
    "for key, ix in zip(lookup, ix_access):\n",
    "    obj = objects[key]\n",
    "    out[:] = obj[ix:ix+window]"
   ]
  },
  {
   "cell_type": "markdown",
   "metadata": {},
   "source": [
    "### Label access"
   ]
  },
  {
   "cell_type": "code",
   "execution_count": null,
   "metadata": {},
   "outputs": [],
   "source": [
    "out = np.empty(84)"
   ]
  },
  {
   "cell_type": "code",
   "execution_count": null,
   "metadata": {},
   "outputs": [],
   "source": [
    "%%timeit -n 1000\n",
    "for key, ix in zip(lookup, ix_access):\n",
    "    lab = labels[key]\n",
    "    zeros = np.zeros(84)\n",
    "    pass\n",
    "    out[:] = zeros[:]"
   ]
  },
  {
   "cell_type": "code",
   "execution_count": null,
   "metadata": {},
   "outputs": [],
   "source": [
    "%%timeit -n 100\n",
    "for key, ix in zip(lookup, ix_access):\n",
    "    lab = labels[key]\n",
    "    zeros = np.zeros(84)\n",
    "    for a, b, i in lab.find_overlap(ix, ix+1):\n",
    "        zeros[i] = 1\n",
    "    out[:] = zeros[:]"
   ]
  },
  {
   "cell_type": "code",
   "execution_count": null,
   "metadata": {},
   "outputs": [],
   "source": [
    "%%timeit -n 100\n",
    "for key, ix in zip(lookup, ix_access):\n",
    "    lab = labels[key]\n",
    "    ind = [i for _, _, i in lab.find_overlap(ix, ix+1)]\n",
    "    out[:] = np.bincount(ind, minlength=84) > 0"
   ]
  },
  {
   "cell_type": "markdown",
   "metadata": {},
   "source": [
    "<hr>"
   ]
  },
  {
   "cell_type": "code",
   "execution_count": null,
   "metadata": {},
   "outputs": [],
   "source": [
    "dir(cache)"
   ]
  },
  {
   "cell_type": "code",
   "execution_count": null,
   "metadata": {},
   "outputs": [],
   "source": [
    "for key in dir(cache):\n",
    "    result = cache[slice(*cache.limits[key])]\n",
    "    assert np.allclose(cache[key], result)"
   ]
  },
  {
   "cell_type": "code",
   "execution_count": null,
   "metadata": {},
   "outputs": [],
   "source": [
    "%%timeit\n",
    "chunk = cache['id_1759']"
   ]
  },
  {
   "cell_type": "code",
   "execution_count": null,
   "metadata": {},
   "outputs": [],
   "source": [
    "%%timeit\n",
    "result = cache[slice(*cache.limits['id_1759'])]"
   ]
  },
  {
   "cell_type": "markdown",
   "metadata": {},
   "source": [
    "<br>"
   ]
  }
 ],
 "metadata": {
  "kernelspec": {
   "display_name": "Python 3",
   "language": "python",
   "name": "python3"
  },
  "language_info": {
   "codemirror_mode": {
    "name": "ipython",
    "version": 3
   },
   "file_extension": ".py",
   "mimetype": "text/x-python",
   "name": "python",
   "nbconvert_exporter": "python",
   "pygments_lexer": "ipython3",
   "version": "3.7.4"
  }
 },
 "nbformat": 4,
 "nbformat_minor": 2
}
