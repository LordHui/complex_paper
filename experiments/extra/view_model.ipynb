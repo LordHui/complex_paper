{
 "cells": [
  {
   "cell_type": "markdown",
   "metadata": {},
   "source": [
    "# Model viewer"
   ]
  },
  {
   "cell_type": "code",
   "execution_count": null,
   "metadata": {},
   "outputs": [],
   "source": [
    "import os\n",
    "\n",
    "import torch\n",
    "import numpy as np\n",
    "\n",
    "%matplotlib inline\n",
    "import matplotlib.pyplot as plt"
   ]
  },
  {
   "cell_type": "markdown",
   "metadata": {},
   "source": [
    "Pick a snapshot."
   ]
  },
  {
   "cell_type": "code",
   "execution_count": null,
   "metadata": {},
   "outputs": [],
   "source": [
    "snapshot = \"\"\"./runs/grid_cplx_fine_kl_div/musicnet[000]-011/1-sparsify 20200112-023551.gz\"\"\"\n",
    "# snapshot = \"\"\"../mnist/grids/sum__fashion-mnist/cplx__simpleconv__cplx-fft-raw__0__0022/1-sparsify 20200105-183555.gz\"\"\""
   ]
  },
  {
   "cell_type": "markdown",
   "metadata": {},
   "source": [
    "Load it and get the configuration."
   ]
  },
  {
   "cell_type": "code",
   "execution_count": null,
   "metadata": {},
   "outputs": [],
   "source": [
    "from cplxpaper.auto.utils import load_snapshot\n",
    "\n",
    "cold = load_snapshot(snapshot)\n",
    "options = cold[\"options\"]\n",
    "\n",
    "# sparsity settings: threshold is log(p / (1 - p)) for p=dropout rate\n",
    "threshold = options['threshold']\n",
    "# threshold = -0.5\n",
    "\n",
    "devtype = dict(device=torch.device(\"cpu\"))"
   ]
  },
  {
   "cell_type": "markdown",
   "metadata": {},
   "source": [
    "Get an instance of the model and load its weights."
   ]
  },
  {
   "cell_type": "code",
   "execution_count": null,
   "metadata": {},
   "outputs": [],
   "source": [
    "from cplxpaper.auto import auto\n",
    "\n",
    "name, settings = cold[\"stage\"]\n",
    "state = auto.state_create(options[\"model\"], settings, devtype)\n",
    "\n",
    "state.model.load_state_dict(cold[\"model\"])\n",
    "if cold[\"optim\"] is not None:\n",
    "    state.optim.load_state_dict(cold[\"optim\"][\"state\"])"
   ]
  },
  {
   "cell_type": "markdown",
   "metadata": {},
   "source": [
    "<br>"
   ]
  },
  {
   "cell_type": "markdown",
   "metadata": {},
   "source": [
    "Inspect the sparsity of each layer."
   ]
  },
  {
   "cell_type": "code",
   "execution_count": null,
   "metadata": {},
   "outputs": [],
   "source": [
    "from cplxmodule.utils.stats import named_sparsity\n",
    "\n",
    "sparsity = dict(named_sparsity(state.model, threshold=threshold, hard=True))\n",
    "n_zer, n_par = map(sum, zip(*sparsity.values()))\n",
    "print(f\">>> {n_zer / n_par:6.1%}\")"
   ]
  },
  {
   "cell_type": "markdown",
   "metadata": {},
   "source": [
    "Inspect model's performance"
   ]
  },
  {
   "cell_type": "code",
   "execution_count": null,
   "metadata": {},
   "outputs": [],
   "source": [
    "score = \"average_precision\"\n",
    "# score = \"accuracy\""
   ]
  },
  {
   "cell_type": "code",
   "execution_count": null,
   "metadata": {},
   "outputs": [],
   "source": [
    "performance = cold[\"performance\"][\"test\"]\n",
    "\n",
    "fig, ax = plt.subplots(1, 2, figsize=(15, 3))\n",
    "\n",
    "mean_ap = np.nanmean(performance[score])\n",
    "ax[0].plot(performance[score], label=f\"AP {mean_ap:.1%}\")\n",
    "ax[0].legend(ncol=2)\n",
    "\n",
    "# ax[1].plot(performance[\"accuracy\"], label=\"acc.\")\n",
    "ax[1].plot(performance[\"precision\"], label=\"P\")\n",
    "ax[1].plot(performance[\"recall\"], label=\"R\")\n",
    "ax[1].legend(ncol=3)\n",
    "\n",
    "plt.show()"
   ]
  },
  {
   "cell_type": "code",
   "execution_count": null,
   "metadata": {},
   "outputs": [],
   "source": [
    "from sklearn.metrics import precision_recall_curve\n",
    "from matplotlib.collections import LineCollection\n",
    "\n",
    "if \"ap_curves\" in performance:\n",
    "    fig, ax = plt.subplots(1, 1, figsize=(16, 7))\n",
    "\n",
    "    p, r, t = zip(*[prt for k, prt in performance[\"ap_curves\"].items() if k != 'pooled'])\n",
    "    ax.add_collection(\n",
    "        LineCollection([*map(np.transpose, map(np.stack, zip(r, p)))],\n",
    "                       colors=plt.cm.PuBuGn(np.linspace(0, 1, num=len(p))),\n",
    "                       alpha=0.7)\n",
    "    )\n",
    "\n",
    "    p, r, t = performance[\"ap_curves\"][\"pooled\"]\n",
    "    ax.plot(r, p, c=\"k\", lw=2)\n",
    "    plt.show()"
   ]
  },
  {
   "cell_type": "markdown",
   "metadata": {},
   "source": [
    "<br>"
   ]
  },
  {
   "cell_type": "markdown",
   "metadata": {},
   "source": [
    "Remove technically duplicated parameters (useful for\n",
    "computing sparisty w.r.t raw floating point numbers,\n",
    "but redundant for visualization)."
   ]
  },
  {
   "cell_type": "code",
   "execution_count": null,
   "metadata": {},
   "outputs": [],
   "source": [
    "cleaned = {}\n",
    "for name, v in sparsity.items():\n",
    "    # pick the info from .real components and ignore '.imag'\n",
    "    if name.endswith(\".real\") or name.endswith(\".imag\"):\n",
    "        name, part = name.rsplit(\".\", 1)\n",
    "        if part == \"imag\":\n",
    "            continue\n",
    "        assert f\"{name}.imag\" in sparsity\n",
    "\n",
    "    cleaned[name] = v\n",
    "\n",
    "fields = \"{:<32}   {:>5}   {:>10}\".format\n",
    "print(fields('name', 'n_zer', 'sparsity'))\n",
    "for k, (z, n) in cleaned.items():\n",
    "    print(fields(k, int(n - z), f\"{z/n:>.1%}\"))"
   ]
  },
  {
   "cell_type": "markdown",
   "metadata": {},
   "source": [
    "<br>"
   ]
  },
  {
   "cell_type": "markdown",
   "metadata": {},
   "source": [
    "Visualize the computed relevance scores ($\\log \\alpha$ of var dropout layers)."
   ]
  },
  {
   "cell_type": "code",
   "execution_count": null,
   "metadata": {},
   "outputs": [],
   "source": [
    "from scipy import stats\n",
    "from cplxpaper.auto.objective import named_ard_modules\n",
    "from ipywidgets import widgets\n",
    "\n",
    "log_alphas = {}\n",
    "with torch.no_grad():\n",
    "    for name, submod in named_ard_modules(state.model):\n",
    "        log_alpha = submod.log_alpha.detach().cpu()\n",
    "        log_alphas[name] = log_alpha.numpy()\n",
    "\n",
    "\n",
    "def darker(color, a=0.5):\n",
    "    \"\"\"Adapted from this stackoverflow question_.\n",
    "    .. _question: https://stackoverflow.com/questions/37765197/\n",
    "    \"\"\"\n",
    "    from matplotlib.colors import to_rgb\n",
    "    from colorsys import rgb_to_hls, hls_to_rgb\n",
    "\n",
    "    h, l, s = rgb_to_hls(*to_rgb(color))\n",
    "    return hls_to_rgb(h, max(0, min(a * l, 1)), s)\n",
    "\n",
    "if log_alphas:\n",
    "    w_keys = widgets.Dropdown(options=[None, *log_alphas], description=\"Layer\")\n",
    "\n",
    "    @widgets.interact(layer=w_keys)\n",
    "    def plot_hists(layer):\n",
    "        colors = plt.cm.jet(np.linspace(0,1, num=len(log_alphas)))\n",
    "\n",
    "        fig, ax = plt.subplots(1, 1, figsize=(16, 5))\n",
    "        support = np.linspace(-15, 40, num=265)\n",
    "        for (name, log_alpha), col in zip(log_alphas.items(), colors):\n",
    "            if name != layer:\n",
    "                extra = dict(histtype=\"step\", lw=1, zorder=10, alpha=0.25)\n",
    "            else:\n",
    "                extra = dict(histtype=\"bar\", lw=0, alpha=1., zorder=-10)\n",
    "\n",
    "            *_, patches = ax.hist(log_alpha.flat, label=name, bins=51,\n",
    "                                  density=True, **extra, color=col)\n",
    "            if name == layer:\n",
    "                subsample = log_alpha.flat\n",
    "                if len(subsample) > 50000:\n",
    "                    subsample = np.random.choice(subsample, replace=False, size=50000)\n",
    "                density = stats.kde.gaussian_kde(subsample)\n",
    "\n",
    "                color = darker(patches[0].get_facecolor(), 0.75)\n",
    "                ax.plot(support, density(support), c=color, lw=1, zorder=10)\n",
    "\n",
    "\n",
    "        ax.axvline(threshold, c=\"k\")\n",
    "        ax.legend(ncol=2, loc='upper right')\n",
    "        ax.set_ylim(0, 0.5)\n",
    "        ax.set_xlim(-15, 40)\n",
    "        plt.show()"
   ]
  },
  {
   "cell_type": "markdown",
   "metadata": {},
   "source": [
    "<br>"
   ]
  }
 ],
 "metadata": {
  "kernelspec": {
   "display_name": "Python 3",
   "language": "python",
   "name": "python3"
  },
  "language_info": {
   "codemirror_mode": {
    "name": "ipython",
    "version": 3
   },
   "file_extension": ".py",
   "mimetype": "text/x-python",
   "name": "python",
   "nbconvert_exporter": "python",
   "pygments_lexer": "ipython3",
   "version": "3.7.4"
  }
 },
 "nbformat": 4,
 "nbformat_minor": 2
}
