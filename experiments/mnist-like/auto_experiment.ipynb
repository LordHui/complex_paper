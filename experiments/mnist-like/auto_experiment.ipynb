{
 "cells": [
  {
   "cell_type": "markdown",
   "metadata": {},
   "source": [
    "# Run an experiment with `auto`"
   ]
  },
  {
   "cell_type": "code",
   "execution_count": null,
   "metadata": {},
   "outputs": [],
   "source": [
    "import numpy as np\n",
    "\n",
    "np.random.randint(0x7fff_ffff)"
   ]
  },
  {
   "cell_type": "code",
   "execution_count": null,
   "metadata": {},
   "outputs": [],
   "source": [
    "from cplxpaper.auto import auto"
   ]
  },
  {
   "cell_type": "markdown",
   "metadata": {},
   "source": [
    "Create a target folder"
   ]
  },
  {
   "cell_type": "code",
   "execution_count": null,
   "metadata": {},
   "outputs": [],
   "source": [
    "import os\n",
    "\n",
    "folder = \"./test/\"\n",
    "os.makedirs(folder, exist_ok=True)"
   ]
  },
  {
   "cell_type": "markdown",
   "metadata": {},
   "source": [
    "Load template for an experiment manifest"
   ]
  },
  {
   "cell_type": "code",
   "execution_count": null,
   "metadata": {},
   "outputs": [],
   "source": [
    "import json\n",
    "from pkg_resources import resource_filename\n",
    "\n",
    "filename = resource_filename(\"cplxpaper.mnist\", \"template.json\")\n",
    "with open(filename, \"r\") as fin:\n",
    "    manifest = json.load(fin)"
   ]
  },
  {
   "cell_type": "markdown",
   "metadata": {},
   "source": [
    "Alter the manifest"
   ]
  },
  {
   "cell_type": "code",
   "execution_count": null,
   "metadata": {},
   "outputs": [],
   "source": [
    "manifest['__name__'] = \"\"\"A custom experiment on Kanji MNIST\"\"\"\n",
    "manifest['device'] = \"cuda:3\"\n",
    "\n",
    "manifest['datasets'] = {\n",
    "    'mnist-train': {\n",
    "        'cls': \"<class 'cplxpaper.mnist.dataset.KMNIST_Train'>\",\n",
    "        'root': '/home/ivan.nazarov/Github/complex_paper/experiments/mnist-like/data/',\n",
    "        'train_size': 10000,\n",
    "        'random_state': 1_425_950_960\n",
    "    }, 'mnist-test': {\n",
    "        'cls': \"<class 'cplxpaper.mnist.dataset.KMNIST_Test'>\",\n",
    "        'root': '/home/ivan.nazarov/Github/complex_paper/experiments/mnist-like/data/'\n",
    "    }\n",
    "}"
   ]
  },
  {
   "cell_type": "markdown",
   "metadata": {},
   "source": [
    "Run the experiment with auto"
   ]
  },
  {
   "cell_type": "code",
   "execution_count": null,
   "metadata": {},
   "outputs": [],
   "source": [
    "import time\n",
    "\n",
    "snapshots = auto.run(options, folder, time.strftime(\"%Y%m%d-%H%M%S\"),\n",
    "                     verbose=True, save_optim=True)"
   ]
  },
  {
   "cell_type": "code",
   "execution_count": null,
   "metadata": {},
   "outputs": [],
   "source": [
    "snapshots"
   ]
  },
  {
   "cell_type": "markdown",
   "metadata": {},
   "source": [
    "<br>"
   ]
  },
  {
   "cell_type": "code",
   "execution_count": null,
   "metadata": {},
   "outputs": [],
   "source": [
    "from cplxpaper.auto.utils import load_snapshot\n",
    "\n",
    "cold = load_snapshot(snapshots[-1])\n",
    "cold[\"performance\"]"
   ]
  },
  {
   "cell_type": "markdown",
   "metadata": {},
   "source": [
    "<br>"
   ]
  }
 ],
 "metadata": {
  "kernelspec": {
   "display_name": "Python 3",
   "language": "python",
   "name": "python3"
  },
  "language_info": {
   "codemirror_mode": {
    "name": "ipython",
    "version": 3
   },
   "file_extension": ".py",
   "mimetype": "text/x-python",
   "name": "python",
   "nbconvert_exporter": "python",
   "pygments_lexer": "ipython3",
   "version": "3.8.1"
  }
 },
 "nbformat": 4,
 "nbformat_minor": 2
}
