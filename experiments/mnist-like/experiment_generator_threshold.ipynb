{
 "cells": [
  {
   "cell_type": "markdown",
   "metadata": {},
   "source": [
    "# Manifest generator for MNIST-like"
   ]
  },
  {
   "cell_type": "code",
   "execution_count": null,
   "metadata": {},
   "outputs": [],
   "source": [
    "import os\n",
    "import copy\n",
    "import numpy as np\n",
    "\n",
    "from itertools import product"
   ]
  },
  {
   "cell_type": "markdown",
   "metadata": {},
   "source": [
    "Load default config"
   ]
  },
  {
   "cell_type": "code",
   "execution_count": null,
   "metadata": {},
   "outputs": [],
   "source": [
    "import json\n",
    "from pkg_resources import resource_stream\n",
    "\n",
    "with resource_stream(\"cplxpaper.mnist\", \"template.json\") as fin:\n",
    "    options = json.load(fin)"
   ]
  },
  {
   "cell_type": "markdown",
   "metadata": {},
   "source": [
    "Sample some random seeds for train splits."
   ]
  },
  {
   "cell_type": "code",
   "execution_count": null,
   "metadata": {},
   "outputs": [],
   "source": [
    "np.random.randint(0x7fff_ffff, size=(13,))"
   ]
  },
  {
   "cell_type": "markdown",
   "metadata": {},
   "source": [
    "No `123`, `0xdeadc0de` or `42` bullshit!\n",
    "Pick opaque random seed from `np.randint` above."
   ]
  },
  {
   "cell_type": "code",
   "execution_count": null,
   "metadata": {},
   "outputs": [],
   "source": [
    "from cplxpaper.mnist import dataset\n",
    "\n",
    "dataset_variety = {\n",
    "    \"mnist\": {\n",
    "        \"datasets__train__random_state\": [1_641_730_374],\n",
    "        \"datasets__train__cls\": [str(dataset.MNIST_Train)],\n",
    "        \"datasets__test__cls\": [str(dataset.MNIST_Test)],\n",
    "        \"model__n_outputs\": [10],\n",
    "    },\n",
    "    \"kmnist\": {\n",
    "        \"datasets__train__random_state\": [102_048_205],\n",
    "        \"datasets__train__cls\": [str(dataset.KMNIST_Train)],\n",
    "        \"datasets__test__cls\": [str(dataset.KMNIST_Test)],\n",
    "        \"model__n_outputs\": [10],\n",
    "    },\n",
    "    \"fashion-mnist\": {\n",
    "        \"datasets__train__random_state\": [1_526_761_432],\n",
    "        \"datasets__train__cls\": [str(dataset.FashionMNIST_Train)],\n",
    "        \"datasets__test__cls\": [str(dataset.FashionMNIST_Test)],\n",
    "        \"model__n_outputs\": [10],\n",
    "    },\n",
    "    \"emnist-letters\": {\n",
    "        \"datasets__train__random_state\": [605_446_338],\n",
    "        \"datasets__train__cls\": [str(dataset.EMNIST_Letters_Train)],\n",
    "        \"datasets__test__cls\": [str(dataset.EMNIST_Letters_Test)],\n",
    "        \"model__n_outputs\": [26],\n",
    "    },\n",
    "}"
   ]
  },
  {
   "cell_type": "markdown",
   "metadata": {},
   "source": [
    "Enumerate all possbile model `combinations`"
   ]
  },
  {
   "cell_type": "code",
   "execution_count": null,
   "metadata": {},
   "outputs": [],
   "source": [
    "from cplxpaper.mnist import models\n",
    "from itertools import product, chain\n",
    "\n",
    "model_combinations = {\n",
    "    \"real\": [*chain(product([\n",
    "            models.real.SimpleConvModel\n",
    "        ], [\n",
    "            models.real.SimpleConvModelARD, models.real.SimpleConvModelVD\n",
    "        ], [\n",
    "            models.real.SimpleConvModelMasked\n",
    "        ]), product([\n",
    "            models.real.TwoLayerDenseModel\n",
    "        ], [\n",
    "            models.real.TwoLayerDenseModelARD, models.real.TwoLayerDenseModelVD\n",
    "        ], [\n",
    "            models.real.TwoLayerDenseModelMasked\n",
    "        ])\n",
    "    )],\n",
    "    \"complex\": [*chain(product([\n",
    "            models.complex.SimpleConvModel\n",
    "        ], [\n",
    "            models.complex.SimpleConvModelARD, models.complex.SimpleConvModelVD\n",
    "        ], [\n",
    "            models.complex.SimpleConvModelMasked\n",
    "        ]), product([\n",
    "            models.complex.TwoLayerDenseModel\n",
    "        ], [\n",
    "            models.complex.TwoLayerDenseModelARD, models.complex.TwoLayerDenseModelVD\n",
    "        ], [\n",
    "            models.complex.TwoLayerDenseModelMasked\n",
    "        ])\n",
    "    )],\n",
    "}"
   ]
  },
  {
   "cell_type": "code",
   "execution_count": null,
   "metadata": {},
   "outputs": [],
   "source": [
    "model_variety = {}\n",
    "\n",
    "for name, combinations in model_combinations.items():\n",
    "    for models in combinations:\n",
    "        m_dense, m_sparsify, m_masked = map(str, models)\n",
    "        model_variety.setdefault(name, []).append({\n",
    "            \"stages__dense__model__cls\": [m_dense],\n",
    "            \"stages__sparsify__model__cls\": [m_sparsify],\n",
    "            \"stages__fine-tune__model__cls\": [m_masked],\n",
    "        })"
   ]
  },
  {
   "cell_type": "markdown",
   "metadata": {},
   "source": [
    "Update the template with correct data specification"
   ]
  },
  {
   "cell_type": "code",
   "execution_count": null,
   "metadata": {},
   "outputs": [],
   "source": [
    "options.update({\n",
    "    \"datasets\": {\n",
    "        \"train\": {\n",
    "            \"cls\": None,\n",
    "            \"root\": '/home/ivan.nazarov/Github/complex_paper/experiments/mnist-like/data',\n",
    "            \"random_state\": None,\n",
    "\n",
    "            # by default use 10k train sample size\n",
    "            \"train_size\": 10000\n",
    "        },\n",
    "        \"test\": {\n",
    "            \"cls\": None,\n",
    "            \"root\": '/home/ivan.nazarov/Github/complex_paper/experiments/mnist-like/data'\n",
    "        },\n",
    "    },\n",
    "    'features': {\n",
    "        \"cls\": None\n",
    "    },\n",
    "    \"feeds\": {\n",
    "        'train': {\n",
    "            'cls': \"<class 'torch.utils.data.dataloader.DataLoader'>\",\n",
    "            'dataset': 'train',\n",
    "            'batch_size': 128,\n",
    "            'shuffle': True,\n",
    "            'pin_memory': False,\n",
    "            'n_batches': -1\n",
    "        },\n",
    "        'test': {\n",
    "            'cls': \"<class 'torch.utils.data.dataloader.DataLoader'>\",\n",
    "            'dataset': 'test',\n",
    "            'batch_size': 128,\n",
    "            'shuffle': False,\n",
    "            'pin_memory': False,\n",
    "            'n_batches': -1\n",
    "        }\n",
    "    },\n",
    "    \"scorers\": {},  # we shall score models when building a report\n",
    "})"
   ]
  },
  {
   "cell_type": "markdown",
   "metadata": {},
   "source": [
    "Prepare the main template:\n",
    "* reset roots\n",
    "* clear model definitions\n",
    "* specify restarts and grad clips"
   ]
  },
  {
   "cell_type": "code",
   "execution_count": null,
   "metadata": {},
   "outputs": [],
   "source": [
    "from cplxpaper.auto.parameter_grid import get_params, set_params, special_params\n",
    "\n",
    "options = set_params(options, **{\n",
    "    # specify state inheritance\n",
    "    \"stages__sparsify__restart\": False,\n",
    "    \"stages__sparsify__reset\": False,\n",
    "\n",
    "    \"stages__fine-tune__restart\": True,\n",
    "    \"stages__fine-tune__reset\": False,\n",
    "\n",
    "    # L2 clip gradients: seems to be always better to do so.\n",
    "    \"stages__dense__grad_clip\": 0.5,\n",
    "    \"stages__sparsify__grad_clip\": 0.5,\n",
    "    \"stages__fine-tune__grad_clip\": 0.5,\n",
    "\n",
    "    # train 40-75-40\n",
    "    \"stages__dense__n_epochs\": 40,\n",
    "    \"stages__sparsify__n_epochs\": 75,\n",
    "    \"stages__fine-tune__n_epochs\": 40,\n",
    "    \n",
    "    \"stages__dense__lr_scheduler__cls\": \"<class 'cplxpaper.musicnet.lr_scheduler.FastStepScheduler'>\",\n",
    "    \"stages__sparsify__lr_scheduler__cls\": \"<class 'cplxpaper.musicnet.lr_scheduler.FastStepScheduler'>\",\n",
    "    \"stages__fine-tune__lr_scheduler__cls\": \"<class 'cplxpaper.musicnet.lr_scheduler.FastStepScheduler'>\",\n",
    "\n",
    "    # clean models\n",
    "    \"model\": {},\n",
    "    \"stages__dense__model\": {},\n",
    "    \"stages__sparsify__model\": {},\n",
    "    \"stages__fine-tune__model\": {},\n",
    "})"
   ]
  },
  {
   "cell_type": "markdown",
   "metadata": {},
   "source": [
    "<br>"
   ]
  },
  {
   "cell_type": "markdown",
   "metadata": {},
   "source": [
    "## Experiment 1: compare real, against complex"
   ]
  },
  {
   "cell_type": "markdown",
   "metadata": {},
   "source": [
    "KL-divergence coeffcient $C$ settings -- directly affects sparsification."
   ]
  },
  {
   "cell_type": "code",
   "execution_count": null,
   "metadata": {},
   "outputs": [],
   "source": [
    "base_grid = {\n",
    "    \"stages__sparsify__objective__kl_div\": 1.5 * np.logspace(-16, -1, base=2, num=16),\n",
    "\n",
    "    # use thershold of -1/2, 3/2\n",
    "    \"threshold\": [-0.5, 1.5]\n",
    "}"
   ]
  },
  {
   "cell_type": "markdown",
   "metadata": {},
   "source": [
    "The grid"
   ]
  },
  {
   "cell_type": "code",
   "execution_count": null,
   "metadata": {},
   "outputs": [],
   "source": [
    "grid, tag = [], \"real-vs-cplx\""
   ]
  },
  {
   "cell_type": "markdown",
   "metadata": {},
   "source": [
    "Use raw feaures and compare $\\mathbb{R}$ against $\\tfrac12 \\mathbb{C}$"
   ]
  },
  {
   "cell_type": "code",
   "execution_count": null,
   "metadata": {},
   "outputs": [],
   "source": [
    "from cplxpaper.auto import feeds\n",
    "\n",
    "features = {\n",
    "    \"features__cls\": [str(feeds.FeedRawFeatures),],\n",
    "    \"model__n_inputs\": [1],\n",
    "}\n",
    "for data, data_options in dataset_variety.items():\n",
    "    for model_stages in model_variety[\"real\"]:\n",
    "        grid.append({\n",
    "            \"____name__\": [f\"Full real-valued model on raw {data} 10k\"],\n",
    "            **data_options,\n",
    "            **model_stages,\n",
    "            **features,\n",
    "            \"model__double\": [False],\n",
    "            **base_grid\n",
    "        })\n",
    "\n",
    "    for model_stages in model_variety[\"complex\"]:\n",
    "        grid.append({\n",
    "            \"____name__\": [f\"Halved complex-valued model on raw {data} 10k\"],\n",
    "            **data_options,\n",
    "            **model_stages,\n",
    "            **features,\n",
    "            \"model__half\": [True],\n",
    "            \"model__upcast\": [True],\n",
    "            **base_grid\n",
    "        })"
   ]
  },
  {
   "cell_type": "markdown",
   "metadata": {},
   "source": [
    "Use Fourier feaures and compare $2 \\mathbb{R}$ against $\\mathbb{C}$"
   ]
  },
  {
   "cell_type": "code",
   "execution_count": null,
   "metadata": {},
   "outputs": [],
   "source": [
    "from cplxpaper.auto import feeds\n",
    "\n",
    "features = {\n",
    "    \"features__cls\": [str(feeds.FeedFourierFeatures),],\n",
    "    \"features__cplx\": [True],\n",
    "    \"features__shift\": [True],\n",
    "    \"features__signal_ndim\": [2],\n",
    "}\n",
    "for data, data_options in dataset_variety.items():\n",
    "    for model_stages in model_variety[\"real\"]:\n",
    "        grid.append({\n",
    "            \"____name__\": [f\"Doubled real-valued model on Fourier features of {data} 10k\"],\n",
    "            **data_options,\n",
    "            **model_stages,\n",
    "            **features,\n",
    "            \"model__n_inputs\": [2],\n",
    "            \"model__double\": [True],\n",
    "            **base_grid\n",
    "        })\n",
    "\n",
    "    for model_stages in model_variety[\"complex\"]:\n",
    "        grid.append({\n",
    "            \"____name__\": [f\"Full complex-valued model on Fourier features of {data} 10k\"],\n",
    "            **data_options,\n",
    "            **model_stages,\n",
    "            **features,\n",
    "            \"model__half\": [False],\n",
    "            \"model__upcast\": [False],\n",
    "            **base_grid\n",
    "        })"
   ]
  },
  {
   "cell_type": "markdown",
   "metadata": {},
   "source": [
    "<br>"
   ]
  },
  {
   "cell_type": "markdown",
   "metadata": {},
   "source": [
    "## Create the grid"
   ]
  },
  {
   "cell_type": "code",
   "execution_count": null,
   "metadata": {},
   "outputs": [],
   "source": [
    "n_replications = 5"
   ]
  },
  {
   "cell_type": "markdown",
   "metadata": {},
   "source": [
    "Write experiment manifest en-masse: put each replication in a separate folder"
   ]
  },
  {
   "cell_type": "code",
   "execution_count": null,
   "metadata": {},
   "outputs": [],
   "source": [
    "import tqdm\n",
    "from sklearn.model_selection import ParameterGrid\n",
    "\n",
    "\n",
    "base_folder = os.path.normpath(os.path.abspath(\"./grids/\"))\n",
    "assert os.path.exists(base_folder) and os.path.isdir(base_folder)\n",
    "\n",
    "\n",
    "for replication in range(n_replications):\n",
    "    folder = os.path.join(base_folder, f\"minst-like__{tag}__{replication:02d}\")\n",
    "    os.makedirs(folder, exist_ok=False)\n",
    "\n",
    "    for exp_no, par in enumerate(tqdm.tqdm(ParameterGrid(grid))):\n",
    "        par, special = special_params(**par)\n",
    "\n",
    "        local = set_params(copy.deepcopy(options), **par, device=None)\n",
    "        local.update(special)\n",
    "\n",
    "        # format the name\n",
    "        filename = os.path.join(folder, f\"experiment__{exp_no:05d}.json\")\n",
    "        json.dump(local, open(filename, \"w\"), indent=2)"
   ]
  },
  {
   "cell_type": "code",
   "execution_count": null,
   "metadata": {},
   "outputs": [],
   "source": [
    "assert False"
   ]
  },
  {
   "cell_type": "raw",
   "metadata": {},
   "source": [
    "python -m cplxpaper.auto /home/ivan.nazarov/Github/complex_paper/experiments/mnist-like/grids/minst-like__real-vs-cplx__00/ --per-device 6 --devices cuda:2 cuda:3"
   ]
  },
  {
   "cell_type": "markdown",
   "metadata": {},
   "source": [
    "<br>"
   ]
  }
 ],
 "metadata": {
  "kernelspec": {
   "display_name": "Python 3",
   "language": "python",
   "name": "python3"
  },
  "language_info": {
   "codemirror_mode": {
    "name": "ipython",
    "version": 3
   },
   "file_extension": ".py",
   "mimetype": "text/x-python",
   "name": "python",
   "nbconvert_exporter": "python",
   "pygments_lexer": "ipython3",
   "version": "3.8.1"
  }
 },
 "nbformat": 4,
 "nbformat_minor": 2
}
