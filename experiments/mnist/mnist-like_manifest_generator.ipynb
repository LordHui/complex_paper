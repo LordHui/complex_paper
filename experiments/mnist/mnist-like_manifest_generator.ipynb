{
 "cells": [
  {
   "cell_type": "code",
   "execution_count": null,
   "metadata": {},
   "outputs": [],
   "source": [
    "import os\n",
    "import copy\n",
    "import numpy as np\n",
    "\n",
    "from itertools import product"
   ]
  },
  {
   "cell_type": "markdown",
   "metadata": {},
   "source": [
    "Sample some random seeds for train splits."
   ]
  },
  {
   "cell_type": "code",
   "execution_count": null,
   "metadata": {},
   "outputs": [],
   "source": [
    "np.random.randint(0x7fff_ffff, size=(13,))"
   ]
  },
  {
   "cell_type": "markdown",
   "metadata": {},
   "source": [
    "Dataset splits"
   ]
  },
  {
   "cell_type": "code",
   "execution_count": null,
   "metadata": {},
   "outputs": [],
   "source": [
    "from cplxpaper.mnist import dataset as mnist_like\n",
    "\n",
    "datasets = {\n",
    "    \"mnist\": (\n",
    "        1641730374,\n",
    "        str(mnist_like.MNIST_Train),\n",
    "        str(mnist_like.MNIST_Test),\n",
    "    ),\n",
    "#     \"kmnist\": (\n",
    "#         102048205,\n",
    "#         str(mnist_like.KMNIST_Train), \n",
    "#         str(mnist_like.KMNIST_Test),\n",
    "#     ),\n",
    "#     \"fashion-mnist\": (\n",
    "#         1526761432,\n",
    "#         str(mnist_like.FashionMNIST_Train), \n",
    "#         str(mnist_like.FashionMNIST_Test),\n",
    "#     ),\n",
    "#     \"emnist\": (\n",
    "#         605446338,\n",
    "#         str(mnist_like.EMNIST_Letters_Train), \n",
    "#         str(mnist_like.EMNIST_Letters_Test),\n",
    "#     ),\n",
    "}"
   ]
  },
  {
   "cell_type": "markdown",
   "metadata": {},
   "source": [
    "$\\mathbb{R}$-Model stages"
   ]
  },
  {
   "cell_type": "code",
   "execution_count": null,
   "metadata": {},
   "outputs": [],
   "source": [
    "from cplxpaper.mnist.models import real\n",
    "\n",
    "real_model_stages = {\n",
    "    \"twolayerdense\": {\n",
    "        \"model__cls\": [str(real.TwoLayerDenseModel),],\n",
    "        \"stages__sparsify__model__cls\": [str(real.TwoLayerDenseModelARD),],\n",
    "        \"stages__fine-tune__model__cls\": [str(real.TwoLayerDenseModelMasked),],\n",
    "    },\n",
    "    \"simpledense\": {\n",
    "        \"model__cls\": [str(real.SimpleDenseModel),],\n",
    "        \"stages__sparsify__model__cls\": [str(real.SimpleDenseModelARD),],\n",
    "        \"stages__fine-tune__model__cls\": [str(real.SimpleDenseModelMasked),],\n",
    "    },\n",
    "    \"simpleconv\": {\n",
    "        \"model__cls\": [str(real.SimpleConvModel),],\n",
    "        \"stages__sparsify__model__cls\": [str(real.SimpleConvModelARD),],\n",
    "        \"stages__fine-tune__model__cls\": [str(real.SimpleConvModelMasked),],\n",
    "    },\n",
    "}"
   ]
  },
  {
   "cell_type": "markdown",
   "metadata": {},
   "source": [
    "$\\mathbb{C}$-model stages"
   ]
  },
  {
   "cell_type": "code",
   "execution_count": null,
   "metadata": {},
   "outputs": [],
   "source": [
    "import cplxpaper.mnist.models.complex as cplx\n",
    "\n",
    "cplx_model_stages = {\n",
    "    \"twolayerdense\": {\n",
    "        \"model__cls\": [str(cplx.TwoLayerDenseModel),],\n",
    "        \"stages__sparsify__model__cls\": [str(cplx.TwoLayerDenseModelARD),],\n",
    "        \"stages__fine-tune__model__cls\": [str(cplx.TwoLayerDenseModelMasked),],\n",
    "    },\n",
    "    \"simpledense\": {\n",
    "        \"model__cls\": [str(cplx.SimpleDenseModel),],\n",
    "        \"stages__sparsify__model__cls\": [str(cplx.SimpleDenseModelARD),],\n",
    "        \"stages__fine-tune__model__cls\": [str(cplx.SimpleDenseModelMasked),],\n",
    "    },\n",
    "    \"simpleconv\": {\n",
    "        \"model__cls\": [str(cplx.SimpleConvModel),],\n",
    "        \"stages__sparsify__model__cls\": [str(cplx.SimpleConvModelARD),],\n",
    "        \"stages__fine-tune__model__cls\": [str(cplx.SimpleConvModelMasked),],\n",
    "    },\n",
    "}"
   ]
  },
  {
   "cell_type": "markdown",
   "metadata": {},
   "source": [
    "Load default config"
   ]
  },
  {
   "cell_type": "code",
   "execution_count": null,
   "metadata": {},
   "outputs": [],
   "source": [
    "import json\n",
    "from pkg_resources import resource_stream\n",
    "\n",
    "with resource_stream(\"cplxpaper.mnist\", \"template.json\") as fin:\n",
    "    options = json.load(fin)"
   ]
  },
  {
   "cell_type": "markdown",
   "metadata": {},
   "source": [
    "Reset roots"
   ]
  },
  {
   "cell_type": "code",
   "execution_count": null,
   "metadata": {},
   "outputs": [],
   "source": [
    "from cplxpaper.auto.parameter_grid import get_params, set_params, special_params\n",
    "\n",
    "experiment_folder = os.path.expanduser(\"~/Github/complex_paper/experiments/mnist/data\")\n",
    "\n",
    "options = set_params(options, **{\n",
    "    \"datasets\": {\n",
    "        \"train\": {\"root\": experiment_folder,},\n",
    "        \"test\": {\"root\": experiment_folder,},\n",
    "    }, \n",
    "    \"model\": {},\n",
    "    \"stages__dense__model\": {},\n",
    "    \"stages__sparsify__model\": {},\n",
    "    \"stages__fine-tune__model\": {},\n",
    "})"
   ]
  },
  {
   "cell_type": "markdown",
   "metadata": {},
   "source": [
    "Construct a grid of kl-divergence coefficients (for size-averaged kl-div terms)"
   ]
  },
  {
   "cell_type": "code",
   "execution_count": null,
   "metadata": {},
   "outputs": [],
   "source": [
    "kl_divs = np.logspace(-6, 0, num=19)"
   ]
  },
  {
   "cell_type": "markdown",
   "metadata": {},
   "source": [
    "```python\n",
    "kl_divs = np.sort(np.r_[\n",
    "    1 * np.logspace(-6, -1, 6),\n",
    "    5 * np.logspace(-6, -2, 5),\n",
    "    1 * np.linspace(0.2, 1, 9),\n",
    "    0.95\n",
    "])\n",
    "```"
   ]
  },
  {
   "cell_type": "markdown",
   "metadata": {},
   "source": [
    "Define default grid parameters for mnist-like experiments."
   ]
  },
  {
   "cell_type": "code",
   "execution_count": null,
   "metadata": {},
   "outputs": [],
   "source": [
    "base_grid = {\n",
    "    \"n_copy\": [*range(5)],\n",
    "    \"datasets__train__train_size\": [10000],\n",
    "\n",
    "    \"objective_terms__kl_div__reduction\": [\"mean\"],  # size averaged kl-div -- more unifor sparsification (poor)\n",
    "\n",
    "#     \"objective_terms__kl_div__reduction\": [\"sum\"],  # sum of kl-div divided by n_samples\n",
    "#     \"objective_terms__kl_div__coef\": [1e-4],\n",
    "\n",
    "    \"feeds__train__dataset\": [\"train\"],\n",
    "    \"feeds__test__dataset\": [\"test\"],\n",
    "    \"feeds__train__batch_size\": [128],\n",
    "    \n",
    "    # train 50-100-75, fine-tune with restart, and grad-clip l2 norm 0.5\n",
    "    \"stages__dense__n_epochs\": [50],\n",
    "    \"stages__dense__grad_clip\": [0.5],\n",
    "    \"stages__sparsify__n_epochs\": [100],\n",
    "    \"stages__sparsify__restart\": [False],\n",
    "    \"stages__sparsify__reset\": [False],\n",
    "    \"stages__sparsify__grad_clip\": [0.5],\n",
    "    \"stages__fine-tune__n_epochs\": [75],\n",
    "    \"stages__fine-tune__restart\": [True],\n",
    "    \"stages__fine-tune__reset\": [True],\n",
    "    \"stages__fine-tune__grad_clip\": [0.5],\n",
    "\n",
    "    # kl-div weights come from a moderately grid\n",
    "    \"stages__sparsify__objective__kl_div\": kl_divs,\n",
    "}"
   ]
  },
  {
   "cell_type": "markdown",
   "metadata": {},
   "source": [
    "<br>"
   ]
  },
  {
   "cell_type": "markdown",
   "metadata": {},
   "source": [
    "## Grid 1: MNIST-like datasets,  Real Models"
   ]
  },
  {
   "cell_type": "code",
   "execution_count": null,
   "metadata": {},
   "outputs": [],
   "source": [
    "grid_real_mnistlike = []\n",
    "for model, dataset in product(real_model_stages, datasets):\n",
    "    grid_real = copy.deepcopy(base_grid)\n",
    "    if dataset == \"emnist\":\n",
    "        grid_real.update({\"model__n_outputs\": [26],})\n",
    "    else:\n",
    "        grid_real.update({\"model__n_outputs\": [10],})\n",
    "\n",
    "    random_state, train__cls, test__cls = datasets[dataset]\n",
    "    grid_real.update(real_model_stages[model])\n",
    "    grid_real.update({\n",
    "        \"datasets__train__random_state\": [random_state],\n",
    "        \"datasets__train__cls\": [train__cls,],\n",
    "        \"datasets__test__cls\": [test__cls,],\n",
    "        \"features\": [{\"cls\": \"<class 'cplxpaper.auto.feeds.FeedRawFeatures'>\"}],\n",
    "    })\n",
    "\n",
    "    grid_real_mnistlike.append(grid_real)"
   ]
  },
  {
   "cell_type": "markdown",
   "metadata": {},
   "source": [
    "<br>"
   ]
  },
  {
   "cell_type": "markdown",
   "metadata": {},
   "source": [
    "## Grid 2: MNIST-like datasets,  Complex Models"
   ]
  },
  {
   "cell_type": "code",
   "execution_count": null,
   "metadata": {},
   "outputs": [],
   "source": [
    "grid_cplx_mnistlike = []\n",
    "for model, dataset in product(cplx_model_stages, datasets):\n",
    "    grid_cplx = copy.deepcopy(base_grid)\n",
    "    if dataset == \"emnist\":\n",
    "        grid_cplx.update({\"model__n_outputs\": [26],})\n",
    "    else:\n",
    "        grid_cplx.update({\"model__n_outputs\": [10],})\n",
    "\n",
    "    random_state, train__cls, test__cls = datasets[dataset]\n",
    "    grid_cplx.update(cplx_model_stages[model])\n",
    "    grid_cplx.update({\n",
    "        \"datasets__train__random_state\": [random_state],\n",
    "        \"datasets__train__cls\": [train__cls,],\n",
    "        \"datasets__test__cls\": [test__cls,],\n",
    "        \"features\": [{\n",
    "            \"cls\": \"<class 'cplxpaper.auto.feeds.FeedFourierFeatures'>\",\n",
    "            \"signal_ndim\": 2,\n",
    "            \"shift\": False,\n",
    "            \"cplx\": True,\n",
    "        }],\n",
    "    })\n",
    "\n",
    "    grid_cplx_mnistlike.append(grid_cplx)"
   ]
  },
  {
   "cell_type": "markdown",
   "metadata": {},
   "source": [
    "<br>"
   ]
  },
  {
   "cell_type": "code",
   "execution_count": null,
   "metadata": {},
   "outputs": [],
   "source": [
    "from sklearn.model_selection import ParameterGrid\n",
    "\n",
    "grid = ParameterGrid([\n",
    "    *grid_real_mnistlike,\n",
    "    *grid_cplx_mnistlike\n",
    "])\n",
    "\n",
    "folder = os.path.join(\".\", \"grids\", \"minst-like\")\n",
    "os.makedirs(folder)"
   ]
  },
  {
   "cell_type": "code",
   "execution_count": null,
   "metadata": {},
   "outputs": [],
   "source": [
    "import tqdm\n",
    "from cplxpaper.auto.utils import get_class\n",
    "\n",
    "for i, par in enumerate(tqdm.tqdm(grid)):\n",
    "    par, special = special_params(**par)\n",
    "    assert not special\n",
    "\n",
    "    local = set_params(copy.deepcopy(options), **par, device=None)\n",
    "    n_copy = local.pop(\"n_copy\")\n",
    "\n",
    "    # format the name\n",
    "    dataset = get_class(local[\"datasets\"][\"test\"][\"cls\"]).__name__\n",
    "    dataset = dataset.rsplit(\"_\", 1)[0]\n",
    "    kind = \"cplx\" if local[\"features\"].get(\"signal_ndim\", 1) == 2 else \"real\"\n",
    "    model = get_class(local[\"model\"][\"cls\"]).__name__\n",
    "    \n",
    "    manifest = f\"{dataset}-{kind}-{model}-{n_copy} {i:04d}.json\"\n",
    "    filename = os.path.join(folder, manifest)\n",
    "    json.dump(local, open(filename, \"w\"))"
   ]
  },
  {
   "cell_type": "markdown",
   "metadata": {},
   "source": [
    "<br>"
   ]
  }
 ],
 "metadata": {
  "kernelspec": {
   "display_name": "Python 3",
   "language": "python",
   "name": "python3"
  },
  "language_info": {
   "codemirror_mode": {
    "name": "ipython",
    "version": 3
   },
   "file_extension": ".py",
   "mimetype": "text/x-python",
   "name": "python",
   "nbconvert_exporter": "python",
   "pygments_lexer": "ipython3",
   "version": "3.7.5"
  }
 },
 "nbformat": 4,
 "nbformat_minor": 2
}
