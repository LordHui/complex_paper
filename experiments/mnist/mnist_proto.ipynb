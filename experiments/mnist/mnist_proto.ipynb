{
 "cells": [
  {
   "cell_type": "markdown",
   "metadata": {},
   "source": [
    "# MNIST experiment prototype"
   ]
  },
  {
   "cell_type": "code",
   "execution_count": null,
   "metadata": {},
   "outputs": [],
   "source": [
    "import torch\n",
    "import numpy as np"
   ]
  },
  {
   "cell_type": "code",
   "execution_count": null,
   "metadata": {},
   "outputs": [],
   "source": [
    "import json\n",
    "\n",
    "from pkg_resources import resource_stream\n",
    "\n",
    "with resource_stream(\"cplxpaper.mnist\", \"template.json\") as fin:\n",
    "    options = json.load(fin)"
   ]
  },
  {
   "cell_type": "code",
   "execution_count": null,
   "metadata": {},
   "outputs": [],
   "source": [
    "%matplotlib inline\n",
    "import matplotlib.pyplot as plt"
   ]
  },
  {
   "cell_type": "code",
   "execution_count": null,
   "metadata": {},
   "outputs": [],
   "source": [
    "from cplxpaper.auto import auto"
   ]
  },
  {
   "cell_type": "code",
   "execution_count": null,
   "metadata": {},
   "outputs": [],
   "source": [
    "options[\"device\"] = \"cuda:1\""
   ]
  },
  {
   "cell_type": "code",
   "execution_count": null,
   "metadata": {},
   "outputs": [],
   "source": [
    "options[\"datasets\"] = {\n",
    "    'mnist-train': {\n",
    "        'cls': \"<class 'cplxpaper.mnist.dataset.MNISTTrain'>\", 'root': './data'\n",
    "    },\n",
    "    'mnist-test': {\n",
    "        'cls': \"<class 'cplxpaper.mnist.dataset.MNISTTest'>\", 'root': './data'\n",
    "    }\n",
    "}"
   ]
  },
  {
   "cell_type": "code",
   "execution_count": null,
   "metadata": {},
   "outputs": [],
   "source": [
    "options[\"features\"] = {\n",
    "    'cls': \"<class 'cplxpaper.auto.feeds.FeedFourierFeatures'>\",\n",
    "    'signal_ndim': 2,\n",
    "    'cplx': True,\n",
    "    'shift': True,\n",
    "#     'cls': \"<class 'cplxpaper.auto.feeds.FeedRawFeatures'>\"\n",
    "}"
   ]
  },
  {
   "cell_type": "code",
   "execution_count": null,
   "metadata": {},
   "outputs": [],
   "source": [
    "options[\"model\"][\"cls\"] = \"<class 'cplxpaper.mnist.models.complex.MNISTModel'>\"\n",
    "options[\"stages\"]['sparsify'][\"model\"][\"cls\"] = \"<class 'cplxpaper.mnist.models.complex.MNISTModelARD'>\"\n",
    "options[\"stages\"]['fine-tune'][\"model\"][\"cls\"] = \"<class 'cplxpaper.mnist.models.complex.MNISTModelMasked'>\""
   ]
  },
  {
   "cell_type": "code",
   "execution_count": null,
   "metadata": {},
   "outputs": [],
   "source": [
    "options[\"stages\"]['fine-tune']['reset'] = True"
   ]
  },
  {
   "cell_type": "code",
   "execution_count": null,
   "metadata": {},
   "outputs": [],
   "source": [
    "# options"
   ]
  },
  {
   "cell_type": "code",
   "execution_count": null,
   "metadata": {
    "scrolled": false
   },
   "outputs": [],
   "source": [
    "auto.run(options, './test', \"cplx-mnist\")"
   ]
  },
  {
   "cell_type": "code",
   "execution_count": null,
   "metadata": {},
   "outputs": [],
   "source": [
    "from cplxpaper.auto.utils import load_snapshot"
   ]
  },
  {
   "cell_type": "code",
   "execution_count": null,
   "metadata": {},
   "outputs": [],
   "source": [
    "load_snapshot('./test/0-dense cplx-mnist.gz')[\"performance\"]"
   ]
  },
  {
   "cell_type": "code",
   "execution_count": null,
   "metadata": {},
   "outputs": [],
   "source": [
    "load_snapshot('./test/2-fine-tune cplx-mnist.gz')[\"performance\"]"
   ]
  },
  {
   "cell_type": "code",
   "execution_count": null,
   "metadata": {},
   "outputs": [],
   "source": [
    "losses = []\n",
    "cold = load_snapshot('./test/0-dense cplx-mnist.gz')\n",
    "losses.append(cold['history'][\"loss\"])\n",
    "cold = load_snapshot('./test/1-sparsify cplx-mnist.gz')\n",
    "losses.append(cold['history'][\"loss\"])\n",
    "cold = load_snapshot('./test/2-fine-tune cplx-mnist.gz')\n",
    "losses.append(cold['history'][\"loss\"])\n",
    "\n",
    "plt.semilogy(np.concatenate(losses))"
   ]
  },
  {
   "cell_type": "code",
   "execution_count": null,
   "metadata": {},
   "outputs": [],
   "source": [
    "assert False"
   ]
  },
  {
   "cell_type": "markdown",
   "metadata": {},
   "source": [
    "<br>"
   ]
  },
  {
   "cell_type": "code",
   "execution_count": null,
   "metadata": {},
   "outputs": [],
   "source": [
    "cold = load_snapshot('./test/2-fine-tune cplx-mnist.gz')"
   ]
  },
  {
   "cell_type": "code",
   "execution_count": null,
   "metadata": {
    "scrolled": false
   },
   "outputs": [],
   "source": [
    "\n",
    "reim = zip(cold['model'][\"conv1.weight.real\"].numpy(), cold['model'][\"conv1.weight.imag\"].numpy())\n",
    "for re, im in reim:\n",
    "    plt.imshow((re*re+im*im)[0])\n",
    "    plt.show()"
   ]
  },
  {
   "cell_type": "code",
   "execution_count": null,
   "metadata": {},
   "outputs": [],
   "source": [
    "import torch\n",
    "from collections import OrderedDict\n",
    "\n",
    "from cplxmodule.nn import CplxToCplx\n",
    "from cplxmodule.nn import CplxConv2d, CplxLinear\n",
    "\n",
    "from cplxmodule.nn.layers import CplxReal\n",
    "from cplxmodule.nn.layers import ConcatenatedRealToCplx\n",
    "from cplxmodule.nn.layers import CplxToConcatenatedReal\n",
    "from cplxmodule.nn.relevance import CplxConv2dARD, CplxLinearARD\n",
    "from cplxmodule.nn.masked import CplxConv2dMasked, CplxLinearMasked\n",
    "\n",
    "\n",
    "class MNISTModel(torch.nn.Sequential):\n",
    "    Linear = CplxLinear\n",
    "    Conv2d = CplxConv2d\n",
    "\n",
    "    def __init__(self):\n",
    "        layers = [\n",
    "            (\"cplx\", ConcatenatedRealToCplx(copy=False, dim=-3)),\n",
    "\n",
    "            (\"conv1\", self.Conv2d( 1, 20, 5, 1)),\n",
    "            (\"relu1\", CplxToCplx[torch.nn.ReLU]()),\n",
    "            (\"pool1\", CplxToCplx[torch.nn.AvgPool2d](2, 2)),\n",
    "            (\"conv2\", self.Conv2d(20, 50, 5, 1)),\n",
    "            (\"relu2\", CplxToCplx[torch.nn.ReLU]()),\n",
    "            (\"pool2\", CplxToCplx[torch.nn.AvgPool2d](2, 2)),\n",
    "            (\"flat_\", CplxToCplx[torch.nn.Flatten](-3, -1)),\n",
    "            (\"lin_1\", self.Linear(4 * 4 * 50, 500)),\n",
    "            (\"relu3\", CplxToCplx[torch.nn.ReLU]()),\n",
    "            (\"lin_2\", self.Linear(500, 10)),\n",
    "            (\"real\", CplxReal()),\n",
    "            # (\"real\", CplxToConcatenatedReal(dim=-1)),\n",
    "            # (\"lin_3\", torch.nn.Linear(20, 10)),\n",
    "        ]\n",
    "\n",
    "        super().__init__(OrderedDict(layers))\n",
    "\n",
    "\n",
    "class MNISTModelARD(MNISTModel):\n",
    "    Linear = CplxLinearARD\n",
    "    Conv2d = CplxConv2dARD\n",
    "\n",
    "\n",
    "class MNISTModelMasked(MNISTModel):\n",
    "    Linear = CplxLinearMasked\n",
    "    Conv2d = CplxConv2dMasked\n"
   ]
  },
  {
   "cell_type": "markdown",
   "metadata": {},
   "source": [
    "<br>"
   ]
  },
  {
   "cell_type": "code",
   "execution_count": null,
   "metadata": {},
   "outputs": [],
   "source": [
    "devtype = dict(device=torch.device(\"cuda:1\"))\n",
    "datasets = auto.get_datasets({\n",
    "    'mnist-train': {'cls': \"<class 'cplxpaper.mnist.dataset.MNISTTrain'>\", 'root': './mnist/data'},\n",
    "  'mnist-test': {'cls': \"<class 'cplxpaper.mnist.dataset.MNISTTest'>\", 'root': './mnist/data'}\n",
    "})\n",
    "feeds = auto.get_feeds(\n",
    "    datasets, devtype,\n",
    "    {\n",
    "        'cls': \"<class 'cplxpaper.auto.feeds.FeedFourierFeatures'>\",\n",
    "        \"signal_ndim\": 2,\n",
    "        \"cplx\": True,\n",
    "        \"shift\": True\n",
    "    }, {\n",
    "    'train': {\n",
    "        'cls': \"<class 'torch.utils.data.dataloader.DataLoader'>\",\n",
    "        'dataset': 'mnist-test',\n",
    "        'batch_size': 128,\n",
    "        'shuffle': True,\n",
    "        'pin_memory': True,\n",
    "        'n_batches': -1\n",
    "    },\n",
    "    'test': {\n",
    "        'cls': \"<class 'torch.utils.data.dataloader.DataLoader'>\",\n",
    "        'dataset': 'mnist-train',\n",
    "        'batch_size': 128,\n",
    "        'shuffle': False,\n",
    "        'pin_memory': True,\n",
    "        'n_batches': -1\n",
    "    }\n",
    "})"
   ]
  },
  {
   "cell_type": "code",
   "execution_count": null,
   "metadata": {},
   "outputs": [],
   "source": [
    "model = CplxMNISTModel().to(**devtype)"
   ]
  },
  {
   "cell_type": "code",
   "execution_count": null,
   "metadata": {},
   "outputs": [],
   "source": [
    "feed = feeds['test']"
   ]
  },
  {
   "cell_type": "code",
   "execution_count": null,
   "metadata": {},
   "outputs": [],
   "source": [
    "bx, by = next(iter(feeds[\"train\"]))"
   ]
  },
  {
   "cell_type": "code",
   "execution_count": null,
   "metadata": {},
   "outputs": [],
   "source": [
    "model(bx)"
   ]
  },
  {
   "cell_type": "code",
   "execution_count": null,
   "metadata": {},
   "outputs": [],
   "source": []
  },
  {
   "cell_type": "code",
   "execution_count": null,
   "metadata": {},
   "outputs": [],
   "source": [
    "from cplxpaper.auto.feeds import feed_forward_pass\n",
    "\n",
    "feed_pred = feed_forward_pass(feed, model)\n",
    "logits, y_true = map(np.concatenate, zip(*feed_pred))"
   ]
  },
  {
   "cell_type": "code",
   "execution_count": null,
   "metadata": {},
   "outputs": [],
   "source": [
    "logits.argmax(-1)"
   ]
  },
  {
   "cell_type": "code",
   "execution_count": null,
   "metadata": {},
   "outputs": [],
   "source": []
  },
  {
   "cell_type": "code",
   "execution_count": null,
   "metadata": {},
   "outputs": [],
   "source": [
    "import tqdm"
   ]
  },
  {
   "cell_type": "code",
   "execution_count": null,
   "metadata": {},
   "outputs": [],
   "source": [
    "y_true, y_pred, logits = predict(model, tqdm.tqdm(feeds['test']))"
   ]
  },
  {
   "cell_type": "code",
   "execution_count": null,
   "metadata": {},
   "outputs": [],
   "source": [
    "from cplxmodule.utils.stats import sparsity"
   ]
  },
  {
   "cell_type": "code",
   "execution_count": null,
   "metadata": {},
   "outputs": [],
   "source": [
    "cm = confusion_matrix(y_true, y_pred)\n",
    "tp = cm.diagonal()\n",
    "fp, fn = cm.sum(axis=1) - tp, cm.sum(axis=0) - tp\n",
    "\n",
    "f_sparsity = sparsity(model, hard=True, threshold=-0.5)"
   ]
  },
  {
   "cell_type": "code",
   "execution_count": null,
   "metadata": {},
   "outputs": [],
   "source": [
    "tp.sum() / cm.sum()"
   ]
  },
  {
   "cell_type": "code",
   "execution_count": null,
   "metadata": {},
   "outputs": [],
   "source": [
    "import os"
   ]
  },
  {
   "cell_type": "code",
   "execution_count": null,
   "metadata": {},
   "outputs": [],
   "source": [
    "import torch"
   ]
  },
  {
   "cell_type": "code",
   "execution_count": null,
   "metadata": {},
   "outputs": [],
   "source": [
    "from cplxpaper.auto import auto"
   ]
  },
  {
   "cell_type": "code",
   "execution_count": null,
   "metadata": {},
   "outputs": [],
   "source": [
    "from cplxpaper.mnist.dataset import MNISTTrain"
   ]
  },
  {
   "cell_type": "code",
   "execution_count": null,
   "metadata": {},
   "outputs": [],
   "source": [
    "options = {\n",
    "    \"datasets\": {\n",
    "        \"mnist-train\": {\n",
    "#             \"cls\": \"<class 'cplxpaper.mnist.dataset.MNISTTrain'>\",\n",
    "            \"cls\": \"<class 'cplxpaper.cifar.dataset.CIFAR10Train'>\",\n",
    "            \"root\": os.path.abspath(\"./mnist/data\")\n",
    "        },\n",
    "        \"mnist-test\": {\n",
    "#             \"cls\": \"<class 'cplxpaper.mnist.dataset.MNISTTest'>\",\n",
    "            \"cls\": \"<class 'cplxpaper.cifar.dataset.CIFAR10Test'>\",\n",
    "            \"root\": os.path.abspath(\"./mnist/data\")\n",
    "        },\n",
    "#         \"musicnet-valid\": {\n",
    "#             \"cls\": \"<class 'cplxpaper.musicnet.dataset.MusicNetRAM'>\",\n",
    "#             \"filename\": \"./musicnet/data/musicnet_11khz_valid.h5\",\n",
    "#             \"window\": 4096,\n",
    "#             \"stride\": 1\n",
    "#         }\n",
    "    },\n",
    "    \"features\": {\n",
    "        \"cls\": \"<class 'cplxpaper.auto.feed.FeedFourierFeatures'>\",\n",
    "        \"signal_ndim\": 2,\n",
    "        \"cplx\": True,\n",
    "        \"shift\": True\n",
    "    },\n",
    "    \"feeds\": {\n",
    "        \"mnist-train\": {\n",
    "            \"cls\": \"<class 'torch.utils.data.dataloader.DataLoader'>\",\n",
    "            \"dataset\": \"mnist-test\",\n",
    "            \"batch_size\": 128,\n",
    "            \"shuffle\": True,\n",
    "            \"pin_memory\": True,\n",
    "            \"n_batches\": -1,\n",
    "        },\n",
    "        \"mnist-test\": {\n",
    "            \"cls\": \"<class 'torch.utils.data.dataloader.DataLoader'>\",\n",
    "            \"dataset\": \"mnist-train\",\n",
    "            \"batch_size\": 128,\n",
    "            \"shuffle\": True,\n",
    "            \"pin_memory\": True,\n",
    "            \"n_batches\": -1,\n",
    "        },\n",
    "#         \"musicnet-valid\": {\n",
    "#             \"cls\": \"<class 'cplxpaper.musicnet.dataset.MusicNetDataLoader'>\",\n",
    "#             \"dataset\": \"musicnet-valid\",\n",
    "#             \"pin_memory\": True,\n",
    "#             \"n_batches\": 20\n",
    "#         }\n",
    "    },\n",
    "    \"objective_terms\": {\n",
    "        \"loss\": {\n",
    "            \"cls\": \"<class 'torch.nn.modules.loss.CrossEntropyLoss'>\",\n",
    "            \"reduction\": \"mean\"\n",
    "        },\n",
    "        \"kl_div\": {\n",
    "            \"cls\": \"<class 'cplxpaper.auto.objective.ARDPenaltyObjective'>\",\n",
    "            \"reduction\": \"mean\",\n",
    "            \"coef\": 1.0\n",
    "        }\n",
    "    },\n",
    "    \"scorers\": {},\n",
    "    \n",
    "}"
   ]
  },
  {
   "cell_type": "code",
   "execution_count": null,
   "metadata": {},
   "outputs": [],
   "source": [
    "devtype = dict(device=torch.device(\"cuda:1\"))\n",
    "\n",
    "datasets = auto.get_datasets(options[\"datasets\"])\n",
    "feeds = auto.get_feeds(datasets, devtype, options[\"features\"], options[\"feeds\"])\n",
    "objective_terms = auto.get_objective_terms(datasets, options[\"objective_terms\"])\n",
    "\n",
    "scorers = auto.get_scorers(feeds, options[\"scorers\"])"
   ]
  },
  {
   "cell_type": "code",
   "execution_count": null,
   "metadata": {},
   "outputs": [],
   "source": [
    "bx, by = next(iter(feeds[\"musicnet-valid\"]))"
   ]
  },
  {
   "cell_type": "code",
   "execution_count": null,
   "metadata": {},
   "outputs": [],
   "source": [
    "bx"
   ]
  },
  {
   "cell_type": "code",
   "execution_count": null,
   "metadata": {},
   "outputs": [],
   "source": [
    "# [*map(tqdm.tqdm._decr_instances, list(tqdm.tqdm._instances))]"
   ]
  },
  {
   "cell_type": "code",
   "execution_count": null,
   "metadata": {},
   "outputs": [],
   "source": [
    "import tqdm\n",
    "\n",
    "for bx, by in tqdm.tqdm(feeds[\"mnist-test\"]):\n",
    "    pass"
   ]
  },
  {
   "cell_type": "code",
   "execution_count": null,
   "metadata": {},
   "outputs": [],
   "source": [
    "bx, by = next(iter(feed))"
   ]
  },
  {
   "cell_type": "code",
   "execution_count": null,
   "metadata": {},
   "outputs": [],
   "source": [
    "z = torch.randn(320, 1, 28, 28, 2).cpu()"
   ]
  },
  {
   "cell_type": "code",
   "execution_count": null,
   "metadata": {},
   "outputs": [],
   "source": [
    "%%timeit -n 2000\n",
    "torch.fft(z, signal_ndim=2)\n",
    "torch.cuda.synchronize()"
   ]
  },
  {
   "cell_type": "code",
   "execution_count": null,
   "metadata": {},
   "outputs": [],
   "source": []
  }
 ],
 "metadata": {
  "kernelspec": {
   "display_name": "Python 3",
   "language": "python",
   "name": "python3"
  },
  "language_info": {
   "codemirror_mode": {
    "name": "ipython",
    "version": 3
   },
   "file_extension": ".py",
   "mimetype": "text/x-python",
   "name": "python",
   "nbconvert_exporter": "python",
   "pygments_lexer": "ipython3",
   "version": "3.7.5"
  }
 },
 "nbformat": 4,
 "nbformat_minor": 2
}
