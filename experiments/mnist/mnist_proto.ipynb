{
 "cells": [
  {
   "cell_type": "markdown",
   "metadata": {},
   "source": [
    "# MNIST experiment prototype"
   ]
  },
  {
   "cell_type": "code",
   "execution_count": null,
   "metadata": {},
   "outputs": [],
   "source": [
    "import torch\n",
    "import numpy as np"
   ]
  },
  {
   "cell_type": "code",
   "execution_count": null,
   "metadata": {},
   "outputs": [],
   "source": [
    "import json\n",
    "\n",
    "from pkg_resources import resource_stream\n",
    "\n",
    "with resource_stream(\"cplxpaper.mnist\", \"template.json\") as fin:\n",
    "    options = json.load(fin)"
   ]
  },
  {
   "cell_type": "code",
   "execution_count": null,
   "metadata": {},
   "outputs": [],
   "source": [
    "%matplotlib inline\n",
    "import matplotlib.pyplot as plt"
   ]
  },
  {
   "cell_type": "code",
   "execution_count": null,
   "metadata": {},
   "outputs": [],
   "source": [
    "from cplxpaper.auto import auto"
   ]
  },
  {
   "cell_type": "code",
   "execution_count": null,
   "metadata": {},
   "outputs": [],
   "source": [
    "options[\"device\"] = \"cuda:1\""
   ]
  },
  {
   "cell_type": "code",
   "execution_count": null,
   "metadata": {},
   "outputs": [],
   "source": [
    "options[\"datasets\"] = {\n",
    "    'mnist-train': {\n",
    "        'cls': \"<class 'cplxpaper.mnist.dataset.FashionMNIST_Train'>\", 'root': './data'\n",
    "    },\n",
    "    'mnist-test': {\n",
    "        'cls': \"<class 'cplxpaper.mnist.dataset.FashionMNIST_Test'>\", 'root': './data'\n",
    "    }\n",
    "}"
   ]
  },
  {
   "cell_type": "code",
   "execution_count": null,
   "metadata": {},
   "outputs": [],
   "source": [
    "options[\"features\"] = {\n",
    "#     'cls': \"<class 'cplxpaper.auto.feeds.FeedFourierFeatures'>\",\n",
    "#     'signal_ndim': 2,\n",
    "#     'cplx': True,\n",
    "#     'shift': True,\n",
    "    'cls': \"<class 'cplxpaper.auto.feeds.FeedRawFeatures'>\"\n",
    "}"
   ]
  },
  {
   "cell_type": "raw",
   "metadata": {},
   "source": [
    "options[\"model\"][\"cls\"] = \"<class 'cplxpaper.mnist.models.complex.SimpleDenseModel'>\"\n",
    "options[\"stages\"]['sparsify'][\"model\"][\"cls\"] = \"<class 'cplxpaper.mnist.models.complex.SimpleDenseModelARD'>\"\n",
    "options[\"stages\"]['fine-tune'][\"model\"][\"cls\"] = \"<class 'cplxpaper.mnist.models.complex.SimpleDenseModelMasked'>\""
   ]
  },
  {
   "cell_type": "code",
   "execution_count": null,
   "metadata": {},
   "outputs": [],
   "source": [
    "options[\"model\"][\"cls\"] = \"<class 'cplxpaper.mnist.models.real.SimpleDenseModel'>\"\n",
    "options[\"stages\"]['sparsify'][\"model\"][\"cls\"] = \"<class 'cplxpaper.mnist.models.real.SimpleDenseModelARD'>\"\n",
    "options[\"stages\"]['fine-tune'][\"model\"][\"cls\"] = \"<class 'cplxpaper.mnist.models.real.SimpleDenseModelMasked'>\""
   ]
  },
  {
   "cell_type": "code",
   "execution_count": null,
   "metadata": {},
   "outputs": [],
   "source": [
    "options[\"stages\"]['fine-tune']['reset'] = True"
   ]
  },
  {
   "cell_type": "code",
   "execution_count": null,
   "metadata": {},
   "outputs": [],
   "source": [
    "# options"
   ]
  },
  {
   "cell_type": "code",
   "execution_count": null,
   "metadata": {
    "scrolled": false
   },
   "outputs": [],
   "source": [
    "snapshots = auto.run(options, './test', \"fashion-mnist-simple\")"
   ]
  },
  {
   "cell_type": "code",
   "execution_count": null,
   "metadata": {},
   "outputs": [],
   "source": [
    "from cplxpaper.auto.utils import load_snapshot\n",
    "\n",
    "def get_terms_from_snapshots(*snapshots):\n",
    "    history = {\"early_history\": []}\n",
    "    for snapshot in snapshots:\n",
    "        state = load_snapshot(snapshot)\n",
    "\n",
    "        # extract train loss history\n",
    "        for k, v in state[\"history\"].items():\n",
    "            history.setdefault(k, []).append(v)\n",
    "\n",
    "        # extract history\n",
    "        history[\"early_history\"].append(state[\"early_history\"])\n",
    "\n",
    "    return {k: np.concatenate(v, axis=0) for k, v in history.items()}"
   ]
  },
  {
   "cell_type": "code",
   "execution_count": null,
   "metadata": {},
   "outputs": [],
   "source": [
    "history = get_terms_from_snapshots(*snapshots)\n",
    "\n",
    "fig, ax = plt.subplots(1, 1, figsize=(16, 5))\n",
    "for name, values in history.items():\n",
    "    if name == \"early_history\": continue\n",
    "    ax.semilogy(values, label=name, alpha=0.6)"
   ]
  },
  {
   "cell_type": "code",
   "execution_count": null,
   "metadata": {},
   "outputs": [],
   "source": [
    "load_snapshot(snapshots[0])[\"performance\"]"
   ]
  },
  {
   "cell_type": "code",
   "execution_count": null,
   "metadata": {},
   "outputs": [],
   "source": [
    "load_snapshot(snapshots[-1])[\"performance\"]"
   ]
  },
  {
   "cell_type": "code",
   "execution_count": null,
   "metadata": {},
   "outputs": [],
   "source": [
    "assert False"
   ]
  },
  {
   "cell_type": "markdown",
   "metadata": {},
   "source": [
    "<br>"
   ]
  },
  {
   "cell_type": "code",
   "execution_count": null,
   "metadata": {},
   "outputs": [],
   "source": [
    "cold = load_snapshot('./test/2-fine-tune cplx-mnist.gz')"
   ]
  },
  {
   "cell_type": "code",
   "execution_count": null,
   "metadata": {
    "scrolled": false
   },
   "outputs": [],
   "source": [
    "\n",
    "reim = zip(cold['model'][\"conv1.weight.real\"].numpy(), cold['model'][\"conv1.weight.imag\"].numpy())\n",
    "for re, im in reim:\n",
    "    plt.imshow((re*re+im*im)[0])\n",
    "    plt.show()"
   ]
  },
  {
   "cell_type": "markdown",
   "metadata": {},
   "source": [
    "<br>"
   ]
  }
 ],
 "metadata": {
  "kernelspec": {
   "display_name": "Python 3",
   "language": "python",
   "name": "python3"
  },
  "language_info": {
   "codemirror_mode": {
    "name": "ipython",
    "version": 3
   },
   "file_extension": ".py",
   "mimetype": "text/x-python",
   "name": "python",
   "nbconvert_exporter": "python",
   "pygments_lexer": "ipython3",
   "version": "3.7.5"
  }
 },
 "nbformat": 4,
 "nbformat_minor": 2
}
