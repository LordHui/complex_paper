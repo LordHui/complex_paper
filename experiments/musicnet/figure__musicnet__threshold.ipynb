{
 "cells": [
  {
   "cell_type": "markdown",
   "metadata": {},
   "source": [
    "# Report and plots `fig:threshold__tradeoff`"
   ]
  },
  {
   "cell_type": "code",
   "execution_count": null,
   "metadata": {},
   "outputs": [],
   "source": [
    "import os\n",
    "import tqdm\n",
    "\n",
    "import numpy as np\n",
    "import pandas as pd\n",
    "\n",
    "%matplotlib inline\n",
    "import matplotlib.pyplot as plt\n",
    "\n",
    "import warnings\n",
    "warnings.simplefilter(\"ignore\")"
   ]
  },
  {
   "cell_type": "markdown",
   "metadata": {},
   "source": [
    "<br>"
   ]
  },
  {
   "cell_type": "markdown",
   "metadata": {},
   "source": [
    "## Prepare the report"
   ]
  },
  {
   "cell_type": "code",
   "execution_count": null,
   "metadata": {},
   "outputs": [],
   "source": [
    "PREFIX = \"appendix__\"\n",
    "\n",
    "report = \"./grids/musicnet__threshold.pk\"\n",
    "\n",
    "experiments = [\n",
    "# # 1.5/200  # the best model\n",
    "#     './grids/grid-fast/musicnet-fast__00/musicnet[003]-098',  # ARD\n",
    "#     './grids/grid-fast/musicnet-fast__01/musicnet[001]-046',\n",
    "#     './grids/grid-fast/musicnet-fast__02/musicnet[004]-124',\n",
    "#     './grids/grid-fast/musicnet-fast__03/musicnet[002]-072',\n",
    "#     './grids/grid-fast/musicnet-fast__04/musicnet[000]-020',\n",
    "\n",
    "#     './grids/grid-fast/musicnet-fast__00/musicnet[003]-085',  # VD\n",
    "#     './grids/grid-fast/musicnet-fast__01/musicnet[001]-033',\n",
    "#     './grids/grid-fast/musicnet-fast__02/musicnet[004]-111',\n",
    "#     './grids/grid-fast/musicnet-fast__03/musicnet[002]-059',\n",
    "#     './grids/grid-fast/musicnet-fast__04/musicnet[000]-007',\n",
    "\n",
    "# 1/200\n",
    "    './grids/grid-fast/musicnet-fast__00/musicnet[003]-097',  # ARD\n",
    "    './grids/grid-fast/musicnet-fast__01/musicnet[001]-045',\n",
    "    './grids/grid-fast/musicnet-fast__02/musicnet[004]-123',\n",
    "    './grids/grid-fast/musicnet-fast__03/musicnet[002]-071',\n",
    "    './grids/grid-fast/musicnet-fast__04/musicnet[000]-019',\n",
    "\n",
    "    './grids/grid-fast/musicnet-fast__00/musicnet[003]-084',  # VD\n",
    "    './grids/grid-fast/musicnet-fast__01/musicnet[001]-032',\n",
    "    './grids/grid-fast/musicnet-fast__02/musicnet[004]-110',\n",
    "    './grids/grid-fast/musicnet-fast__03/musicnet[002]-058',\n",
    "    './grids/grid-fast/musicnet-fast__04/musicnet[000]-006',\n",
    "    \n",
    "# # 1/2000\n",
    "#     './grids/grid-fast/musicnet-fast__00/musicnet[003]-093',  # ARD\n",
    "#     './grids/grid-fast/musicnet-fast__01/musicnet[001]-041',\n",
    "#     './grids/grid-fast/musicnet-fast__02/musicnet[004]-119',\n",
    "#     './grids/grid-fast/musicnet-fast__03/musicnet[002]-067',\n",
    "#     './grids/grid-fast/musicnet-fast__04/musicnet[000]-015',\n",
    "\n",
    "#     './grids/grid-fast/musicnet-fast__00/musicnet[003]-080',  # VD\n",
    "#     './grids/grid-fast/musicnet-fast__01/musicnet[001]-028',\n",
    "#     './grids/grid-fast/musicnet-fast__02/musicnet[004]-106',\n",
    "#     './grids/grid-fast/musicnet-fast__03/musicnet[002]-054',\n",
    "#     './grids/grid-fast/musicnet-fast__04/musicnet[000]-002',\n",
    "\n",
    "# 1/20\n",
    "    './grids/grid-fast/musicnet-fast__00/musicnet[003]-101',  # ARD\n",
    "    './grids/grid-fast/musicnet-fast__01/musicnet[001]-049',\n",
    "    './grids/grid-fast/musicnet-fast__02/musicnet[004]-127',\n",
    "    './grids/grid-fast/musicnet-fast__03/musicnet[002]-075',\n",
    "    './grids/grid-fast/musicnet-fast__04/musicnet[000]-023',\n",
    "\n",
    "    './grids/grid-fast/musicnet-fast__00/musicnet[003]-088',  # VD\n",
    "    './grids/grid-fast/musicnet-fast__01/musicnet[001]-036',\n",
    "    './grids/grid-fast/musicnet-fast__02/musicnet[004]-114',\n",
    "    './grids/grid-fast/musicnet-fast__03/musicnet[002]-062',\n",
    "    './grids/grid-fast/musicnet-fast__04/musicnet[000]-010',\n",
    "]"
   ]
  },
  {
   "cell_type": "markdown",
   "metadata": {},
   "source": [
    "<br>"
   ]
  },
  {
   "cell_type": "code",
   "execution_count": null,
   "metadata": {},
   "outputs": [],
   "source": [
    "assert False, '''Run cells below to create an analyzer script for this experiment.'''"
   ]
  },
  {
   "cell_type": "markdown",
   "metadata": {},
   "source": [
    "<br>"
   ]
  },
  {
   "cell_type": "markdown",
   "metadata": {},
   "source": [
    "Pick a name for the report pickle and compile a **bash** script for\n",
    "building the threshold figure for each of epxeriment in the list above."
   ]
  },
  {
   "cell_type": "code",
   "execution_count": null,
   "metadata": {},
   "outputs": [],
   "source": [
    "import stat\n",
    "\n",
    "devspec = \"\"\"--devices \"cuda:0\" \"cuda:1\" \"cuda:2\" \"cuda:3\" --per-device 3\"\"\"\n",
    "\n",
    "bash = \"./grids/musicnet__threshold.sh\"\n",
    "with open(bash, \"w\") as fout:\n",
    "    for experiment in experiments:\n",
    "        path = os.path.abspath(os.path.normpath(experiment))\n",
    "        fout.write(f\"\"\"python -m cplxpaper.auto.reports {devspec} --append\"\"\"\n",
    "                   f\"\"\" \"threshold\" \"{os.path.abspath(report)}\" \"{path}.json\"\\n\"\"\")\n",
    "\n",
    "# allow exc and keep r/w\n",
    "os.chmod(bash, stat.S_IXUSR | stat.S_IRUSR | stat.S_IWUSR)\n",
    "\n",
    "bash"
   ]
  },
  {
   "cell_type": "markdown",
   "metadata": {},
   "source": [
    "<br>"
   ]
  },
  {
   "cell_type": "code",
   "execution_count": null,
   "metadata": {},
   "outputs": [],
   "source": [
    "assert False, '''Run all below to make the figure.'''"
   ]
  },
  {
   "cell_type": "markdown",
   "metadata": {},
   "source": [
    "<br>"
   ]
  },
  {
   "cell_type": "markdown",
   "metadata": {},
   "source": [
    "## Build the table"
   ]
  },
  {
   "cell_type": "markdown",
   "metadata": {},
   "source": [
    "Load the report constructed on the selected experiments."
   ]
  },
  {
   "cell_type": "code",
   "execution_count": null,
   "metadata": {},
   "outputs": [],
   "source": [
    "from cplxpaper.auto.reports.utils import restore\n",
    "from cplxpaper.auto.parameter_grid import reconstruct_grid\n",
    "\n",
    "def build_report(filename):\n",
    "    report = tqdm.tqdm(restore(filename), desc=\"analyzing report data\")\n",
    "    workers, results = zip(*report)    \n",
    "    if not results:\n",
    "        return {}, []\n",
    "\n",
    "    # compute the grid and flatten the manifests\n",
    "    experiments, thresholds, options, *results = zip(*results)\n",
    "    full_grid, flat_options = reconstruct_grid(options)\n",
    "\n",
    "    return full_grid, [*zip(experiments, thresholds, flat_options, *results)]"
   ]
  },
  {
   "cell_type": "markdown",
   "metadata": {},
   "source": [
    "Extract the score from the scorers' output."
   ]
  },
  {
   "cell_type": "code",
   "execution_count": null,
   "metadata": {},
   "outputs": [],
   "source": [
    "from cplxpaper.auto.reports.utils import dict_get_one\n",
    "\n",
    "def get_score(score):\n",
    "    n_zer, n_par = map(sum, zip(*score[\"sparsity\"].values()))\n",
    "    return {\n",
    "        \"score\": dict_get_one(score, \"pooled_average_precision\", \"accuracy\"),\n",
    "        \"compression\": n_par / (n_par - n_zer)\n",
    "    }"
   ]
  },
  {
   "cell_type": "markdown",
   "metadata": {},
   "source": [
    "Evaluate several grids and join them"
   ]
  },
  {
   "cell_type": "code",
   "execution_count": null,
   "metadata": {},
   "outputs": [],
   "source": [
    "raw_grid, output = build_report(report)"
   ]
  },
  {
   "cell_type": "markdown",
   "metadata": {},
   "source": [
    "Alter the recovered grid"
   ]
  },
  {
   "cell_type": "code",
   "execution_count": null,
   "metadata": {},
   "outputs": [],
   "source": [
    "grid = set(field for field in raw_grid\n",
    "           if not any(map(field.__contains__, {\n",
    "                # service fields\n",
    "                \"__name__\", \"__timestamp__\", \"__version__\", \"device\",\n",
    "\n",
    "                # ignore global model class settings\n",
    "                \"model__cls\",\n",
    "\n",
    "                # upcast is a service variable, which only complex models have\n",
    "                #  and it is usually mirrored in `features` settings.\n",
    "                \"__upcast\"\n",
    "            })))\n",
    "\n",
    "grid.update({\n",
    "    \"stages__sparsify__model__cls\",\n",
    "    \"stages__sparsify__objective__kl_div\",\n",
    "    \"threshold\"  # ensure threshold is included\n",
    "})"
   ]
  },
  {
   "cell_type": "markdown",
   "metadata": {},
   "source": [
    "Index by the experiment **grid--folder** and prepare fields"
   ]
  },
  {
   "cell_type": "code",
   "execution_count": null,
   "metadata": {},
   "outputs": [],
   "source": [
    "experiments, thresholds, options, *rest = zip(*output)\n",
    "\n",
    "# experiment paths are absolute!\n",
    "df = pd.DataFrame([*zip(experiments, thresholds)], columns=[\"experiment\", \"threshold\"])\n",
    "df = df[\"experiment\"].str.replace(os.path.commonpath(experiments), \"*\")\\\n",
    "                     .str.extract(\"^(?P<grid>.*)/(?P<experiment>[^/]*)$\", expand=True)\\\n",
    "                     .join(df[\"threshold\"])\n",
    "\n",
    "master_index = df.set_index([\"grid\", \"experiment\", \"threshold\"]).index"
   ]
  },
  {
   "cell_type": "markdown",
   "metadata": {},
   "source": [
    "Gradually construct the table of options"
   ]
  },
  {
   "cell_type": "code",
   "execution_count": null,
   "metadata": {},
   "outputs": [],
   "source": [
    "parameters = pd.DataFrame(index=master_index)"
   ]
  },
  {
   "cell_type": "markdown",
   "metadata": {},
   "source": [
    "Assign proper tags to models"
   ]
  },
  {
   "cell_type": "code",
   "execution_count": null,
   "metadata": {},
   "outputs": [],
   "source": [
    "from cplxpaper.auto.reports.utils import get_model_tag\n",
    "\n",
    "def patched_get_model_tag(opt):\n",
    "    tag = get_model_tag(opt)\n",
    "\n",
    "    # Legacy model patch: if not specified then True (see `musicnet.models.base`)\n",
    "    cls = tag[\"model\"]\n",
    "    if \"DeepConvNet\" in cls and opt.get(\"model__legacy\", True):\n",
    "        cls += \" k3\"\n",
    "\n",
    "    return {**tag, \"model\": cls}\n",
    "\n",
    "grid = [k for k in grid if not k.startswith((\n",
    "    \"model__\",\n",
    "    \"stages__sparsify__model__\"\n",
    "))]\n",
    "\n",
    "parameters = parameters.join(pd.DataFrame([\n",
    "    *map(patched_get_model_tag, options)\n",
    "], index=master_index))"
   ]
  },
  {
   "cell_type": "markdown",
   "metadata": {},
   "source": [
    "Other fields' preprocessing."
   ]
  },
  {
   "cell_type": "code",
   "execution_count": null,
   "metadata": {},
   "outputs": [],
   "source": [
    "assert 'dataset' not in grid\n",
    "assert 'features' not in grid"
   ]
  },
  {
   "cell_type": "markdown",
   "metadata": {},
   "source": [
    "Only the essential experiment parameters should have remained by now."
   ]
  },
  {
   "cell_type": "code",
   "execution_count": null,
   "metadata": {},
   "outputs": [],
   "source": [
    "parameters = parameters.join(pd.DataFrame([\n",
    "    {g: opt[g] for g in grid} for opt in options\n",
    "], index=master_index))\n",
    "\n",
    "grid"
   ]
  },
  {
   "cell_type": "markdown",
   "metadata": {},
   "source": [
    "Now collect the metrics. We need:\n",
    "* **accuracy** performance on `dense`, `pre-fine-tune` and `post-fine-tune`\n",
    "* **compression rate** from a `fine-tune` stage"
   ]
  },
  {
   "cell_type": "code",
   "execution_count": null,
   "metadata": {},
   "outputs": [],
   "source": [
    "scores, *tail = rest\n",
    "assert not tail\n",
    "\n",
    "metrics = pd.DataFrame([\n",
    "    get_score(dict_get_one(score, \"test\", \"test-256\")) for score in scores\n",
    "], index=master_index)"
   ]
  },
  {
   "cell_type": "markdown",
   "metadata": {},
   "source": [
    "Join the tables and rename unfotunate columns."
   ]
  },
  {
   "cell_type": "code",
   "execution_count": null,
   "metadata": {},
   "outputs": [],
   "source": [
    "df_main = parameters.join(metrics).rename(columns={\n",
    "    \"stages__sparsify__objective__kl_div\": \"kl_div\"\n",
    "})"
   ]
  },
  {
   "cell_type": "markdown",
   "metadata": {},
   "source": [
    "<br>"
   ]
  },
  {
   "cell_type": "markdown",
   "metadata": {},
   "source": [
    "## Create the threshold plot"
   ]
  },
  {
   "cell_type": "markdown",
   "metadata": {},
   "source": [
    "Decide on the target folder and computation cache."
   ]
  },
  {
   "cell_type": "code",
   "execution_count": null,
   "metadata": {},
   "outputs": [],
   "source": [
    "report_name = \"figure__musicnet__threshold\"\n",
    "\n",
    "report_target = os.path.normpath(os.path.abspath(os.path.join(\n",
    "    \"../../assets\", report_name\n",
    ")))"
   ]
  },
  {
   "cell_type": "markdown",
   "metadata": {},
   "source": [
    "A service plotting function to darkern the specified colour"
   ]
  },
  {
   "cell_type": "code",
   "execution_count": null,
   "metadata": {},
   "outputs": [],
   "source": [
    "from matplotlib.ticker import FormatStrFormatter, FuncFormatter\n",
    "\n",
    "\n",
    "def darker(color, a=0.5):\n",
    "    \"\"\"Adapted from this stackoverflow question_.\n",
    "    .. _question: https://stackoverflow.com/questions/37765197/\n",
    "    \"\"\"\n",
    "    from matplotlib.colors import to_rgb\n",
    "    from colorsys import rgb_to_hls, hls_to_rgb\n",
    "\n",
    "    h, l, s = rgb_to_hls(*to_rgb(color))\n",
    "    return hls_to_rgb(h, max(0, min(a * l, 1)), s)"
   ]
  },
  {
   "cell_type": "markdown",
   "metadata": {},
   "source": [
    "Group by all fileds except for `threshold`:\n",
    "* `model`, `kind`, `method`, `dataset`, `features` and `kl_div`"
   ]
  },
  {
   "cell_type": "code",
   "execution_count": null,
   "metadata": {},
   "outputs": [],
   "source": [
    "print([f for f in parameters.columns if \"kl_div\" not in f])\n",
    "fields = [\n",
    "    'method',\n",
    "    'model',\n",
    "    'kind',\n",
    "    'kl_div'\n",
    "]"
   ]
  },
  {
   "cell_type": "markdown",
   "metadata": {},
   "source": [
    "Handle colours"
   ]
  },
  {
   "cell_type": "code",
   "execution_count": null,
   "metadata": {},
   "outputs": [],
   "source": [
    "def kind_model_method_color(kind, model, method, kl_div):\n",
    "    return {  # VD/ARD\n",
    "        # tab10 colours are paired! use this to keep similar models distinguishable\n",
    "        (\"C\"  , \"DeepConvNet\",   \"VD\", 1/200): \"C0\",\n",
    "        (\"C\"  , \"DeepConvNet\",  \"ARD\", 1/200): \"C1\",\n",
    "        (\"C\"  , \"DeepConvNet\",   \"VD\", 1/20): \"C2\",\n",
    "        (\"C\"  , \"DeepConvNet\",  \"ARD\", 1/20): \"C3\",\n",
    "        (\"C\"  , \"DeepConvNet\",   \"VD\", 1/2000): \"C4\",\n",
    "        (\"C\"  , \"DeepConvNet\",  \"ARD\", 1/2000): \"C5\",\n",
    "    }[kind, model, method, kl_div]"
   ]
  },
  {
   "cell_type": "markdown",
   "metadata": {},
   "source": [
    "Make a crude plot"
   ]
  },
  {
   "cell_type": "code",
   "execution_count": null,
   "metadata": {},
   "outputs": [],
   "source": [
    "fig, (ax_l, ax_r) = plt.subplots(2, 1, figsize=(8, 5), dpi=300, sharex=True)\n",
    "fig.patch.set_alpha(1.0)\n",
    "\n",
    "ax_l.set_title(\"The effect of $\\\\tau$ on performance and compression (MusicNet)\")\n",
    "\n",
    "# set up limits and axis labels\n",
    "ax_l.set_ylabel(\"Average Precision\")\n",
    "ax_r.set_ylabel(\"$\\\\times$ compression\")\n",
    "ax_r.set_yscale(\"log\")\n",
    "\n",
    "ax_r.set_xlabel(\"Threshold $\\\\tau$\")\n",
    "\n",
    "ax_l.set_xlim(-3.6125, 3.6125)\n",
    "ax_l.set_ylim(0.55, 0.75)\n",
    "ax_r.set_ylim(40, 2000)\n",
    "\n",
    "# Trabelsi et al. (2018)\n",
    "ax_l.axhline(0.729, color=\"k\", alpha=0.25, zorder=-10, lw=1)\n",
    "ax_l.annotate(\"Trabelsi et al. (2018)\", xy=(0, 0.75),  xycoords='data',\n",
    "              xytext=(0.05, 0.935), textcoords='axes fraction', alpha=0.75)\n",
    "\n",
    "\n",
    "# group by tau and experiment spec and plot\n",
    "grouper = df_main.groupby(fields)\n",
    "for key, df in tqdm.tqdm(grouper, desc=\"populating plots\"):\n",
    "    df = df[[\"score\", \"compression\"]].sort_index()\n",
    "    label = dict(zip(fields, key))\n",
    "\n",
    "    m, min_, max_ = df.mean(level=-1), df.min(level=-1), df.max(level=-1)\n",
    "    color = kind_model_method_color(**label)\n",
    "\n",
    "    for ax, field, marker in zip([ax_l, ax_r], [\"score\", \"compression\"], [\"\", \"o\"]):\n",
    "        ax.fill_between(m.index, min_[field], max_[field],\n",
    "                          color=darker(color, 1.4), alpha=0.25, zorder=10)\n",
    "        ax.plot(m[field], c=color, alpha=1.0, marker=marker, markersize=4,\n",
    "                label=\"{kind} {model} {method} ($C={kl_div}$)\".format(**label),\n",
    "                zorder=15)\n",
    "\n",
    "ax_l.legend(ncol=1, loc=(0.55, .05))  # loc=\"center right\")\n",
    "\n",
    "ax_l.axvline(-0.5, c=\"k\", lw=2, zorder=2)\n",
    "ax_r.axvline(-0.5, c=\"k\", lw=2, zorder=2)\n",
    "# ax_r.grid(axis='y', which='both')\n",
    "# ax_l.grid(axis='y', which='both')\n",
    "\n",
    "plt.tight_layout(h_pad=-0.55)\n",
    "fig.savefig(f\"{report_target}.pdf\", dpi=300)\n",
    "\n",
    "# plt.show()\n",
    "plt.close()"
   ]
  },
  {
   "cell_type": "code",
   "execution_count": null,
   "metadata": {},
   "outputs": [],
   "source": [
    "assert False"
   ]
  },
  {
   "cell_type": "markdown",
   "metadata": {},
   "source": [
    "<br>"
   ]
  }
 ],
 "metadata": {
  "kernelspec": {
   "display_name": "Python 3",
   "language": "python",
   "name": "python3"
  },
  "language_info": {
   "codemirror_mode": {
    "name": "ipython",
    "version": 3
   },
   "file_extension": ".py",
   "mimetype": "text/x-python",
   "name": "python",
   "nbconvert_exporter": "python",
   "pygments_lexer": "ipython3",
   "version": "3.8.1"
  }
 },
 "nbformat": 4,
 "nbformat_minor": 2
}
