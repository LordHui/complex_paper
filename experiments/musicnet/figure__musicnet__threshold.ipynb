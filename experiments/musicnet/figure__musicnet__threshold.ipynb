{
 "cells": [
  {
   "cell_type": "markdown",
   "metadata": {},
   "source": [
    "# Plots `fig:hist__and__threshold__tradeoff`"
   ]
  },
  {
   "cell_type": "code",
   "execution_count": null,
   "metadata": {},
   "outputs": [],
   "source": [
    "import os\n",
    "import re\n",
    "\n",
    "import torch\n",
    "import numpy as np"
   ]
  },
  {
   "cell_type": "code",
   "execution_count": null,
   "metadata": {},
   "outputs": [],
   "source": [
    "import pandas as pd\n",
    "\n",
    "%matplotlib inline\n",
    "import matplotlib.pyplot as plt"
   ]
  },
  {
   "cell_type": "code",
   "execution_count": null,
   "metadata": {},
   "outputs": [],
   "source": [
    "import warnings\n",
    "\n",
    "warnings.simplefilter(\"ignore\")"
   ]
  },
  {
   "cell_type": "code",
   "execution_count": null,
   "metadata": {},
   "outputs": [],
   "source": [
    "from cplxpaper.auto import auto\n",
    "\n",
    "from cplxpaper.auto.utils import file_cache\n",
    "from cplxpaper.auto.utils import load_stage_snapshot"
   ]
  },
  {
   "cell_type": "code",
   "execution_count": null,
   "metadata": {},
   "outputs": [],
   "source": [
    "from cplxpaper.auto.utils import load_manifest, verify_experiment"
   ]
  },
  {
   "cell_type": "code",
   "execution_count": null,
   "metadata": {},
   "outputs": [],
   "source": [
    "device_ = torch.device(\"cuda:3\")"
   ]
  },
  {
   "cell_type": "code",
   "execution_count": null,
   "metadata": {},
   "outputs": [],
   "source": [
    "report_name = \"figure__musicnet__threshold\"\n",
    "\n",
    "report_target = os.path.normpath(os.path.abspath(os.path.join(\n",
    "    \"../../assets\", report_name\n",
    ")))\n",
    "\n",
    "filename = f\"{report_target}.pdf\""
   ]
  },
  {
   "cell_type": "markdown",
   "metadata": {},
   "source": [
    "<br>"
   ]
  },
  {
   "cell_type": "markdown",
   "metadata": {},
   "source": [
    "Borrowed from `figure__musicnet__trade-off.ipynb`"
   ]
  },
  {
   "cell_type": "code",
   "execution_count": null,
   "metadata": {},
   "outputs": [],
   "source": [
    "def get_model_tag(opt):\n",
    "    # extract the class name\n",
    "    cls = opt[\"stages__sparsify__model__cls\"]\n",
    "    cls = re.sub(\"^<class '.*?\\.models\\.(.*?)'>$\", r\"\\1\", cls)\n",
    "\n",
    "    # get the model kind: real/complex\n",
    "    if not cls.startswith((\"real.\", \"complex.\")):\n",
    "        raise ValueError(\"Unknown model type.\")\n",
    "\n",
    "    if cls.startswith(\"real.\"):\n",
    "        kind, cls = \"R\", cls[5:]\n",
    "    elif cls.startswith(\"complex.\"):\n",
    "        kind, cls = \"C\", cls[8:]\n",
    "\n",
    "    # handle real `double` and cplx `half`\n",
    "    if kind == \"R\" and opt.get(\"model__double\", False):\n",
    "        kind = kind + \"*2\"\n",
    "    elif kind == \"C\" and opt.get(\"model__half\", False):\n",
    "        kind = kind + \"/2\"\n",
    "\n",
    "    # get method\n",
    "    if not cls.endswith((\"VD\", \"ARD\")):\n",
    "        raise ValueError(\"Unknown Bayesian method.\")\n",
    "\n",
    "    if cls.endswith(\"VD\"):\n",
    "        method, cls = \"VD\", cls[:-2]\n",
    "    elif cls.endswith(\"ARD\"):\n",
    "        method, cls = \"ARD\", cls[:-3]\n",
    "    \n",
    "    # Legacy model patch: if not specified then True (see `musicnet.models.base`)\n",
    "    if \"DeepConvNet\" in cls and opt.get(\"model__legacy\", True):\n",
    "        cls += \" k3\"\n",
    "\n",
    "    return {\"model\": cls, \"kind\": kind, \"method\": method}"
   ]
  },
  {
   "cell_type": "markdown",
   "metadata": {},
   "source": [
    "The same service function, as in other notebooks, to load a model (with weights)\n",
    "from the given snapshot."
   ]
  },
  {
   "cell_type": "code",
   "execution_count": null,
   "metadata": {},
   "outputs": [],
   "source": [
    "def load_model(snapshot, errors=\"ignore\"):\n",
    "    \"\"\"Recover the model from the snapshot.\"\"\"\n",
    "    if errors not in (\"ignore\", \"raise\"):\n",
    "        raise ValueError(f\"`errors` must be either 'ignore' or 'raise'.\")\n",
    "\n",
    "    if any(k not in snapshot for k in [\"options\", \"stage\", \"model\"]):\n",
    "        if errors == \"raise\":\n",
    "            raise ValueError(\"Bad snapshot.\")\n",
    "        return torch.nn.Module()\n",
    "\n",
    "    options = snapshot[\"options\"]\n",
    "    _, settings = snapshot[\"stage\"]\n",
    "\n",
    "    model = auto.get_model(options[\"model\"], **settings[\"model\"])\n",
    "    model.to(device=torch.device(\"cpu\"))\n",
    "    model.load_state_dict(snapshot[\"model\"])\n",
    "\n",
    "    return model"
   ]
  },
  {
   "cell_type": "markdown",
   "metadata": {},
   "source": [
    "A dirty hack to avoid reloading the same dataset mutliple times."
   ]
  },
  {
   "cell_type": "code",
   "execution_count": null,
   "metadata": {},
   "outputs": [],
   "source": [
    "import copy\n",
    "import pickle\n",
    "from functools import lru_cache\n",
    "\n",
    "@lru_cache(None)\n",
    "def _get_datasets(key):\n",
    "    return auto.get_datasets(pickle.loads(key))\n",
    "\n",
    "def get_datasets(datasets):\n",
    "    return _get_datasets(pickle.dumps(datasets))"
   ]
  },
  {
   "cell_type": "raw",
   "metadata": {},
   "source": [
    "from cplxpaper.mnist.performance import MNISTBasePerformance\n",
    "\n",
    "def get_scorers(options, threshold=None, **kwargs):\n",
    "    if threshold is None:\n",
    "        threshold = options[\"threshold\"]\n",
    "\n",
    "    feeds = auto.get_feeds(\n",
    "        get_datasets(options[\"datasets\"]),\n",
    "        kwargs, options[\"features\"],\n",
    "        {\"test\": options[\"feeds\"][\"test\"]}\n",
    "    )\n",
    "\n",
    "    return {\"test\": MNISTBasePerformance(feeds[\"test\"], threshold=threshold)}"
   ]
  },
  {
   "cell_type": "code",
   "execution_count": null,
   "metadata": {},
   "outputs": [],
   "source": [
    "from cplxpaper.auto.parameter_grid import set_params\n",
    "\n",
    "def get_scorers(options, threshold=None, **kwargs):\n",
    "    if threshold is None:\n",
    "        threshold = options[\"threshold\"]\n",
    "\n",
    "    datasets = copy.deepcopy(options[\"datasets\"])\n",
    "    datasets.pop('musicnet-train')\n",
    "    datasets = get_datasets(datasets)\n",
    "\n",
    "    feeds = copy.deepcopy(options[\"feeds\"])\n",
    "    feeds.pop('train')\n",
    "    feeds = auto.get_feeds(datasets, kwargs, options[\"features\"], feeds)\n",
    "\n",
    "    scorers = copy.deepcopy(options['scorers'])\n",
    "    scorers = set_params(scorers, **{\n",
    "        f\"{k}__curves\": False for k in scorers\n",
    "    }, **{\n",
    "        f\"{k}__threshold\": threshold for k in scorers\n",
    "    })\n",
    "    return auto.get_scorers(feeds, scorers)"
   ]
  },
  {
   "cell_type": "markdown",
   "metadata": {},
   "source": [
    "This notebook uses sparisfied and fine-tuned models from each experiment."
   ]
  },
  {
   "cell_type": "code",
   "execution_count": null,
   "metadata": {},
   "outputs": [],
   "source": [
    "from functools import lru_cache\n",
    "from cplxpaper.auto.auto import state_dict_with_masks\n",
    "\n",
    "@lru_cache(None)\n",
    "def load_experiment(folder):\n",
    "    options = load_manifest(folder)\n",
    "    return options, {\n",
    "        \"sparsify\": load_model(load_stage_snapshot(\"sparsify\", folder)),\n",
    "        \"masked\": load_model(load_stage_snapshot(\"fine-tune\", folder))\n",
    "    }\n",
    "\n",
    "@file_cache(f\"./cache__{report_name}.pk\")\n",
    "def evaluate_experiment(folder, threshold, name=\"test\"):\n",
    "    device = torch.device(device_)\n",
    "\n",
    "    # get the models and the scorer\n",
    "    options, models = load_experiment(folder)\n",
    "    scorers = get_scorers(options, threshold=threshold, device=device)\n",
    "\n",
    "    model = models[\"masked\"].to(device_)\n",
    "    with torch.no_grad():\n",
    "        # get the masks\n",
    "        state_dict, masks = state_dict_with_masks(\n",
    "            models[\"sparsify\"], threshold=threshold, hard=True)\n",
    "\n",
    "        # copy weights and deploy masks onto the next-stage model\n",
    "        model.load_state_dict(state_dict, strict=False)\n",
    "        result = scorers[name](model.eval())\n",
    "\n",
    "    model.cpu()\n",
    "    return options, result"
   ]
  },
  {
   "cell_type": "markdown",
   "metadata": {},
   "source": [
    "<br>"
   ]
  },
  {
   "cell_type": "markdown",
   "metadata": {},
   "source": []
  },
  {
   "cell_type": "code",
   "execution_count": null,
   "metadata": {},
   "outputs": [],
   "source": [
    "experiments = [\n",
    "# # 1.5/200  # the best model\n",
    "#     './grids/grid-fast/musicnet-fast__00/musicnet[003]-098',  # ARD\n",
    "#     './grids/grid-fast/musicnet-fast__01/musicnet[001]-046',\n",
    "#     './grids/grid-fast/musicnet-fast__02/musicnet[004]-124',\n",
    "#     './grids/grid-fast/musicnet-fast__03/musicnet[002]-072',\n",
    "#     './grids/grid-fast/musicnet-fast__04/musicnet[000]-020',\n",
    "\n",
    "#     './grids/grid-fast/musicnet-fast__00/musicnet[003]-085',  # VD\n",
    "#     './grids/grid-fast/musicnet-fast__01/musicnet[001]-033',\n",
    "#     './grids/grid-fast/musicnet-fast__02/musicnet[004]-111',\n",
    "#     './grids/grid-fast/musicnet-fast__03/musicnet[002]-059',\n",
    "#     './grids/grid-fast/musicnet-fast__04/musicnet[000]-007',\n",
    "\n",
    "# 1/200\n",
    "    './grids/grid-fast/musicnet-fast__00/musicnet[003]-097',  # ARD\n",
    "    './grids/grid-fast/musicnet-fast__01/musicnet[001]-045',\n",
    "    './grids/grid-fast/musicnet-fast__02/musicnet[004]-123',\n",
    "    './grids/grid-fast/musicnet-fast__03/musicnet[002]-071',\n",
    "    './grids/grid-fast/musicnet-fast__04/musicnet[000]-019',\n",
    "\n",
    "    './grids/grid-fast/musicnet-fast__00/musicnet[003]-084',  # VD\n",
    "    './grids/grid-fast/musicnet-fast__01/musicnet[001]-032',\n",
    "    './grids/grid-fast/musicnet-fast__02/musicnet[004]-110',\n",
    "    './grids/grid-fast/musicnet-fast__03/musicnet[002]-058',\n",
    "    './grids/grid-fast/musicnet-fast__04/musicnet[000]-006',\n",
    "    \n",
    "# # 1/2000\n",
    "#     './grids/grid-fast/musicnet-fast__00/musicnet[003]-093',  # ARD\n",
    "#     './grids/grid-fast/musicnet-fast__01/musicnet[001]-041',\n",
    "#     './grids/grid-fast/musicnet-fast__02/musicnet[004]-119',\n",
    "#     './grids/grid-fast/musicnet-fast__03/musicnet[002]-067',\n",
    "#     './grids/grid-fast/musicnet-fast__04/musicnet[000]-015',\n",
    "\n",
    "#     './grids/grid-fast/musicnet-fast__00/musicnet[003]-080',  # VD\n",
    "#     './grids/grid-fast/musicnet-fast__01/musicnet[001]-028',\n",
    "#     './grids/grid-fast/musicnet-fast__02/musicnet[004]-106',\n",
    "#     './grids/grid-fast/musicnet-fast__03/musicnet[002]-054',\n",
    "#     './grids/grid-fast/musicnet-fast__04/musicnet[000]-002',\n",
    "\n",
    "# 1/20\n",
    "    './grids/grid-fast/musicnet-fast__00/musicnet[003]-101',  # ARD\n",
    "    './grids/grid-fast/musicnet-fast__01/musicnet[001]-049',\n",
    "    './grids/grid-fast/musicnet-fast__02/musicnet[004]-127',\n",
    "    './grids/grid-fast/musicnet-fast__03/musicnet[002]-075',\n",
    "    './grids/grid-fast/musicnet-fast__04/musicnet[000]-023',\n",
    "\n",
    "    './grids/grid-fast/musicnet-fast__00/musicnet[003]-088',  # VD\n",
    "    './grids/grid-fast/musicnet-fast__01/musicnet[001]-036',\n",
    "    './grids/grid-fast/musicnet-fast__02/musicnet[004]-114',\n",
    "    './grids/grid-fast/musicnet-fast__03/musicnet[002]-062',\n",
    "    './grids/grid-fast/musicnet-fast__04/musicnet[000]-010',\n",
    "]"
   ]
  },
  {
   "cell_type": "markdown",
   "metadata": {},
   "source": [
    "Collect the results from the specified experiments"
   ]
  },
  {
   "cell_type": "code",
   "execution_count": null,
   "metadata": {},
   "outputs": [],
   "source": [
    "import tqdm\n",
    "from itertools import starmap, product\n",
    "from cplxpaper.auto.parameter_grid import flatten\n",
    "\n",
    "thresholds = np.linspace(-3, 3, num=25)\n",
    "\n",
    "raw_results = {}\n",
    "for experiment, tau in tqdm.tqdm([*product(experiments, thresholds)]):\n",
    "    options, score = evaluate_experiment(experiment, tau)  # , \"validation\")  # too slow and unclear intent\n",
    "    options = flatten(options)\n",
    "\n",
    "    key = \"{kind} {model} {method} ($C={kld}$)\".format(\n",
    "        **get_model_tag(options),\n",
    "        kld=options[\"stages__sparsify__objective__kl_div\"]\n",
    "    )\n",
    "\n",
    "    n_zer, n_par = map(sum, zip(*score[\"sparsity\"].values()))\n",
    "    raw_results.setdefault(key, []).append((\n",
    "        options, {\n",
    "            \"tau\": tau,\n",
    "            \"score\": score[\"pooled_average_precision\"],\n",
    "            \"compression\": n_par / (n_par - n_zer)\n",
    "        }\n",
    "    ))"
   ]
  },
  {
   "cell_type": "markdown",
   "metadata": {},
   "source": [
    "Group raw results in $\\tau$ buckets."
   ]
  },
  {
   "cell_type": "code",
   "execution_count": null,
   "metadata": {},
   "outputs": [],
   "source": [
    "results = {}\n",
    "for key, result in raw_results.items():\n",
    "    options, data = zip(*result)\n",
    "\n",
    "    # collect into a dataframe and group by tau\n",
    "    groups = {k: v.drop(columns=\"tau\") for k, v in pd.DataFrame(data).groupby(\"tau\")}\n",
    "    results[key] = options[0], pd.concat(groups, axis=0, names=[\"tau\", \"replication\"])"
   ]
  },
  {
   "cell_type": "markdown",
   "metadata": {},
   "source": [
    "Color scheme borrowed from `figure__musicnet__trade-off.ipynb`"
   ]
  },
  {
   "cell_type": "code",
   "execution_count": null,
   "metadata": {},
   "outputs": [],
   "source": [
    "def darker(color, a=0.5):\n",
    "    \"\"\"Adapted from this stackoverflow question_.\n",
    "    .. _question: https://stackoverflow.com/questions/37765197/\n",
    "    \"\"\"\n",
    "    from matplotlib.colors import to_rgb\n",
    "    from colorsys import rgb_to_hls, hls_to_rgb\n",
    "\n",
    "    h, l, s = rgb_to_hls(*to_rgb(color))\n",
    "    return hls_to_rgb(h, max(0, min(a * l, 1)), s)\n",
    "\n",
    "\n",
    "def kind_model_method_color(kind, model, method, kld):\n",
    "    return {  # VD/ARD\n",
    "        # tab10 colours are paired! use this to keep similar models distinguishable\n",
    "        (\"C\"  , \"DeepConvNet\",   \"VD\", 1/200): \"C0\",\n",
    "        (\"C\"  , \"DeepConvNet\",  \"ARD\", 1/200): \"C1\",\n",
    "        (\"C\"  , \"DeepConvNet\",   \"VD\", 1/20): \"C2\",\n",
    "        (\"C\"  , \"DeepConvNet\",  \"ARD\", 1/20): \"C3\",\n",
    "        (\"C\"  , \"DeepConvNet\",   \"VD\", 1/2000): \"C4\",\n",
    "        (\"C\"  , \"DeepConvNet\",  \"ARD\", 1/2000): \"C5\",\n",
    "    }[kind, model, method, kld]"
   ]
  },
  {
   "cell_type": "markdown",
   "metadata": {},
   "source": [
    "Do a crude plot"
   ]
  },
  {
   "cell_type": "code",
   "execution_count": null,
   "metadata": {},
   "outputs": [],
   "source": [
    "fig, ax_l = plt.subplots(1, 1, figsize=(12, 5), dpi=300)\n",
    "fig.patch.set_alpha(1.0)\n",
    "\n",
    "ax_r = ax_l.twinx()\n",
    "\n",
    "ax_l.set_ylabel(\"Average Precision\")\n",
    "ax_r.set_ylabel(\"$\\\\times$ compression\")\n",
    "ax_r.set_yscale(\"log\")\n",
    "ax_l.set_xlabel(\"Threshold $\\\\tau$\")\n",
    "ax_l.set_title(\"The effect of $\\\\tau$ on performance and compression (MusicNet)\")\n",
    "ax_l.axvline(-0.5, c=\"k\", lw=2, zorder=-10)\n",
    "\n",
    "for experiment, (options, df) in tqdm.tqdm(results.items(), desc=\"populating plots\"):\n",
    "    kld = options[\"stages__sparsify__objective__kl_div\"]\n",
    "    m, min_, max_ = df.mean(level=0), df.min(level=0), df.max(level=0)\n",
    "    model = get_model_tag(options)\n",
    "    color = kind_model_method_color(**model, kld=kld)\n",
    "    \n",
    "    for ax, field, marker in zip([ax_l, ax_r], [\"score\", \"compression\"], [\"\", \"o\"]):\n",
    "        ax.fill_between(m.index, min_[field], max_[field],\n",
    "                          color=darker(color, 1.4), alpha=0.25, zorder=-10)\n",
    "        ax.plot(m[field], c=color, alpha=1.0, label=experiment,\n",
    "                marker=marker, markersize=4)\n",
    "\n",
    "ax_l.legend(ncol=1, loc=(0.5, .35))  # loc=\"center right\")\n",
    "\n",
    "fig.savefig(filename, dpi=300)\n",
    "\n",
    "plt.show()\n",
    "plt.close()"
   ]
  },
  {
   "cell_type": "code",
   "execution_count": null,
   "metadata": {},
   "outputs": [],
   "source": [
    "assert False"
   ]
  },
  {
   "cell_type": "markdown",
   "metadata": {},
   "source": [
    "<br>"
   ]
  }
 ],
 "metadata": {
  "kernelspec": {
   "display_name": "Python 3",
   "language": "python",
   "name": "python3"
  },
  "language_info": {
   "codemirror_mode": {
    "name": "ipython",
    "version": 3
   },
   "file_extension": ".py",
   "mimetype": "text/x-python",
   "name": "python",
   "nbconvert_exporter": "python",
   "pygments_lexer": "ipython3",
   "version": "3.7.4"
  }
 },
 "nbformat": 4,
 "nbformat_minor": 2
}
