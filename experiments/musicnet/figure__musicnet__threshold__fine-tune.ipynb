{
 "cells": [
  {
   "cell_type": "markdown",
   "metadata": {},
   "source": [
    "# Report and plots `fig:threshold__tradeoff__fine-tune`"
   ]
  },
  {
   "cell_type": "code",
   "execution_count": null,
   "metadata": {},
   "outputs": [],
   "source": [
    "import os\n",
    "import tqdm\n",
    "\n",
    "import numpy as np\n",
    "import pandas as pd\n",
    "\n",
    "%matplotlib inline\n",
    "import matplotlib.pyplot as plt\n",
    "\n",
    "import warnings\n",
    "warnings.simplefilter(\"ignore\")"
   ]
  },
  {
   "cell_type": "markdown",
   "metadata": {},
   "source": [
    "For this experiment we take the specified bunch of experiments,\n",
    "and using run fine-tune stages for varying thresholds."
   ]
  },
  {
   "cell_type": "code",
   "execution_count": null,
   "metadata": {},
   "outputs": [],
   "source": [
    "from cplxpaper.auto.utils import load_manifest\n",
    "from cplxpaper.auto.utils import get_stage_snapshot\n",
    "from cplxpaper.auto.parameter_grid import get_params, set_params\n",
    "\n",
    "\n",
    "def prepare_manifest(base):\n",
    "    \"\"\"Prepare the manifest for testing effects of threshold on `fine-tune`.\"\"\"\n",
    "    config = load_manifest(base)\n",
    "\n",
    "    # clear device and threshold\n",
    "    config.update({\n",
    "        \"__name__\": \"Impact of the treshold on fine-tune on MusicNet\",\n",
    "        \"device\": None,\n",
    "        \"threshold\": None,\n",
    "    })\n",
    "\n",
    "    # remove `dense` stage completely\n",
    "    del config[\"stages\"][\"dense\"]\n",
    "\n",
    "    # cold start `sparsify` from the base experiment, disable training\n",
    "    config[\"stages\"][\"sparsify\"].update({\n",
    "        # cold restart\n",
    "        \"snapshot\": get_stage_snapshot(\"sparsify\", base),\n",
    "        # skip training\n",
    "        \"n_epochs\": 0,\n",
    "    })\n",
    "\n",
    "    # ensure `fine-tune` restarts the optim, but inherits the weights\n",
    "    config[\"stages\"][\"fine-tune\"].update({\n",
    "        \"reset\": False,        \n",
    "        \"restart\": True,\n",
    "        \"snapshot\": None,\n",
    "    })\n",
    "\n",
    "    # manually reset stage order\n",
    "    config[\"stage-order\"] = [\"sparsify\", \"fine-tune\"]# list(config[\"stages\"].keys())\n",
    "\n",
    "    return config"
   ]
  },
  {
   "cell_type": "markdown",
   "metadata": {},
   "source": [
    "This generator exists in many places, and should eventually be imported form a single place:\n",
    "* cplxpaper.auto.reports.\\_\\_main\\_\\_\n",
    "* cplxpaper.auto.reports.utils"
   ]
  },
  {
   "cell_type": "code",
   "execution_count": null,
   "metadata": {},
   "outputs": [],
   "source": [
    "from cplxpaper.auto.utils import verify_experiment\n",
    "\n",
    "def enumerate_experiments(manifests):\n",
    "    \"\"\"Return the experiment associated with each manifest.\"\"\"\n",
    "    for manifest, ext in map(os.path.splitext, manifests):\n",
    "        path, name = os.path.split(manifest)\n",
    "        if ext != \".json\" or name.startswith(\".\"):\n",
    "            continue\n",
    "\n",
    "        experiment = os.path.join(path, name)\n",
    "        if not verify_experiment(experiment):\n",
    "            continue\n",
    "\n",
    "        yield experiment"
   ]
  },
  {
   "cell_type": "markdown",
   "metadata": {},
   "source": [
    "<br>"
   ]
  },
  {
   "cell_type": "markdown",
   "metadata": {},
   "source": [
    "## Prepare the report"
   ]
  },
  {
   "cell_type": "code",
   "execution_count": null,
   "metadata": {},
   "outputs": [],
   "source": [
    "PREFIX, dry_run = \"addendum__\", False\n",
    "\n",
    "report = \"./grids/musicnet__threshold__fine-tune.pk\"\n",
    "\n",
    "experiments = [\n",
    "# 1/200\n",
    "    './grids/grid-fast/musicnet-fast__00/musicnet[003]-097.json',  # ARD\n",
    "    './grids/grid-fast/musicnet-fast__01/musicnet[001]-045.json',\n",
    "    './grids/grid-fast/musicnet-fast__02/musicnet[004]-123.json',\n",
    "    './grids/grid-fast/musicnet-fast__03/musicnet[002]-071.json',\n",
    "    './grids/grid-fast/musicnet-fast__04/musicnet[000]-019.json',\n",
    "\n",
    "    './grids/grid-fast/musicnet-fast__00/musicnet[003]-084.json',  # VD\n",
    "    './grids/grid-fast/musicnet-fast__01/musicnet[001]-032.json',\n",
    "    './grids/grid-fast/musicnet-fast__02/musicnet[004]-110.json',\n",
    "    './grids/grid-fast/musicnet-fast__03/musicnet[002]-058.json',\n",
    "    './grids/grid-fast/musicnet-fast__04/musicnet[000]-006.json',\n",
    "\n",
    "# 1/20\n",
    "    './grids/grid-fast/musicnet-fast__00/musicnet[003]-101.json',  # ARD\n",
    "    './grids/grid-fast/musicnet-fast__01/musicnet[001]-049.json',\n",
    "    './grids/grid-fast/musicnet-fast__02/musicnet[004]-127.json',\n",
    "    './grids/grid-fast/musicnet-fast__03/musicnet[002]-075.json',\n",
    "    './grids/grid-fast/musicnet-fast__04/musicnet[000]-023.json',\n",
    "\n",
    "    './grids/grid-fast/musicnet-fast__00/musicnet[003]-088.json',  # VD\n",
    "    './grids/grid-fast/musicnet-fast__01/musicnet[001]-036.json',\n",
    "    './grids/grid-fast/musicnet-fast__02/musicnet[004]-114.json',\n",
    "    './grids/grid-fast/musicnet-fast__03/musicnet[002]-062.json',\n",
    "    './grids/grid-fast/musicnet-fast__04/musicnet[000]-010.json',\n",
    "]"
   ]
  },
  {
   "cell_type": "markdown",
   "metadata": {},
   "source": [
    "<br>"
   ]
  },
  {
   "cell_type": "code",
   "execution_count": null,
   "metadata": {},
   "outputs": [],
   "source": [
    "assert False, '''Run cells below to create a grid for this experiment.'''"
   ]
  },
  {
   "cell_type": "markdown",
   "metadata": {},
   "source": [
    "<br>"
   ]
  },
  {
   "cell_type": "markdown",
   "metadata": {},
   "source": [
    "Enumerate the base experiments, the final sparsity of which to test."
   ]
  },
  {
   "cell_type": "code",
   "execution_count": null,
   "metadata": {},
   "outputs": [],
   "source": [
    "report = os.path.normpath(os.path.abspath(report))\n",
    "\n",
    "folder = os.path.abspath(os.path.join(\n",
    "    \".\", \"grids\", \"musicnet__threshold__fine-tune\"\n",
    "))\n",
    "\n",
    "bash = f\"{folder}.sh\"\n",
    "\n",
    "os.makedirs(folder, exist_ok=False)"
   ]
  },
  {
   "cell_type": "markdown",
   "metadata": {},
   "source": [
    "For each base experiment we create a small grid of varying thresholds:\n",
    "* we take $\\tau$ from ~the same array as the `kind = \"threshold\"` report~ a coarser array\n",
    "  * $\\{\\pm\\tfrac{k}4\\colon k=0..24\\}$ is too fine and too wide\n",
    "    - 980 experiments ~ 20 days 4x2\n",
    "* but eventually use `kind = \"trade-off\"` report builder"
   ]
  },
  {
   "cell_type": "code",
   "execution_count": null,
   "metadata": {},
   "outputs": [],
   "source": [
    "# taus = [i / 4 for i in range(-24, 24 + 1)]\n",
    "taus = [i / 2 for i in range(-8, 8 + 1)]"
   ]
  },
  {
   "cell_type": "markdown",
   "metadata": {},
   "source": [
    "Create a pseudo-grid: cold start from a snapshot, drop irrelevant\n",
    "parameters, and then `fine-tune`"
   ]
  },
  {
   "cell_type": "code",
   "execution_count": null,
   "metadata": {},
   "outputs": [],
   "source": [
    "import json\n",
    "import copy\n",
    "from cplxpaper.auto.parameter_grid import set_params\n",
    "\n",
    "\n",
    "for experiment in enumerate_experiments(map(os.path.abspath, experiments)):\n",
    "    name = os.path.basename(experiment)\n",
    "\n",
    "    config = prepare_manifest(experiment)\n",
    "    for i, tau in enumerate(taus):\n",
    "        local = set_params(copy.deepcopy(config), **{\n",
    "            \"threshold\": tau\n",
    "        })\n",
    "\n",
    "        manifest = os.path.join(folder, f\"{name}__tau{i:02d}.json\")\n",
    "        if not dry_run:\n",
    "            json.dump(local, open(manifest, \"w\"), indent=2)    "
   ]
  },
  {
   "cell_type": "markdown",
   "metadata": {},
   "source": [
    "Pick a name for the report pickle and compile a **bash** script for\n",
    "building the threshold figure for each of epxeriment in the list above."
   ]
  },
  {
   "cell_type": "code",
   "execution_count": null,
   "metadata": {},
   "outputs": [],
   "source": [
    "import stat\n",
    "\n",
    "devspec = \"\"\"--devices \"cuda:0\" \"cuda:1\" \"cuda:2\" \"cuda:3\" --per-device 2\"\"\"\n",
    "with open(bash, \"w\") as fout:\n",
    "    # experiment execution\n",
    "    fout.write(f\"\"\"python -m cplxpaper.auto {devspec} \"{folder}\"\\n\"\"\")\n",
    "\n",
    "    fout.write(\"\\n\")\n",
    "    # report analysis\n",
    "    fout.write(f\"\"\"python -m cplxpaper.auto.reports {devspec} \"trade-off\" \"{report}\" \"{folder}\"\\n\"\"\")\n",
    "\n",
    "# allow exc and keep r/w\n",
    "os.chmod(bash, stat.S_IXUSR | stat.S_IRUSR | stat.S_IWUSR)\n",
    "\n",
    "bash"
   ]
  },
  {
   "cell_type": "markdown",
   "metadata": {},
   "source": [
    "<br>"
   ]
  },
  {
   "cell_type": "code",
   "execution_count": null,
   "metadata": {
    "scrolled": true
   },
   "outputs": [],
   "source": [
    "assert False, '''Run all below to make the figure.'''"
   ]
  },
  {
   "cell_type": "markdown",
   "metadata": {},
   "source": [
    "<br>"
   ]
  },
  {
   "cell_type": "markdown",
   "metadata": {},
   "source": [
    "## Build the table"
   ]
  },
  {
   "cell_type": "markdown",
   "metadata": {},
   "source": [
    "Load the report constructed on the selected experiments."
   ]
  },
  {
   "cell_type": "code",
   "execution_count": null,
   "metadata": {},
   "outputs": [],
   "source": [
    "from cplxpaper.auto.reports.utils import restore\n",
    "from cplxpaper.auto.parameter_grid import reconstruct_grid\n",
    "\n",
    "def build_report(filename):\n",
    "    report = tqdm.tqdm(restore(filename), desc=\"analyzing report data\")\n",
    "    workers, results = zip(*report)\n",
    "    if not results:\n",
    "        return {}, []\n",
    "\n",
    "    # compute the grid and flatten the manifests\n",
    "    experiments, options, *results = zip(*results)\n",
    "    full_grid, flat_options = reconstruct_grid(options)\n",
    "\n",
    "    return full_grid, [*zip(experiments, flat_options, *results)]"
   ]
  },
  {
   "cell_type": "markdown",
   "metadata": {},
   "source": [
    "Extract the score from the scorers' output."
   ]
  },
  {
   "cell_type": "code",
   "execution_count": null,
   "metadata": {},
   "outputs": [],
   "source": [
    "from cplxpaper.auto.reports.utils import dict_get_one\n",
    "\n",
    "def get_score(score):\n",
    "    # something is horribly wrong if this fails...\n",
    "    assert score[\"pre-fine-tune\"][\"sparsity\"] == score[\"post-fine-tune\"][\"sparsity\"]\n",
    "\n",
    "    metrics = {k: dict_get_one(v, \"pooled_average_precision\", \"accuracy\")\n",
    "               for k, v in score.items()}\n",
    "\n",
    "    n_zer, n_par = map(sum, zip(*score[\"pre-fine-tune\"][\"sparsity\"].values()))\n",
    "    return {\n",
    "        **metrics,\n",
    "        \"compression\": n_par / (n_par - n_zer)\n",
    "    }"
   ]
  },
  {
   "cell_type": "markdown",
   "metadata": {},
   "source": [
    "Evaluate several grids and join them"
   ]
  },
  {
   "cell_type": "code",
   "execution_count": null,
   "metadata": {},
   "outputs": [],
   "source": [
    "raw_grid, output = build_report(report)"
   ]
  },
  {
   "cell_type": "markdown",
   "metadata": {},
   "source": [
    "Alter the recovered grid"
   ]
  },
  {
   "cell_type": "code",
   "execution_count": null,
   "metadata": {},
   "outputs": [],
   "source": [
    "grid = set(field for field in raw_grid\n",
    "           if not any(map(field.__contains__, {\n",
    "                # service fields\n",
    "                \"__name__\", \"__timestamp__\", \"__version__\", \"device\",\n",
    "\n",
    "                # ignore global model class settings\n",
    "                \"model__cls\",\n",
    "\n",
    "                # upcast is a service variable, which only complex models have\n",
    "                #  and it is usually mirrored in `features` settings.\n",
    "                \"__upcast\"\n",
    "            })))\n",
    "\n",
    "grid.update({\n",
    "    \"stages__sparsify__model__cls\",\n",
    "    \"stages__sparsify__objective__kl_div\",\n",
    "    \"threshold\"  # ensure threshold is included\n",
    "})"
   ]
  },
  {
   "cell_type": "markdown",
   "metadata": {},
   "source": [
    "Index by the experiment **grid--folder** and prepare fields"
   ]
  },
  {
   "cell_type": "code",
   "execution_count": null,
   "metadata": {},
   "outputs": [],
   "source": [
    "experiments, options, *rest = zip(*output)\n",
    "\n",
    "# experiment paths are absolute!\n",
    "df = pd.DataFrame(experiments, columns=[\"experiment\",])\n",
    "df = df[\"experiment\"].str.replace(os.path.commonpath(experiments), \"*\")\\\n",
    "                     .str.extract(\"^(?P<grid>.*)/(?P<experiment>[^/]*)$\", expand=True)\n",
    "\n",
    "master_index = df.set_index([\"grid\", \"experiment\"]).index"
   ]
  },
  {
   "cell_type": "markdown",
   "metadata": {},
   "source": [
    "Gradually construct the table of options"
   ]
  },
  {
   "cell_type": "code",
   "execution_count": null,
   "metadata": {},
   "outputs": [],
   "source": [
    "parameters = pd.DataFrame(index=master_index)"
   ]
  },
  {
   "cell_type": "markdown",
   "metadata": {},
   "source": [
    "Assign proper tags to models"
   ]
  },
  {
   "cell_type": "code",
   "execution_count": null,
   "metadata": {},
   "outputs": [],
   "source": [
    "from cplxpaper.auto.reports.utils import get_model_tag\n",
    "\n",
    "def patched_get_model_tag(opt):\n",
    "    tag = get_model_tag(opt)\n",
    "\n",
    "    # Legacy model patch: if not specified then True (see `musicnet.models.base`)\n",
    "    cls = tag[\"model\"]\n",
    "    if \"DeepConvNet\" in cls and opt.get(\"model__legacy\", True):\n",
    "        cls += \" k3\"\n",
    "\n",
    "    return {**tag, \"model\": cls}\n",
    "\n",
    "grid = [k for k in grid if not k.startswith((\n",
    "    \"model__\",\n",
    "    \"stages__sparsify__model__\"\n",
    "))]\n",
    "\n",
    "parameters = parameters.join(pd.DataFrame([\n",
    "    *map(patched_get_model_tag, options)\n",
    "], index=master_index))"
   ]
  },
  {
   "cell_type": "markdown",
   "metadata": {},
   "source": [
    "Other fields' preprocessing."
   ]
  },
  {
   "cell_type": "code",
   "execution_count": null,
   "metadata": {},
   "outputs": [],
   "source": [
    "assert 'dataset' not in grid\n",
    "assert 'features' not in grid"
   ]
  },
  {
   "cell_type": "markdown",
   "metadata": {},
   "source": [
    "Only the essential experiment parameters should have remained by now."
   ]
  },
  {
   "cell_type": "code",
   "execution_count": null,
   "metadata": {},
   "outputs": [],
   "source": [
    "parameters = parameters.join(pd.DataFrame([\n",
    "    {g: opt[g] for g in grid} for opt in options\n",
    "], index=master_index))\n",
    "\n",
    "grid"
   ]
  },
  {
   "cell_type": "markdown",
   "metadata": {},
   "source": [
    "Now collect the metrics. We need:\n",
    "* **accuracy** performance on `dense`, `pre-fine-tune` and `post-fine-tune`\n",
    "* **compression rate** from a `fine-tune` stage"
   ]
  },
  {
   "cell_type": "code",
   "execution_count": null,
   "metadata": {},
   "outputs": [],
   "source": [
    "scores, *tail = rest\n",
    "assert not tail\n",
    "\n",
    "metrics = pd.DataFrame([\n",
    "    get_score(dict_get_one(score, \"test\", \"test-256\")) for score in scores\n",
    "], index=master_index)"
   ]
  },
  {
   "cell_type": "markdown",
   "metadata": {},
   "source": [
    "Join the tables and rename unfotunate columns."
   ]
  },
  {
   "cell_type": "code",
   "execution_count": null,
   "metadata": {},
   "outputs": [],
   "source": [
    "df_main = parameters.join(metrics).rename(columns={\n",
    "    \"stages__sparsify__objective__kl_div\": \"kl_div\",\n",
    "    \"stages__sparsify__snapshot\": \"snapshot\"\n",
    "})"
   ]
  },
  {
   "cell_type": "code",
   "execution_count": null,
   "metadata": {},
   "outputs": [],
   "source": [
    "df_main[\"snapshot\"] = df_main[\"snapshot\"].str.replace(os.path.commonpath(df_main[\"snapshot\"].to_list()), \"*\")"
   ]
  },
  {
   "cell_type": "code",
   "execution_count": null,
   "metadata": {},
   "outputs": [],
   "source": [
    "df_main = df_main.set_index([\"snapshot\", \"threshold\"])"
   ]
  },
  {
   "cell_type": "markdown",
   "metadata": {},
   "source": [
    "<br>"
   ]
  },
  {
   "cell_type": "markdown",
   "metadata": {},
   "source": [
    "## Create the threshold plot"
   ]
  },
  {
   "cell_type": "markdown",
   "metadata": {},
   "source": [
    "Decide on the target folder and computation cache."
   ]
  },
  {
   "cell_type": "code",
   "execution_count": null,
   "metadata": {},
   "outputs": [],
   "source": [
    "report_name = \"figure__musicnet__threshold__fine-tune\"\n",
    "\n",
    "report_target = os.path.normpath(os.path.abspath(os.path.join(\n",
    "    \"../../assets\", report_name\n",
    ")))"
   ]
  },
  {
   "cell_type": "markdown",
   "metadata": {},
   "source": [
    "A service plotting function to darkern the specified colour"
   ]
  },
  {
   "cell_type": "code",
   "execution_count": null,
   "metadata": {},
   "outputs": [],
   "source": [
    "from matplotlib.ticker import FormatStrFormatter, FuncFormatter\n",
    "\n",
    "\n",
    "def darker(color, a=0.5):\n",
    "    \"\"\"Adapted from this stackoverflow question_.\n",
    "    .. _question: https://stackoverflow.com/questions/37765197/\n",
    "    \"\"\"\n",
    "    from matplotlib.colors import to_rgb\n",
    "    from colorsys import rgb_to_hls, hls_to_rgb\n",
    "\n",
    "    h, l, s = rgb_to_hls(*to_rgb(color))\n",
    "    return hls_to_rgb(h, max(0, min(a * l, 1)), s)"
   ]
  },
  {
   "cell_type": "markdown",
   "metadata": {},
   "source": [
    "Group by all fileds except for `threshold`:\n",
    "* `model`, `kind`, `method`, `dataset`, `features` and `kl_div`"
   ]
  },
  {
   "cell_type": "code",
   "execution_count": null,
   "metadata": {},
   "outputs": [],
   "source": [
    "print([f for f in parameters.columns if \"kl_div\" not in f])\n",
    "fields = [\n",
    "    'method',\n",
    "    'model',\n",
    "    'kind',\n",
    "    'kl_div'\n",
    "]"
   ]
  },
  {
   "cell_type": "markdown",
   "metadata": {},
   "source": [
    "Handle colours"
   ]
  },
  {
   "cell_type": "code",
   "execution_count": null,
   "metadata": {},
   "outputs": [],
   "source": [
    "def kind_model_method_color(kind, model, method, kl_div):\n",
    "    return {  # VD/ARD\n",
    "        # tab10 colours are paired! use this to keep similar models distinguishable\n",
    "        (\"C\"  , \"DeepConvNet\",   \"VD\", 1/200): \"C0\",\n",
    "        (\"C\"  , \"DeepConvNet\",  \"ARD\", 1/200): \"C1\",\n",
    "        (\"C\"  , \"DeepConvNet\",   \"VD\", 1/20): \"C2\",\n",
    "        (\"C\"  , \"DeepConvNet\",  \"ARD\", 1/20): \"C3\",\n",
    "        (\"C\"  , \"DeepConvNet\",   \"VD\", 1/2000): \"C4\",\n",
    "        (\"C\"  , \"DeepConvNet\",  \"ARD\", 1/2000): \"C5\",\n",
    "    }[kind, model, method, kl_div]"
   ]
  },
  {
   "cell_type": "markdown",
   "metadata": {},
   "source": [
    "Threshold-compression map $\\tau \\mapsto c(\\tau)$ is a monotonic decreasing,\n",
    "hence can be inverted and used to parameterize the performance curve.\n",
    "\n",
    "So we plot below\n",
    "$$\n",
    "    (c(\\tau), p(\\tau))_{\\tau \\in T}\n",
    "        = (x, p\\circ c^{-1}(x))_{x \\in c(T)}\n",
    "    \\,, $$"
   ]
  },
  {
   "cell_type": "code",
   "execution_count": null,
   "metadata": {
    "scrolled": false
   },
   "outputs": [],
   "source": [
    "def make_plot(ax, df):\n",
    "    ax.set_xscale('log')\n",
    "    ax.set_xlim(41, 2000)\n",
    "    ax.set_ylim(0.55, 0.75)\n",
    "    ax.axvspan(50, 500, color=\"k\", alpha=0.05, zorder=-10)\n",
    "\n",
    "    ax.set_ylabel('average precision')\n",
    "    ax.xaxis.set_major_formatter(FuncFormatter(lambda x, p: f'$\\\\times${int(x):d}'))\n",
    "\n",
    "    # group by tau and experiment spec and plot\n",
    "    grouper, legend = df.groupby(fields), []\n",
    "    for key, df in grouper:\n",
    "        df = df[[\"post-fine-tune\", \"pre-fine-tune\", \"compression\"]].sort_index()\n",
    "        label = dict(zip(fields, key))\n",
    "\n",
    "        # harmonic mean for comression\n",
    "        compression = 1. / (1. / df['compression']).mean(level=-1)\n",
    "        m, min_, max_ = df.mean(level=-1), df.min(level=-1), df.max(level=-1)\n",
    "\n",
    "        for field, marker in zip(['pre-fine-tune', 'post-fine-tune'], ['o', '*']):\n",
    "            perf = m[field]\n",
    "            line, = ax.plot(compression, perf, alpha=1.0, zorder=20,\n",
    "                            marker=marker, lw=2, markersize=4,\n",
    "                            markeredgecolor='k', markeredgewidth=0.5)\n",
    "\n",
    "            tau = ax.scatter(compression[[-0.5]], perf[[-0.5]], s=20, zorder=30, lw=2,\n",
    "                              marker='s', c=['k'])\n",
    "\n",
    "            ax.fill_between(compression, min_[field], max_[field], lw=0, \n",
    "                              color=darker(line.get_color(), 1.4), alpha=0.25, zorder=20)\n",
    "\n",
    "            legend.append((line, \"{field} ($C\\!\\!=\\!\\!{kl_div}$)\".format(field=field, **label)))\n",
    "    \n",
    "#         breakpoint()\n",
    "        for i, t in enumerate(compression.index):\n",
    "            if t not in (-3., +3.):\n",
    "                continue\n",
    "            \n",
    "            p = max(m.loc[t, 'pre-fine-tune'], m.loc[t, 'post-fine-tune'])\n",
    "            ax.annotate(fr'$\\tau\\!\\!=\\!\\!\\!{t:+.0f}$', (compression[t], p), size='small',\n",
    "                        xytext=(-5, 5), zorder=20, textcoords='offset points')\n",
    "\n",
    "        z, a = m['post-fine-tune'], m['pre-fine-tune']\n",
    "        ax.quiver(compression, a, compression * 0, z - a,\n",
    "                  angles='xy', scale_units='xy', scale=1.,\n",
    "                  width=0.005, alpha=0.125)\n",
    "\n",
    "        ax.axhline(0.729, color=\"k\", alpha=0.125, zorder=-10, lw=2)\n",
    "        ax.annotate(\"Trabelsi et al. (2018)\", xy=(300, 0.729),  xycoords='data',\n",
    "                    xytext=(300, 0.73), textcoords='data', alpha=0.75)\n",
    "\n",
    "    legend.append((tau, r'$\\tau\\!\\!=\\!\\!-\\frac{1}{2}$'))\n",
    "\n",
    "    handles, labels = zip(*legend)\n",
    "    ax.legend(handles, labels, ncol=1, fontsize='small')\n",
    "    ax.grid(axis='y', alpha=0.15)\n"
   ]
  },
  {
   "cell_type": "markdown",
   "metadata": {},
   "source": [
    "Decide on the target folder and computation cache."
   ]
  },
  {
   "cell_type": "code",
   "execution_count": null,
   "metadata": {},
   "outputs": [],
   "source": [
    "report_name = \"figure__musicnet__threshold__{kind}__{model}.pdf\"\n",
    "\n",
    "report_target = os.path.normpath(os.path.abspath(os.path.join(\n",
    "    \"../../assets\", report_name\n",
    ")))"
   ]
  },
  {
   "cell_type": "code",
   "execution_count": null,
   "metadata": {},
   "outputs": [],
   "source": [
    "for (kind, model), df in df_main.groupby(['kind', 'model']):\n",
    "#     fig, axes = plt.subplots(1, 2, figsize=(8, 3), dpi=300, sharey=True)\n",
    "    fig, axes = plt.subplots(2, 1, figsize=(6, 6), dpi=300, sharex=True)\n",
    "    for ax, (method, df_method) in zip(axes, df.groupby(['method'])):\n",
    "\n",
    "    #     ax.set_title(f\"Threshold effect on performance of {kind}-{method} for {model} (MusicNet)\")\n",
    "        ax.set_title(f\"{kind}-{method} for {model} (MusicNet)\")\n",
    "\n",
    "        make_plot(ax, df_method)\n",
    "\n",
    "    plt.xlabel('compression')\n",
    "    plt.tight_layout()\n",
    "    fig.savefig(report_target.format(**locals()), dpi=300)\n",
    "\n",
    "#     plt.show()\n",
    "    plt.close()\n"
   ]
  },
  {
   "cell_type": "code",
   "execution_count": null,
   "metadata": {},
   "outputs": [],
   "source": [
    "assert False"
   ]
  },
  {
   "cell_type": "markdown",
   "metadata": {},
   "source": [
    "<br>"
   ]
  },
  {
   "cell_type": "markdown",
   "metadata": {},
   "source": [
    "Older plot"
   ]
  },
  {
   "cell_type": "code",
   "execution_count": null,
   "metadata": {},
   "outputs": [],
   "source": [
    "report_name = \"figure__musicnet__threshold.pdf\"\n",
    "\n",
    "report_target = os.path.normpath(os.path.abspath(os.path.join(\n",
    "    \"../../assets\", report_name\n",
    ")))"
   ]
  },
  {
   "cell_type": "markdown",
   "metadata": {},
   "source": [
    "Make a crude plot"
   ]
  },
  {
   "cell_type": "code",
   "execution_count": null,
   "metadata": {},
   "outputs": [],
   "source": [
    "fig, (ax_l, ax_r) = plt.subplots(2, 1, figsize=(8, 5), dpi=300, sharex=True)\n",
    "fig.patch.set_alpha(1.0)\n",
    "# ax_r = ax_l.twinx()\n",
    "\n",
    "ax_l.set_title(\"The effect of $\\\\tau$ on performance and compression (MusicNet)\")\n",
    "\n",
    "# set up limits and axis labels\n",
    "ax_l.set_ylabel(\"Average Precision\")\n",
    "ax_r.set_ylabel(\"$\\\\times$ compression\")\n",
    "ax_r.set_yscale(\"log\")\n",
    "\n",
    "ax_r.set_xlabel(\"Threshold $\\\\tau$\")\n",
    "\n",
    "ax_l.set_xlim(-3.6125, 3.6125)\n",
    "ax_l.set_ylim(0.55, 0.75)\n",
    "ax_r.set_ylim(40, 2000)\n",
    "\n",
    "# Trabelsi et al. (2018)\n",
    "ax_l.axhline(0.729, color=\"k\", alpha=0.25, zorder=-10, lw=1)\n",
    "ax_l.annotate(\"Trabelsi et al. (2018)\", xy=(0, 0.75),  xycoords='data',\n",
    "              xytext=(0.05, 0.935), textcoords='axes fraction', alpha=0.75)\n",
    "\n",
    "\n",
    "# group by tau and experiment spec and plot\n",
    "grouper = df_main.groupby(fields)\n",
    "for key, df in tqdm.tqdm(grouper, desc=\"populating plots\"):\n",
    "    df = df[[\"post-fine-tune\", \"pre-fine-tune\", \"compression\"]].sort_index()\n",
    "    label = dict(zip(fields, key))\n",
    "\n",
    "    m, min_, max_ = df.mean(level=-1), df.min(level=-1), df.max(level=-1)\n",
    "    color = kind_model_method_color(**label)\n",
    "\n",
    "    for ax, field, marker in zip([ax_l, ax_r], [\"post-fine-tune\", \"compression\"], [\"\", \"o\"]):\n",
    "        ax.fill_between(m.index, min_[field], max_[field],\n",
    "                          color=darker(color, 1.4), alpha=0.25, zorder=20)\n",
    "        ax.plot(m[field], c=color, alpha=1.0, marker=marker, markersize=4,\n",
    "                label=\"{kind} {model} {method} ($C={kl_div}$)\".format(**label),\n",
    "                zorder=25)\n",
    "    \n",
    "    ax_l.fill_between(m.index, min_[\"pre-fine-tune\"], max_[\"pre-fine-tune\"],\n",
    "                      color=darker(color, 1.4), alpha=0.25, zorder=10)\n",
    "    ax_l.plot(m[\"pre-fine-tune\"], c=color, alpha=1.0, marker=\"x\", markersize=4,\n",
    "#             label=\"{kind} {model} {method} ($C={kl_div}$)\".format(**label),\n",
    "              zorder=15)\n",
    "\n",
    "ax_l.legend(ncol=1, loc=(0.55, .05))  # loc=\"center right\")\n",
    "\n",
    "ax_l.axvline(-0.5, c=\"k\", lw=2, zorder=2)\n",
    "ax_r.axvline(-0.5, c=\"k\", lw=2, zorder=2)\n",
    "# ax_r.grid(axis='y', which='both')\n",
    "# ax_l.grid(axis='y', which='both')\n",
    "\n",
    "plt.tight_layout(h_pad=-0.55)\n",
    "fig.savefig(report_target, dpi=300)\n",
    "\n",
    "# plt.show()\n",
    "plt.close()"
   ]
  },
  {
   "cell_type": "markdown",
   "metadata": {},
   "source": [
    "<br>"
   ]
  }
 ],
 "metadata": {
  "kernelspec": {
   "display_name": "Python 3",
   "language": "python",
   "name": "python3"
  },
  "language_info": {
   "codemirror_mode": {
    "name": "ipython",
    "version": 3
   },
   "file_extension": ".py",
   "mimetype": "text/x-python",
   "name": "python",
   "nbconvert_exporter": "python",
   "pygments_lexer": "ipython3",
   "version": "3.8.1"
  }
 },
 "nbformat": 4,
 "nbformat_minor": 2
}
