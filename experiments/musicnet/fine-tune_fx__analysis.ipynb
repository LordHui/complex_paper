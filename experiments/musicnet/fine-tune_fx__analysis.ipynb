{
 "cells": [
  {
   "cell_type": "markdown",
   "metadata": {},
   "source": [
    "# Compression and early stopping"
   ]
  },
  {
   "cell_type": "code",
   "execution_count": null,
   "metadata": {},
   "outputs": [],
   "source": [
    "import os\n",
    "import tqdm\n",
    "\n",
    "%matplotlib inline\n",
    "import matplotlib.pyplot as plt"
   ]
  },
  {
   "cell_type": "markdown",
   "metadata": {},
   "source": [
    "Pick the grids"
   ]
  },
  {
   "cell_type": "code",
   "execution_count": null,
   "metadata": {},
   "outputs": [],
   "source": [
    "grids = [\n",
    "    \"./grids/grid-fast/musicnet-fast__00/\",\n",
    "    \"./grids/grid-fast/musicnet-fast__01/\",\n",
    "    \"./grids/grid-fast/musicnet-fast__02/\",\n",
    "    \"./grids/grid-fast/musicnet-fast__03/\",\n",
    "    \"./grids/grid-fast/musicnet-fast__04/\"\n",
    "]"
   ]
  },
  {
   "cell_type": "markdown",
   "metadata": {},
   "source": [
    "Using the available tools in cplxpaper.auto enumerate experiments in each grid,\n",
    "collecting the valiadtion score history `early-stopping` and settings."
   ]
  },
  {
   "cell_type": "code",
   "execution_count": null,
   "metadata": {},
   "outputs": [],
   "source": [
    "from itertools import chain\n",
    "from cplxpaper.auto.utils import get_stage_snapshot, load_snapshot\n",
    "from cplxpaper.auto.parameter_grid import flatten\n",
    "from cplxpaper.auto.reports.utils import enumerate_experiments, get_model_tag\n",
    "\n",
    "histories = []\n",
    "for experiment in tqdm.tqdm(chain(*map(enumerate_experiments, grids))):\n",
    "    filename = get_stage_snapshot(\"fine-tune\", experiment)\n",
    "\n",
    "    snapshot = load_snapshot(filename)\n",
    "    options = flatten(snapshot[\"options\"])\n",
    "    \n",
    "    sparsity = snapshot[\"performance\"][\"test\"][\"sparsity\"]\n",
    "    n_zer, n_par = map(sum, zip(*sparsity.values()))\n",
    "\n",
    "    histories.append({\n",
    "        \"path\": experiment,\n",
    "        \"kl_div\": options[\"stages__sparsify__objective__kl_div\"],\n",
    "        \"compression\": n_par / (n_par - n_zer),\n",
    "        \"early\": snapshot[\"early_history\"],\n",
    "        **get_model_tag(options)\n",
    "    })"
   ]
  },
  {
   "cell_type": "markdown",
   "metadata": {},
   "source": [
    "Analyze"
   ]
  },
  {
   "cell_type": "code",
   "execution_count": null,
   "metadata": {},
   "outputs": [],
   "source": [
    "import pandas as pd\n",
    "\n",
    "df_main = pd.DataFrame(histories)\n",
    "\n",
    "df_main[\"path\"] = df_main.path.str.replace(\n",
    "    os.path.commonpath(df_main.path.to_list()), \"*\")\n",
    "df_main[\"early\"] = df_main.early.map(len)"
   ]
  },
  {
   "cell_type": "code",
   "execution_count": null,
   "metadata": {},
   "outputs": [],
   "source": [
    "gr = df_main.groupby([\"method\", \"kl_div\"])[\"early\"]\n",
    "\n",
    "df = pd.concat({\n",
    "    \"lo\": gr.min(),\n",
    "    \"value\": gr.median(),\n",
    "    \"hi\": gr.max(),\n",
    "}, names=[\"agg\"], axis=1).unstack(0)\n",
    "\n",
    "df = df.swaplevel(axis=1).sort_index(1)"
   ]
  },
  {
   "cell_type": "code",
   "execution_count": null,
   "metadata": {},
   "outputs": [],
   "source": [
    "from matplotlib.ticker import FormatStrFormatter, FuncFormatter\n",
    "\n",
    "\n",
    "def darker(color, a=0.5):\n",
    "    \"\"\"Adapted from this stackoverflow question_.\n",
    "    .. _question: https://stackoverflow.com/questions/37765197/\n",
    "    \"\"\"\n",
    "    from matplotlib.colors import to_rgb\n",
    "    from colorsys import rgb_to_hls, hls_to_rgb\n",
    "\n",
    "    h, l, s = rgb_to_hls(*to_rgb(color))\n",
    "    return hls_to_rgb(h, max(0, min(a * l, 1)), s)"
   ]
  },
  {
   "cell_type": "code",
   "execution_count": null,
   "metadata": {},
   "outputs": [],
   "source": [
    "fig, ax = plt.subplots(1, 1, figsize=(5, 3), dpi=300)\n",
    "ax.set_title(\"Median epochs until early stopping for MusicNet\")\n",
    "ax.set_ylabel(\"epochs\")\n",
    "ax.set_xscale(\"log\")\n",
    "ax.set_xlabel(\"$C$\")\n",
    "\n",
    "for label in [\"ARD\", \"VD\"]:\n",
    "    sr = df[label]\n",
    "    l, = ax.plot(sr[\"value\"], label=label)\n",
    "    ax.fill_between(sr.index, sr[\"lo\"], sr[\"hi\"],\n",
    "                    color=darker(l.get_color(), 1.4),\n",
    "                    alpha=0.15, lw=0, zorder=-15)\n",
    "\n",
    "ax.set_xlim(1e-4, 1e-1)\n",
    "ax.legend(ncol=2)\n",
    "\n",
    "plt.tight_layout()\n",
    "\n",
    "fig.savefig(\"../../assets/figure__fine-tune_fx__early.pdf\", dpi=300)\n",
    "plt.show()"
   ]
  },
  {
   "cell_type": "markdown",
   "metadata": {},
   "source": [
    "The value of $C$ in ELBO is a good proxy for the ranking of the final compression\n",
    "rate (just after `sparsify`). Thus this plot provides evidence for the statement\n",
    "applicalbe to this MusicNet experiment only: for the undercompressed models the\n",
    "fine-tune stage acts as a continuation of uncompressed training during `dense`,\n",
    "and thus replicates the peaking and declining validation score."
   ]
  },
  {
   "cell_type": "code",
   "execution_count": null,
   "metadata": {},
   "outputs": [],
   "source": [
    "from matplotlib.ticker import FormatStrFormatter, FuncFormatter\n",
    "\n",
    "fig, ax = plt.subplots(1, 1, figsize=(5, 3), dpi=300)\n",
    "ax.set_title(\"Epochs until early stopping for MusicNet\")\n",
    "ax.set_ylabel(\"epochs\")\n",
    "ax.set_xscale(\"log\")\n",
    "ax.set_xlabel(\"compression\")\n",
    "ax.xaxis.set_major_formatter(FuncFormatter(lambda x, p: f\"$\\\\times${int(x):d}\"))\n",
    "\n",
    "ax.axvspan(50, 500, color=\"k\", alpha=0.05, zorder=-10)\n",
    "\n",
    "gr = df_main.groupby(\"method\")\n",
    "for (method, data), col in zip(gr, [\"C0\", \"C1\"]):\n",
    "    ax.scatter(data[\"compression\"], data[\"early\"], c=col, s=5, label=method)\n",
    "\n",
    "ax.set_xlim(2e0, 2e3)\n",
    "ax.legend(ncol=2)\n",
    "\n",
    "plt.tight_layout()\n",
    "\n",
    "fig.savefig(\"../../assets/figure__fine-tune_fx__early__compression.pdf\", dpi=300)\n",
    "plt.show()"
   ]
  },
  {
   "cell_type": "code",
   "execution_count": null,
   "metadata": {},
   "outputs": [],
   "source": [
    "assert False"
   ]
  }
 ],
 "metadata": {
  "kernelspec": {
   "display_name": "Python 3",
   "language": "python",
   "name": "python3"
  },
  "language_info": {
   "codemirror_mode": {
    "name": "ipython",
    "version": 3
   },
   "file_extension": ".py",
   "mimetype": "text/x-python",
   "name": "python",
   "nbconvert_exporter": "python",
   "pygments_lexer": "ipython3",
   "version": "3.8.1"
  }
 },
 "nbformat": 4,
 "nbformat_minor": 4
}
