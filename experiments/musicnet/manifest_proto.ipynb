{
 "cells": [
  {
   "cell_type": "code",
   "execution_count": null,
   "metadata": {},
   "outputs": [],
   "source": [
    "import os\n",
    "import copy\n",
    "import json\n",
    "import tqdm\n",
    "\n",
    "import numpy as np\n",
    "import torch"
   ]
  },
  {
   "cell_type": "code",
   "execution_count": null,
   "metadata": {},
   "outputs": [],
   "source": [
    "dry_run = False"
   ]
  },
  {
   "cell_type": "markdown",
   "metadata": {},
   "source": [
    "Get a common tempalte for musicnet"
   ]
  },
  {
   "cell_type": "code",
   "execution_count": null,
   "metadata": {},
   "outputs": [],
   "source": [
    "import pkg_resources\n",
    "\n",
    "with pkg_resources.resource_stream(\"cplxpaper.musicnet\", \"template.json\") as fin:\n",
    "    template = json.load(fin)"
   ]
  },
  {
   "cell_type": "markdown",
   "metadata": {},
   "source": [
    "Functions to edit nested dictionaries"
   ]
  },
  {
   "cell_type": "code",
   "execution_count": null,
   "metadata": {},
   "outputs": [],
   "source": [
    "def get_params(self, deep=True, keepcontainers=True):\n",
    "    \"\"\"Depth first redundantly flatten a nested dictionary.\n",
    "\n",
    "    Arguments\n",
    "    ---------\n",
    "    self : dict\n",
    "        The dictionary to traverser and linearize.\n",
    "\n",
    "    deep : bool, default=True\n",
    "        Whether to perform depth first travseral of nested dictionaries\n",
    "        or not.\n",
    "\n",
    "    keepcontainers : bool, default=True\n",
    "        Whether to keep return the nested containers (dicts) or not.\n",
    "        Effective only if `deep` is `True`.\n",
    "    \"\"\"\n",
    "    out = dict()\n",
    "    for key in self:\n",
    "        value = self[key]\n",
    "        if deep and isinstance(value, dict):\n",
    "            nested = get_params(value, deep=True, keepcontainers=keepcontainers)\n",
    "            out.update((key + '__' + k, val) for k, val in nested.items())\n",
    "            if not keepcontainers:\n",
    "                continue\n",
    "\n",
    "        out[key] = value\n",
    "\n",
    "    return out"
   ]
  },
  {
   "cell_type": "code",
   "execution_count": null,
   "metadata": {},
   "outputs": [],
   "source": [
    "from collections import defaultdict\n",
    "\n",
    "def set_params(self, **params):\n",
    "    \"\"\"Inplace update of a nested dictionary.\n",
    "\n",
    "    Details\n",
    "    -------\n",
    "    Adapted from scikit's BaseEstimator. Does not handle\n",
    "    recurusive dictionaries.\n",
    "    \"\"\"\n",
    "    if not params:\n",
    "        return self\n",
    "\n",
    "    nested_params = defaultdict(dict)\n",
    "    for key, value in params.items():\n",
    "        key, delim, sub_key = key.partition('__')\n",
    "        if delim:\n",
    "            nested_params[key][sub_key] = value\n",
    "\n",
    "        else:\n",
    "            self[key] = value\n",
    "\n",
    "    for key, sub_params in nested_params.items():\n",
    "        set_params(self[key], **sub_params)\n",
    "\n",
    "    return self"
   ]
  },
  {
   "cell_type": "code",
   "execution_count": null,
   "metadata": {},
   "outputs": [],
   "source": [
    "def special_params(**params):\n",
    "    \"\"\"Returns a pair (params, special).\n",
    "\n",
    "    Details\n",
    "    -------\n",
    "    Special parameters are those key that begin with '__'.\n",
    "    \"\"\"\n",
    "    special = set(k for k in params if k.startswith(\"__\"))\n",
    "    return {k: v for k, v in params.items() if k not in special}, \\\n",
    "           {k[2:]: v for k, v in params.items() if k in special}"
   ]
  },
  {
   "cell_type": "markdown",
   "metadata": {},
   "source": [
    "<br>"
   ]
  },
  {
   "cell_type": "code",
   "execution_count": null,
   "metadata": {},
   "outputs": [],
   "source": [
    "grid_default_settings = {\n",
    "    \"dataset_sources\": [\n",
    "        {\n",
    "            \"train-1\": {\n",
    "                \"filename\": os.path.abspath(\"./data/musicnet_11khz_train.h5\"),\n",
    "                \"window\": 4096,\n",
    "                \"stride\": 1\n",
    "            },\n",
    "            \"train-512\": {\n",
    "                \"filename\": os.path.abspath(\"./data/musicnet_11khz_train.h5\"),\n",
    "                \"window\": 4096,\n",
    "                \"stride\": 512\n",
    "            },\n",
    "            \"valid-128\": {\n",
    "                \"filename\": os.path.abspath(\"./data/musicnet_11khz_valid.h5\"),\n",
    "                \"window\": 4096,\n",
    "                \"stride\": 128\n",
    "            },\n",
    "            \"test-128\": {\n",
    "                \"filename\": os.path.abspath(\"./data/musicnet_11khz_test.h5\"),\n",
    "                \"window\": 4096,\n",
    "                \"stride\": 128\n",
    "            }\n",
    "        },\n",
    "    ],\n",
    "    \"feeds\": [{\n",
    "        \"train_trabelsi\": {\n",
    "            \"cls\": \"<class 'cplxpaper.musicnet.dataset.MusicNetDataLoader'>\",\n",
    "            \"dataset\": \"train-1\",\n",
    "            \"pin_memory\": True,\n",
    "            \"n_batches\": 1000\n",
    "        },\n",
    "        \"valid_768\": {\n",
    "            \"cls\": \"<class 'torch.utils.data.dataloader.DataLoader'>\",\n",
    "            \"dataset\": \"valid-128\",\n",
    "            \"batch_size\": 768,\n",
    "            \"pin_memory\": True,\n",
    "            \"shuffle\": False,\n",
    "            \"n_batches\": -1\n",
    "        },\n",
    "        \"test_256\": {\n",
    "            \"cls\": \"<class 'torch.utils.data.dataloader.DataLoader'>\",\n",
    "            \"dataset\": \"test-128\",\n",
    "            \"batch_size\": 256,\n",
    "            \"pin_memory\": True,\n",
    "            \"shuffle\": False,\n",
    "            \"n_batches\": -1\n",
    "        }\n",
    "    }],\n",
    "    # dense\n",
    "    \"stages__dense__n_epochs\": [200],\n",
    "    \"stages__dense__early\": [{\n",
    "        \"feed\": \"valid_768\",\n",
    "        \"patience\": 10,\n",
    "        \"cooldown\": 0,\n",
    "        \"rtol\": 0,\n",
    "        \"atol\": 2e-2,\n",
    "        \"raises\": \"<class 'StopIteration'>\"\n",
    "    }],\n",
    "    \"stages__dense__restart\": [True],\n",
    "    \"stages__dense__reset\": [True],\n",
    "\n",
    "    # sparsify: continue from dense\n",
    "    \"stages__sparsify__n_epochs\": [50],\n",
    "    \"stages__sparsify__restart\": [False],\n",
    "    \"stages__dense__reset\": [False],\n",
    "    \"stages__sparsify__early\": [None],\n",
    "\n",
    "    # sparsify: use masks from dense\n",
    "    \"stages__fine-tune__n_epochs\": [200],\n",
    "    \"stages__fine-tune__restart\": [True],\n",
    "    \"stages__fine-tune__reset\": [True],\n",
    "    \"stages__fine-tune__early\": [{\n",
    "        \"feed\": \"valid_768\",\n",
    "        \"patience\": 10,\n",
    "        \"cooldown\": 0,\n",
    "        \"rtol\": 0,\n",
    "        \"atol\": 2e-2,\n",
    "        \"raises\": \"<class 'StopIteration'>\"\n",
    "    }]\n",
    "}"
   ]
  },
  {
   "cell_type": "markdown",
   "metadata": {},
   "source": [
    "<br>"
   ]
  },
  {
   "cell_type": "markdown",
   "metadata": {},
   "source": [
    "## Experiment 1: Deep convolutional complex-valued network"
   ]
  },
  {
   "cell_type": "code",
   "execution_count": null,
   "metadata": {},
   "outputs": [],
   "source": [
    "grid_trabelsi = {\n",
    "    **grid_default_settings,\n",
    "    \"features__kind\": [\n",
    "        \"fft\",\n",
    "        \"fft-shifted\"\n",
    "    ],\n",
    "    \"stages__sparsify__objective__kl_div\": [1e-5, 5e-5, 1e-4, 5e-4],\n",
    "    \"n_replication\": [*range(5)]\n",
    "}"
   ]
  },
  {
   "cell_type": "markdown",
   "metadata": {},
   "source": [
    "<br>"
   ]
  },
  {
   "cell_type": "markdown",
   "metadata": {},
   "source": [
    "## Generate manifest JSONs"
   ]
  },
  {
   "cell_type": "code",
   "execution_count": null,
   "metadata": {},
   "outputs": [],
   "source": [
    "from sklearn.model_selection import ParameterGrid\n",
    "\n",
    "grid = ParameterGrid([\n",
    "    grid_trabelsi,\n",
    "])\n",
    "\n",
    "PATH = os.path.abspath(os.path.join(\".\", \"runs\", \"grid_trabelsi\"))\n",
    "\n",
    "os.makedirs(PATH, exist_ok=False)"
   ]
  },
  {
   "cell_type": "code",
   "execution_count": null,
   "metadata": {},
   "outputs": [],
   "source": [
    "for i, par in enumerate(tqdm.tqdm(grid)):\n",
    "    param, recipe = special_params(**par)\n",
    "    param_ravel = get_params(param)\n",
    "\n",
    "    # (patch 20191224) in case frequency spec changes (very unlikely)\n",
    "    frequency = recipe.pop(\"frequency\", None)\n",
    "\n",
    "    # update the manifest\n",
    "    local = set_params(copy.deepcopy(template), **param)\n",
    "    if frequency is not None:\n",
    "        local[\"frequency\"] = frequency\n",
    "    \n",
    "    # overrides\n",
    "    local[\"device\"] = None\n",
    "    n_copy = local.pop(\"n_replication\", None)\n",
    "\n",
    "    # save\n",
    "    if n_copy is not None:\n",
    "        manifest = f\"musicnet[{n_copy:03d}]-{i:03d}.json\"\n",
    "    else:\n",
    "        manifest = f\"musicnet-{i:03d}.json\"\n",
    "\n",
    "    experiment = os.path.join(PATH, manifest)\n",
    "    if not dry_run:\n",
    "        json.dump(local, open(experiment, \"w\"), indent=2)"
   ]
  },
  {
   "cell_type": "code",
   "execution_count": null,
   "metadata": {},
   "outputs": [],
   "source": [
    "assert False"
   ]
  },
  {
   "cell_type": "markdown",
   "metadata": {},
   "source": [
    "<br>"
   ]
  }
 ],
 "metadata": {
  "kernelspec": {
   "display_name": "Python 3",
   "language": "python",
   "name": "python3"
  },
  "language_info": {
   "codemirror_mode": {
    "name": "ipython",
    "version": 3
   },
   "file_extension": ".py",
   "mimetype": "text/x-python",
   "name": "python",
   "nbconvert_exporter": "python",
   "pygments_lexer": "ipython3",
   "version": "3.7.4"
  }
 },
 "nbformat": 4,
 "nbformat_minor": 2
}
