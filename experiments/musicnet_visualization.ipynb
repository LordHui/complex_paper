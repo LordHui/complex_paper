{
 "cells": [
  {
   "cell_type": "markdown",
   "metadata": {},
   "source": [
    "# check stft and fft"
   ]
  },
  {
   "cell_type": "code",
   "execution_count": 1,
   "metadata": {},
   "outputs": [],
   "source": [
    "import os\n",
    "import numpy as np"
   ]
  },
  {
   "cell_type": "code",
   "execution_count": 2,
   "metadata": {},
   "outputs": [],
   "source": [
    "%matplotlib inline\n",
    "import matplotlib.pyplot as plt"
   ]
  },
  {
   "cell_type": "code",
   "execution_count": 3,
   "metadata": {},
   "outputs": [],
   "source": [
    "import torch\n",
    "import torch.nn.functional as F"
   ]
  },
  {
   "cell_type": "code",
   "execution_count": 4,
   "metadata": {},
   "outputs": [],
   "source": [
    "from scipy.signal import stft\n",
    "from scipy.fftpack import fft, fftshift"
   ]
  },
  {
   "cell_type": "code",
   "execution_count": 5,
   "metadata": {},
   "outputs": [],
   "source": [
    "import h5py\n",
    "import tqdm\n",
    "from musicnet import MusicNetHDF5"
   ]
  },
  {
   "cell_type": "code",
   "execution_count": 6,
   "metadata": {},
   "outputs": [],
   "source": [
    "from ipywidgets import widgets"
   ]
  },
  {
   "cell_type": "markdown",
   "metadata": {},
   "source": [
    "<br>"
   ]
  },
  {
   "cell_type": "markdown",
   "metadata": {},
   "source": [
    "## Visualizer"
   ]
  },
  {
   "cell_type": "code",
   "execution_count": 7,
   "metadata": {},
   "outputs": [],
   "source": [
    "h5_in = h5py.File(\"./data/musicnet/musicnet_11khz_valid.h5\", \"r\")\n",
    "dataset = MusicNetHDF5(h5_in, window=4096, stride=512, at=None)"
   ]
  },
  {
   "cell_type": "code",
   "execution_count": 8,
   "metadata": {},
   "outputs": [],
   "source": [
    "def float_slider(min, max, step, value=None, continuous_update=False):\n",
    "    layout = widgets.Layout(min_width='500px', display='flex')\n",
    "    value = min if value is None else min\n",
    "    return widgets.FloatSlider(min=min, max=max, step=step,value=value,\n",
    "                               continuous_update=continuous_update, layout=layout)\n",
    "\n",
    "def int_slider(min, max, step, value=None, continuous_update=True):\n",
    "    layout = widgets.Layout(min_width='500px', display='flex')\n",
    "    value = min if value is None else min\n",
    "    return widgets.IntSlider(min=min, max=max, step=step,value=value,\n",
    "                             continuous_update=continuous_update, layout=layout)\n",
    "\n",
    "\n",
    "def update_w_sample(*args):\n",
    "    beg, end = dataset.limits[w_keys.value]\n",
    "    w_sample.max = end - beg\n",
    "    w_sample.value = min(end - beg, max(0, w_sample.value))\n",
    "\n",
    "w_keys = widgets.Dropdown(options=dir(dataset))\n",
    "w_sample = int_slider(0, 1, 1)\n",
    "\n",
    "w_keys.observe(update_w_sample, 'value')\n",
    "update_w_sample()"
   ]
  },
  {
   "cell_type": "code",
   "execution_count": 9,
   "metadata": {},
   "outputs": [],
   "source": [
    "def draw(key, ix):\n",
    "    beg, end = dataset.limits[key]\n",
    "    data, labels = dataset[ix + beg]\n",
    "\n",
    "    f, t, z = stft(data, fs=11000, nperseg=120, noverlap=60, axis=-1)\n",
    "\n",
    "    fig, ax = plt.subplots(1, 1, figsize=(12, 3))\n",
    "\n",
    "    ax.pcolormesh(t, f, abs(z), vmin=0, cmap=plt.cm.jet)\n",
    "    ax.set_title(f'STFT Magnitude {key}')\n",
    "    ax.set_ylabel('Frequency [Hz]')\n",
    "    ax.set_xlabel('Time [sec]')\n",
    "\n",
    "    plt.show()"
   ]
  },
  {
   "cell_type": "code",
   "execution_count": null,
   "metadata": {},
   "outputs": [],
   "source": [
    "widgets.interact(draw, key=w_keys, ix=w_sample);"
   ]
  },
  {
   "cell_type": "markdown",
   "metadata": {},
   "source": [
    "<hr>"
   ]
  },
  {
   "cell_type": "code",
   "execution_count": 11,
   "metadata": {},
   "outputs": [],
   "source": [
    "feed = torch.utils.data.DataLoader(dataset, batch_size=32, shuffle=False)"
   ]
  },
  {
   "cell_type": "code",
   "execution_count": 12,
   "metadata": {},
   "outputs": [
    {
     "name": "stderr",
     "output_type": "stream",
     "text": [
      "100%|██████████| 1416/1416 [00:08<00:00, 169.53it/s]\n"
     ]
    }
   ],
   "source": [
    "for bx, by in tqdm.tqdm(feed):\n",
    "    pass"
   ]
  },
  {
   "cell_type": "markdown",
   "metadata": {},
   "source": [
    "## Test random access to HDF5 file."
   ]
  },
  {
   "cell_type": "markdown",
   "metadata": {},
   "source": [
    "Compare random access to objects and labels (NLCS)"
   ]
  },
  {
   "cell_type": "code",
   "execution_count": 13,
   "metadata": {},
   "outputs": [],
   "source": [
    "cache = dataset\n",
    "objects, labels, window = cache.objects, cache.labels, cache.window"
   ]
  },
  {
   "cell_type": "markdown",
   "metadata": {},
   "source": [
    "Prepare indices and pointers"
   ]
  },
  {
   "cell_type": "code",
   "execution_count": 14,
   "metadata": {},
   "outputs": [],
   "source": [
    "lengths = np.r_[list(map(len, objects))]\n",
    "indptr = np.r_[0, lengths.cumsum()]\n",
    "\n",
    "indices = np.random.randint(indptr[-1], size=1000)\n",
    "\n",
    "lookup = indptr.searchsorted(indices, side=\"right\") - 1\n",
    "assert np.all(0 <= lookup) and np.all(lookup < len(objects))\n",
    "\n",
    "ix_access = np.minimum(indices - indptr[lookup], lengths[lookup] - window)"
   ]
  },
  {
   "cell_type": "markdown",
   "metadata": {},
   "source": [
    "### Data access"
   ]
  },
  {
   "cell_type": "markdown",
   "metadata": {},
   "source": [
    "Measure copy and indexing"
   ]
  },
  {
   "cell_type": "code",
   "execution_count": 15,
   "metadata": {},
   "outputs": [],
   "source": [
    "out = np.empty(window)\n",
    "zeros = np.zeros(window)"
   ]
  },
  {
   "cell_type": "code",
   "execution_count": 16,
   "metadata": {},
   "outputs": [
    {
     "name": "stdout",
     "output_type": "stream",
     "text": [
      "2.55 ms ± 168 µs per loop (mean ± std. dev. of 7 runs, 100 loops each)\n"
     ]
    }
   ],
   "source": [
    "%%timeit -n 100\n",
    "for key, ix in zip(lookup, ix_access):\n",
    "    obj = objects[key]\n",
    "    out[:] = zeros[:]"
   ]
  },
  {
   "cell_type": "code",
   "execution_count": 17,
   "metadata": {
    "scrolled": true
   },
   "outputs": [
    {
     "name": "stdout",
     "output_type": "stream",
     "text": [
      "163 ms ± 1.95 ms per loop (mean ± std. dev. of 7 runs, 10 loops each)\n"
     ]
    }
   ],
   "source": [
    "%%timeit -n 10\n",
    "for key, ix in zip(lookup, ix_access):\n",
    "    obj = objects[key]\n",
    "    out[:] = obj[ix:ix+window]"
   ]
  },
  {
   "cell_type": "markdown",
   "metadata": {},
   "source": [
    "### Label access"
   ]
  },
  {
   "cell_type": "code",
   "execution_count": 18,
   "metadata": {},
   "outputs": [],
   "source": [
    "out = np.empty(84)"
   ]
  },
  {
   "cell_type": "code",
   "execution_count": 19,
   "metadata": {},
   "outputs": [
    {
     "name": "stdout",
     "output_type": "stream",
     "text": [
      "1.76 ms ± 31.6 µs per loop (mean ± std. dev. of 7 runs, 1000 loops each)\n"
     ]
    }
   ],
   "source": [
    "%%timeit -n 1000\n",
    "for key, ix in zip(lookup, ix_access):\n",
    "    lab = labels[key]\n",
    "    zeros = np.zeros(84)\n",
    "    pass\n",
    "    out[:] = zeros[:]"
   ]
  },
  {
   "cell_type": "code",
   "execution_count": 20,
   "metadata": {},
   "outputs": [
    {
     "name": "stdout",
     "output_type": "stream",
     "text": [
      "5.82 ms ± 475 µs per loop (mean ± std. dev. of 7 runs, 100 loops each)\n"
     ]
    }
   ],
   "source": [
    "%%timeit -n 100\n",
    "for key, ix in zip(lookup, ix_access):\n",
    "    lab = labels[key]\n",
    "    zeros = np.zeros(84)\n",
    "    for a, b, i in lab.find_overlap(ix, ix+1):\n",
    "        zeros[i] = 1\n",
    "    out[:] = zeros[:]"
   ]
  },
  {
   "cell_type": "code",
   "execution_count": 21,
   "metadata": {},
   "outputs": [
    {
     "name": "stdout",
     "output_type": "stream",
     "text": [
      "9.31 ms ± 284 µs per loop (mean ± std. dev. of 7 runs, 100 loops each)\n"
     ]
    }
   ],
   "source": [
    "%%timeit -n 100\n",
    "for key, ix in zip(lookup, ix_access):\n",
    "    lab = labels[key]\n",
    "    ind = [i for _, _, i in lab.find_overlap(ix, ix+1)]\n",
    "    out[:] = np.bincount(ind, minlength=84) > 0"
   ]
  },
  {
   "cell_type": "markdown",
   "metadata": {},
   "source": [
    "<hr>"
   ]
  },
  {
   "cell_type": "code",
   "execution_count": 22,
   "metadata": {},
   "outputs": [
    {
     "data": {
      "text/plain": [
       "['id_1792', 'id_1876', 'id_2131', 'id_2384', 'id_2514', 'id_2567']"
      ]
     },
     "execution_count": 22,
     "metadata": {},
     "output_type": "execute_result"
    }
   ],
   "source": [
    "dir(cache)"
   ]
  },
  {
   "cell_type": "code",
   "execution_count": 23,
   "metadata": {},
   "outputs": [],
   "source": [
    "for key in dir(cache):\n",
    "    result = cache[slice(*cache.limits[key])]\n",
    "    assert np.allclose(cache[key], result)"
   ]
  },
  {
   "cell_type": "code",
   "execution_count": 24,
   "metadata": {},
   "outputs": [
    {
     "name": "stdout",
     "output_type": "stream",
     "text": [
      "11.1 ms ± 8.43 µs per loop (mean ± std. dev. of 7 runs, 100 loops each)\n"
     ]
    }
   ],
   "source": [
    "%%timeit\n",
    "chunk = cache['id_1876']"
   ]
  },
  {
   "cell_type": "code",
   "execution_count": 25,
   "metadata": {},
   "outputs": [
    {
     "name": "stdout",
     "output_type": "stream",
     "text": [
      "1.13 s ± 1.64 ms per loop (mean ± std. dev. of 7 runs, 1 loop each)\n"
     ]
    }
   ],
   "source": [
    "%%timeit\n",
    "result = cache[slice(*cache.limits['id_1876'])]"
   ]
  },
  {
   "cell_type": "markdown",
   "metadata": {},
   "source": [
    "<br>"
   ]
  }
 ],
 "metadata": {
  "kernelspec": {
   "display_name": "Python 3",
   "language": "python",
   "name": "python3"
  },
  "language_info": {
   "codemirror_mode": {
    "name": "ipython",
    "version": 3
   },
   "file_extension": ".py",
   "mimetype": "text/x-python",
   "name": "python",
   "nbconvert_exporter": "python",
   "pygments_lexer": "ipython3",
   "version": "3.7.4"
  }
 },
 "nbformat": 4,
 "nbformat_minor": 2
}
