{
 "cells": [
  {
   "cell_type": "markdown",
   "metadata": {},
   "source": [
    "# Preprocessing data"
   ]
  },
  {
   "cell_type": "code",
   "execution_count": 1,
   "metadata": {},
   "outputs": [],
   "source": [
    "import os"
   ]
  },
  {
   "cell_type": "markdown",
   "metadata": {},
   "source": [
    "[git submodule](https://stackoverflow.com/questions/36236484/maintaining-a-git-repo-inside-another-git-repo)"
   ]
  },
  {
   "cell_type": "markdown",
   "metadata": {},
   "source": [
    "<br>"
   ]
  },
  {
   "cell_type": "markdown",
   "metadata": {},
   "source": [
    "## MusicNet"
   ]
  },
  {
   "cell_type": "markdown",
   "metadata": {},
   "source": [
    "* [Deep Complex Networks: MusicNet](https://github.com/ChihebTrabelsi/deep_complex_networks)\n",
    "  - [official page](https://homes.cs.washington.edu/~thickstn/musicnet.html)\n",
    "\n",
    "From \n",
    "```bash\n",
    "mkdir data/\n",
    "wget https://homes.cs.washington.edu/~thickstn/media/musicnet.h5 -P data/\n",
    "\n",
    "python resample_h5.py data/musicnet.npz data/musicnet_11khz.npz 44100 11000\n",
    "```\n",
    "where `resample.py` is from [Trabelsi repo](https://github.com/ChihebTrabelsi/deep_complex_networks/blob/master/musicnet/scripts/resample.py)\n",
    "* dependencies: resampy, intervaltree"
   ]
  },
  {
   "cell_type": "markdown",
   "metadata": {},
   "source": [
    "Download the dataset (11 GiB)"
   ]
  },
  {
   "cell_type": "code",
   "execution_count": 5,
   "metadata": {},
   "outputs": [
    {
     "name": "stdout",
     "output_type": "stream",
     "text": [
      "--2019-11-24 23:58:12--  https://homes.cs.washington.edu/~thickstn/media/musicnet.h5\n",
      "Resolving homes.cs.washington.edu (homes.cs.washington.edu)... 128.208.3.226, 2607:4000:200:12::e2\n",
      "Connecting to homes.cs.washington.edu (homes.cs.washington.edu)|128.208.3.226|:443... connected.\n",
      "HTTP request sent, awaiting response... 200 OK\n",
      "Length: 7623507914 (7.1G)\n",
      "Saving to: ‘./data/musicnet/musicnet.h5’\n",
      "\n",
      "musicnet.h5         100%[===================>]   7.10G  11.4MB/s    in 23m 53s \n",
      "\n",
      "2019-11-25 00:22:06 (5.08 MB/s) - ‘./data/musicnet/musicnet.h5’ saved [7623507914/7623507914]\n",
      "\n"
     ]
    }
   ],
   "source": [
    "musicnet_path = \"./data/musicnet\"\n",
    "file_in = os.path.join(musicnet_path, \"musicnet.h5\")\n",
    "\n",
    "if not os.path.exists(file_in):\n",
    "    os.makedirs(musicnet_path, exist_ok=False)\n",
    "\n",
    "    !wget https://homes.cs.washington.edu/~thickstn/media/musicnet.h5 -P {musicnet_path}"
   ]
  },
  {
   "cell_type": "markdown",
   "metadata": {},
   "source": [
    "Run customized resampler (this takes a while)."
   ]
  },
  {
   "cell_type": "code",
   "execution_count": 7,
   "metadata": {},
   "outputs": [
    {
     "name": "stdout",
     "output_type": "stream",
     "text": [
      ".. resampling ./data/musicnet/musicnet.h5 (44100Hz) into ./data/musicnet/musicnet_11khz.h5 (11000Hz)\n"
     ]
    },
    {
     "name": "stderr",
     "output_type": "stream",
     "text": [
      "100%|██████████| 330/330 [1:04:57<00:00, 11.81s/it]\n"
     ]
    },
    {
     "data": {
      "text/plain": [
       "'./data/musicnet/musicnet_11khz.h5'"
      ]
     },
     "execution_count": 7,
     "metadata": {},
     "output_type": "execute_result"
    }
   ],
   "source": [
    "from utils.musicnet import resample_h5\n",
    "\n",
    "file_out = os.path.join(musicnet_path, \"musicnet_11khz.h5\")\n",
    "resample_h5(file_in, file_out, 44100, 11000)"
   ]
  },
  {
   "cell_type": "markdown",
   "metadata": {},
   "source": [
    "<br>"
   ]
  },
  {
   "cell_type": "markdown",
   "metadata": {},
   "source": [
    "## TIMIT"
   ]
  },
  {
   "cell_type": "markdown",
   "metadata": {},
   "source": [
    "* [TIMIT](https://catalog.ldc.upenn.edu/LDC93S1) paywalled?!\n",
    "  - [on Kaggle](https://www.kaggle.com/mfekadu/darpa-timit-acousticphonetic-continuous-speech)"
   ]
  },
  {
   "cell_type": "code",
   "execution_count": 2,
   "metadata": {},
   "outputs": [],
   "source": [
    "# !pip install kaggle"
   ]
  },
  {
   "cell_type": "markdown",
   "metadata": {},
   "source": [
    "From [Kaggle-api](https://github.com/Kaggle/kaggle-api#api-credentials)\n",
    "\n",
    "> At the 'Account' tab of your user profile (`https://www.kaggle.com/<username>/account`)\n",
    "select 'Create API Token'. This will download the token `kaggle.json`."
   ]
  },
  {
   "cell_type": "markdown",
   "metadata": {},
   "source": [
    "Download TIMIT dataset without any hassle with `kaggle`!"
   ]
  },
  {
   "cell_type": "code",
   "execution_count": 3,
   "metadata": {},
   "outputs": [
    {
     "name": "stdout",
     "output_type": "stream",
     "text": [
      "Downloading darpa-timit-acousticphonetic-continuous-speech.zip to ./data/timit\n",
      " 99%|███████████████████████████████████████▋| 822M/829M [00:09<00:00, 90.3MB/s]\n",
      "100%|████████████████████████████████████████| 829M/829M [00:09<00:00, 93.0MB/s]\n"
     ]
    }
   ],
   "source": [
    "timit_path = \"./data/timit\"\n",
    "if not os.path.exists(timit_path):\n",
    "    os.makedirs(timit_path, exist_ok=False)\n",
    "    timit_uri = \"mfekadu/darpa-timit-acousticphonetic-continuous-speech\"\n",
    "\n",
    "    !kaggle datasets download -p {timit_path} --unzip {timit_uri}"
   ]
  },
  {
   "cell_type": "markdown",
   "metadata": {},
   "source": [
    "Run preprocessing scripts"
   ]
  },
  {
   "cell_type": "code",
   "execution_count": 4,
   "metadata": {},
   "outputs": [],
   "source": [
    "# preprocess the data\n",
    "# how do?"
   ]
  },
  {
   "cell_type": "markdown",
   "metadata": {},
   "source": [
    "<br>"
   ]
  },
  {
   "cell_type": "code",
   "execution_count": null,
   "metadata": {},
   "outputs": [],
   "source": [
    "assert False"
   ]
  },
  {
   "cell_type": "markdown",
   "metadata": {},
   "source": [
    "<br>"
   ]
  }
 ],
 "metadata": {
  "kernelspec": {
   "display_name": "Python 3",
   "language": "python",
   "name": "python3"
  },
  "language_info": {
   "codemirror_mode": {
    "name": "ipython",
    "version": 3
   },
   "file_extension": ".py",
   "mimetype": "text/x-python",
   "name": "python",
   "nbconvert_exporter": "python",
   "pygments_lexer": "ipython3",
   "version": "3.7.4"
  }
 },
 "nbformat": 4,
 "nbformat_minor": 2
}
