{
 "cells": [
  {
   "cell_type": "markdown",
   "metadata": {},
   "source": [
    "# Preprocessing data"
   ]
  },
  {
   "cell_type": "markdown",
   "metadata": {},
   "source": [
    "[git submodule](https://stackoverflow.com/questions/36236484/maintaining-a-git-repo-inside-another-git-repo)"
   ]
  },
  {
   "cell_type": "markdown",
   "metadata": {},
   "source": [
    "<br>"
   ]
  },
  {
   "cell_type": "markdown",
   "metadata": {},
   "source": [
    "## TIMIT"
   ]
  },
  {
   "cell_type": "markdown",
   "metadata": {},
   "source": [
    "* [TIMIT](https://catalog.ldc.upenn.edu/LDC93S1) paywalled?!\n",
    "  - [on Kaggle](https://www.kaggle.com/mfekadu/darpa-timit-acousticphonetic-continuous-speech)"
   ]
  },
  {
   "cell_type": "code",
   "execution_count": null,
   "metadata": {},
   "outputs": [],
   "source": [
    "# !pip install kaggle"
   ]
  },
  {
   "cell_type": "markdown",
   "metadata": {},
   "source": [
    "Download TIMIT dataset without any hassle with `kaggle`!"
   ]
  },
  {
   "cell_type": "code",
   "execution_count": null,
   "metadata": {},
   "outputs": [],
   "source": [
    "timit_uri = \"mfekadu/darpa-timit-acousticphonetic-continuous-speech\"\n",
    "\n",
    "files = !kaggle datasets files {timit_uri}\n",
    "\n",
    "print(\"\\n\".join(files[:16] + [\"...\"] + files[-16:]))"
   ]
  },
  {
   "cell_type": "code",
   "execution_count": null,
   "metadata": {},
   "outputs": [],
   "source": [
    "timit_path = \n",
    "\n",
    "!kaggle datasets download -p {timit_path} {timit_uri}"
   ]
  },
  {
   "cell_type": "markdown",
   "metadata": {},
   "source": [
    "From [Kaggle-api](https://github.com/Kaggle/kaggle-api#api-credentials)\n",
    "\n",
    "> At the 'Account' tab of your user profile (`https://www.kaggle.com/<username>/account`)\n",
    "select 'Create API Token'. This will download the token `kaggle.json`."
   ]
  },
  {
   "cell_type": "code",
   "execution_count": null,
   "metadata": {},
   "outputs": [],
   "source": []
  },
  {
   "cell_type": "markdown",
   "metadata": {},
   "source": [
    "<br>"
   ]
  },
  {
   "cell_type": "markdown",
   "metadata": {},
   "source": [
    "## MusicNet"
   ]
  },
  {
   "cell_type": "markdown",
   "metadata": {},
   "source": [
    "* [Deep Complex Networks: MusicNet](https://github.com/ChihebTrabelsi/deep_complex_networks)\n",
    "  - [official page](https://homes.cs.washington.edu/~thickstn/musicnet.html)\n",
    "\n",
    "From \n",
    "```bash\n",
    "mkdir data/\n",
    "wget https://homes.cs.washington.edu/~thickstn/media/musicnet.npz -P data/\n",
    "\n",
    "python resample.py data/musicnet.npz data/musicnet_11khz.npz 44100 11000\n",
    "```\n",
    "where `resample.py` is from [Trabelsi repo](https://github.com/ChihebTrabelsi/deep_complex_networks/blob/master/musicnet/scripts/resample.py)\n",
    "* dependecies: resampy, intervaltree"
   ]
  },
  {
   "cell_type": "markdown",
   "metadata": {},
   "source": []
  },
  {
   "cell_type": "markdown",
   "metadata": {},
   "source": [
    "<br>"
   ]
  },
  {
   "cell_type": "code",
   "execution_count": null,
   "metadata": {},
   "outputs": [],
   "source": [
    "assert False"
   ]
  },
  {
   "cell_type": "markdown",
   "metadata": {},
   "source": [
    "<br>"
   ]
  }
 ],
 "metadata": {
  "kernelspec": {
   "display_name": "Python 3",
   "language": "python",
   "name": "python3"
  },
  "language_info": {
   "codemirror_mode": {
    "name": "ipython",
    "version": 3
   },
   "file_extension": ".py",
   "mimetype": "text/x-python",
   "name": "python",
   "nbconvert_exporter": "python",
   "pygments_lexer": "ipython3",
   "version": "3.7.2"
  }
 },
 "nbformat": 4,
 "nbformat_minor": 2
}
