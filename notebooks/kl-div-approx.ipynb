{
 "cells": [
  {
   "cell_type": "markdown",
   "metadata": {},
   "source": [
    "# Nonlinear regression for KL"
   ]
  },
  {
   "cell_type": "markdown",
   "metadata": {},
   "source": [
    "[Complex-Valued Random Variable](https://www.mins.ee.ethz.ch/teaching/wirelessIT/handouts/miscmath1.pdf)\n",
    "\n",
    "[Caution: The Complex Normal Distribution!](http://www.ee.imperial.ac.uk/wei.dai/PaperDiscussion/Material2014/ReadingGroup_May.pdf)\n",
    "\n",
    "[Variational Dropout Sparsifies Deep Neural Networks](https://arxiv.org/pdf/1701.05369.pdf)"
   ]
  },
  {
   "cell_type": "code",
   "execution_count": null,
   "metadata": {},
   "outputs": [],
   "source": [
    "import time\n",
    "import numpy as np\n",
    "\n",
    "%matplotlib inline\n",
    "import matplotlib.pyplot as plt"
   ]
  },
  {
   "cell_type": "code",
   "execution_count": null,
   "metadata": {},
   "outputs": [],
   "source": [
    "dttm = time.strftime(\"%Y%m%d-%H%M%S\")\n",
    "dttm"
   ]
  },
  {
   "cell_type": "code",
   "execution_count": null,
   "metadata": {},
   "outputs": [],
   "source": [
    "np.random.randint(0x7fff_ffff)"
   ]
  },
  {
   "cell_type": "markdown",
   "metadata": {},
   "source": [
    "Consider a complex random vector $z \\in \\mathbb{C}^d$\n",
    "$$\n",
    "    z \\sim \\mathcal{CN}_d \\bigl(\\theta, K, C \\bigr)\n",
    "        \\Leftrightarrow\n",
    "        \\begin{pmatrix}\\Re z \\\\ \\Im z\\end{pmatrix}\n",
    "            \\sim \\mathcal{N}_{2 d} \\biggl(\n",
    "                \\begin{pmatrix}\\Re \\theta \\\\ \\Im \\theta \\end{pmatrix},\n",
    "                \\tfrac12 \\begin{pmatrix}\n",
    "                     \\Re (K + C) & - \\Im (K - C) \\\\\n",
    "                     \\Im (K + C) & \\Re (K - C)\n",
    "                \\end{pmatrix}\n",
    "            \\biggr)\n",
    "    \\,. $$"
   ]
  },
  {
   "cell_type": "markdown",
   "metadata": {},
   "source": [
    "If $x \\sim \\mathcal{N}_{2n}\\Bigl( \\mu, \\Sigma\\Bigr)$ with $x = (x_1, x_2)$, then $z = x_1 + i x_2$\n",
    "is a complex gaussian random vector,  $z \\sim \\mathcal{CN}_n(\\mu_1 + i \\mu_2, K, C)$ with\n",
    "$$\n",
    "\\begin{align}\n",
    "    K &= \\Sigma_{11} + \\Sigma_{22} + i (\\Sigma_{21} - \\Sigma_{12})\n",
    "        \\,, \\\\\n",
    "    C &= \\Sigma_{11} - \\Sigma_{22} + i (\\Sigma_{21} + \\Sigma_{12})\n",
    "        \\,.\n",
    "\\end{align}\n",
    "$$\n",
    "Note that $\\Sigma_{12} = \\Sigma_{21}^\\top$, and $\\Sigma_{11}, \\Sigma_{22} \\succeq 0$ imply that\n",
    "$K\\succeq 0$, $K^H = K$, $C = C^\\top$, and $\\overline{\\Gamma} \\succeq \\overline{C} \\Gamma^{-1} C $."
   ]
  },
  {
   "cell_type": "markdown",
   "metadata": {},
   "source": [
    "If $A\\in \\mathbb{C}^{n\\times d}$ and $b\\in \\mathbb{C}^n$, then\n",
    "$$\n",
    "    A z + b \\sim \\mathcal{CN}_n \\bigl(A \\theta + b, A K A^H, A C A^\\top \\bigr)\n",
    "    \\,. $$"
   ]
  },
  {
   "cell_type": "markdown",
   "metadata": {},
   "source": [
    "Indeed,\n",
    "$$\n",
    "    \\mathbb{E} Az + b = A \\mathbb{E} z + b = A \\theta + b\n",
    "    \\,, $$\n",
    "and for $\\xi = Az - A\\theta$ we have\n",
    "$$\n",
    "    \\mathbb{E} A (z-\\theta)(z-\\theta)^H A^H = A K A^H\n",
    "    \\,,\n",
    "    \\mathbb{E} A (z-\\theta)(z-\\theta)^\\top A^\\top = A C A^\\top\n",
    "    \\,. $$"
   ]
  },
  {
   "cell_type": "markdown",
   "metadata": {},
   "source": [
    "<br>"
   ]
  },
  {
   "cell_type": "markdown",
   "metadata": {},
   "source": [
    "A complex vector is called _proper_ (or circularly-symmetric) iff the pseudo-covariance\n",
    "matrix $C$ vanishes. This means that the corresponding blocks in the double-vector real\n",
    "representation obey $\\Sigma_{11} = \\Sigma_{22}$ and $\\Sigma_{21} = - \\Sigma_{12}$. This\n",
    "last condition implies that $\\Sigma_{12}$ is skew-symmetric: $\\Sigma_{12} = -\\Sigma_{12}^\\top$.\n",
    "This also means that the real and imaginary components of each element of $z$ are\n",
    "uncorrelated, since skew-symmetry means that its main diagonal is zero."
   ]
  },
  {
   "cell_type": "markdown",
   "metadata": {},
   "source": [
    "<br>"
   ]
  },
  {
   "cell_type": "markdown",
   "metadata": {},
   "source": [
    "The entropy of a generic gaussian random vector $x\\sim q(x) = \\mathcal{N}_d(x\\mid\\mu ,\\Sigma)$\n",
    "is\n",
    "$$\n",
    "    \\mathbb{E}_{x\\sim q} \\log q(x)\n",
    "        = - \\tfrac{d}2\\log 2\\pi - \\tfrac12 \\log\\det\\Sigma\n",
    "        - \\tfrac12 \\mathbb{E}_{x\\sim q}\\mathop{tr}{\\Sigma^{-1} (x-\\mu)(x-\\mu)^\\top}\n",
    "        = - \\tfrac12 \\log\\det 2\\pi e \\Sigma\n",
    "    \\,. $$\n",
    "\n",
    "Therefore the entropy of a gaussian complex random vector $z\\sim \\mathcal{CN}_d(\\theta, K, C)$\n",
    "is exaclty the entropy of the $2d$ double-real gaussian vector with a special\n",
    "convariance structure: for $z\\sim q(z) = \\mathcal{CN}_d(z\\mid \\theta, K, C)$\n",
    "$$\n",
    "    \\mathbb{E}_{z\\sim q} \\log q(z)\n",
    "        = - \\tfrac12 \\log\\det \\pi e \\begin{pmatrix}\n",
    "                 \\Re (K + C) & \\Im (- K + C) \\\\\n",
    "                 \\Im (K + C) & \\Re (K - C)\n",
    "            \\end{pmatrix}\n",
    "        = - \\tfrac{2d}2 \\log\\pi e\n",
    "        - \\tfrac12 \\log\\det \\begin{pmatrix}\n",
    "                 \\Re (K + C) & \\Im (- K + C) \\\\\n",
    "                 \\Im (K + C) & \\Re (K - C)\n",
    "            \\end{pmatrix}\n",
    "    \\,. $$\n",
    "If $C=0$, i.e. the complex vector is proper, then\n",
    "$$\n",
    "    \\det \\begin{pmatrix}\n",
    "         \\Re (K + C) & \\Im (- K + C) \\\\\n",
    "         \\Im (K + C) & \\Re (K - C)\n",
    "    \\end{pmatrix}\n",
    "        = \\det \\begin{pmatrix}\n",
    "             \\Re K & - \\Im K \\\\\n",
    "             \\Im K & \\Re K\n",
    "        \\end{pmatrix}\n",
    "        = \\det \\hat{K}\n",
    "        = \\det K \\overline{\\det K}\n",
    "        = \\lvert \\det K \\rvert^2\n",
    "        \\,, $$\n",
    "whence the differential entropy becomes\n",
    "$$\n",
    "    \\mathbb{E}_{z\\sim q} \\log q(z)\n",
    "        = - \\log (\\pi e)^d\\lvert \\det K\\rvert\n",
    "        = - \\log \\lvert \\det \\pi e K\\rvert\n",
    "    \\,. $$"
   ]
  },
  {
   "cell_type": "markdown",
   "metadata": {},
   "source": [
    "<br>"
   ]
  },
  {
   "cell_type": "markdown",
   "metadata": {},
   "source": [
    "Let $q$ be any distribution on $z$: a product with block terms, or even dirac $\\delta_{z_*}$\n",
    "distributions (for MLE), a mixture or whatever. $q$ may depend on anything, even $\\theta$!\n",
    "\n",
    "Then\n",
    "$$\n",
    "    \\log p(D; \\theta)\n",
    "        % = \\mathbb{E}_{z\\sim q} \\log p(D; \\theta)\n",
    "        % = \\mathbb{E}_{z\\sim q} \\log \\tfrac{p(D, z; \\theta)}{p(z\\mid D; \\theta)}\n",
    "        = \\underbrace{\n",
    "            \\mathbb{E}_{z\\sim q} \\log \\tfrac{p(D, z; \\theta)}{q(z)}\n",
    "        }_{\\mathfrak{L}(\\theta, q)}\n",
    "        + \\underbrace{\n",
    "            \\mathbb{E}_{z\\sim q} \\log \\tfrac{q(z)}{p(z\\mid D; \\theta)}\n",
    "        }_{KL(q \\| p(\\cdot \\mid D; \\theta))}\n",
    "        = \\mathbb{E}_{z\\sim q} \\log p(D\\mid z; \\theta)\n",
    "        - \\mathbb{E}_{z\\sim q} \\log \\tfrac{q(z)}{p(z)}\n",
    "        + \\mathbb{E}_{z\\sim q} \\log \\tfrac{q(z)}{p(z\\mid D; \\theta)}\n",
    "    \\,, $$\n",
    "is constant w.r.t. $q$ at any $\\theta$. Since KL-divergence is nonnegative (from\n",
    "Jensen's inequality), the Evidence Lower Bound $\\mathfrak{L}(\\theta, q)$ bound the\n",
    "original log-likelihood $\\log p(D; \\theta)$ from below.\n",
    "\n",
    "Let's maximize the ELBO with respec to $q$ and $\\theta$. However, since the whole\n",
    "right hand side is constant with respect to $q$, maximization of $\\mathfrak{L}(\\theta, q)$\n",
    "w.r.t. $q \\in \\mathcal{F}$ (holding $\\theta$ fixed) is equivalent to minimizing\n",
    "$KL(q \\| p(\\cdot \\mid D; \\theta))$ w.r.t. $q$. This is the E-step of the EM.\n",
    "\n",
    "The M-step is maximizing the ELBO over $\\theta$ holding $q$ fixed. Note that some of\n",
    "$q$ may be `offlaid` to the M-step from the E-step!"
   ]
  },
  {
   "cell_type": "markdown",
   "metadata": {},
   "source": [
    "<br>"
   ]
  },
  {
   "cell_type": "markdown",
   "metadata": {},
   "source": [
    "Suppose that the prior $p(z)$ and the variational distribution are fully factorized:\n",
    "$p(z) = \\otimes_{\\omega} p(z_\\omega)$, $q(z) = \\otimes_{\\omega} q(z_\\omega)$. Then\n",
    "$$\n",
    "    \\mathbb{E}_{z\\sim q} \\log \\tfrac{q(z)}{p(z)}\n",
    "        = \\sum_\\omega \\mathbb{E}_{z\\sim q} \\log \\tfrac{q(z_\\omega)}{p(z_\\omega)}\n",
    "        = \\sum_\\omega \\mathbb{E}_{q(z_\\omega)} \\log \\tfrac{q(z_\\omega)}{p(z_\\omega)}\n",
    "    \\,. $$\n",
    "<span style=\"color:red\">**NOTE**</span> we treat $p$ and $q$ as symbols, represending\n",
    "the density of the argument random variable w.r.t. some carrier measure."
   ]
  },
  {
   "cell_type": "markdown",
   "metadata": {},
   "source": [
    "$$\n",
    "    z_\\omega\n",
    "        = \\theta_\\omega \\varepsilon_\\omega\n",
    "    \\,,\n",
    "    \\varepsilon_\\omega\n",
    "        \\sim \\mathcal{CN}(1, \\alpha_\\omega, 0)\n",
    "    \\Leftrightarrow\n",
    "    z_\\omega\n",
    "        \\sim \\mathcal{CN}(\\theta_\\omega, \\alpha_\\omega \\lvert \\theta_\\omega\\rvert^2, 0)\n",
    "    \\,. $$"
   ]
  },
  {
   "cell_type": "markdown",
   "metadata": {},
   "source": [
    "Suppose $q(z) = \\mathcal{CN}(\\theta, \\alpha \\lvert\\theta\\rvert^2, 0)$ and\n",
    "$p(z) \\propto \\lvert z\\rvert^{-\\beta}$. Each term in the sum\n",
    "$$\n",
    "\\begin{align}\n",
    "    KL(q\\|p)\n",
    "        &= \\mathbb{E}_{q(z)} \\log \\tfrac{q(z)}{p(z)}\n",
    "        = \\mathbb{E}_{q(z)} \\log q(z) - \\mathbb{E}_{q(z)} \\log p(z)\n",
    "        \\\\\n",
    "        &= - \\log \\bigl\\lvert \\pi e \\alpha \\lvert\\theta\\rvert^2 \\bigr\\rvert\n",
    "        + \\beta \\mathbb{E}_{q(z)} \\log \\lvert z\\rvert\n",
    "        + C\n",
    "        \\\\\n",
    "        &= - \\log \\pi e\n",
    "        - \\log \\alpha \\lvert\\theta\\rvert^2\n",
    "        + \\beta \\mathbb{E}_{\\varepsilon \\sim \\mathcal{CN}(1, \\alpha, 0)}\n",
    "            \\log \\lvert \\theta \\rvert \\lvert \\varepsilon\\rvert\n",
    "        + C\n",
    "        \\\\\n",
    "        &= - \\log \\pi e - \\log \\alpha\n",
    "        + \\tfrac{\\beta - 2}2 \\log \\lvert \\theta \\rvert^2\n",
    "        + \\beta \\mathbb{E}_{\\varepsilon \\sim \\mathcal{CN}(1, \\alpha, 0)}\n",
    "            \\log \\lvert \\varepsilon\\rvert\n",
    "        + C\n",
    "        \\\\\n",
    "        &= - \\log \\pi e - \\log \\alpha\n",
    "        + \\tfrac{\\beta - 2}2 \\log \\lvert \\theta \\rvert^2\n",
    "        + \\tfrac\\beta2 \\mathbb{E}_{z \\sim \\mathcal{CN}(0, \\alpha, 0)}\n",
    "            \\log \\bigl\\lvert z + 1 \\bigr\\rvert^2\n",
    "        + C\n",
    "        \\\\\n",
    "        &= - \\log \\pi e - \\log \\alpha\n",
    "        + \\tfrac{\\beta - 2}2 \\log \\lvert \\theta \\rvert^2\n",
    "        + \\tfrac\\beta2 \\mathbb{E}_{\\varepsilon \\sim \\mathcal{N}_2\\bigl(0, \\tfrac\\alpha2 I\\bigr)}\n",
    "            \\log \\bigl((\\varepsilon_1 + 1)^2 + \\varepsilon_2^2\\bigr)\n",
    "        + C\n",
    "\\end{align}\n",
    "\\,. $$"
   ]
  },
  {
   "cell_type": "markdown",
   "metadata": {},
   "source": [
    "For $\\beta = 2$ the parameter $\\theta$ vanishes from the divergence,\n",
    "and it becomes just the expectation."
   ]
  },
  {
   "cell_type": "markdown",
   "metadata": {},
   "source": [
    "Compare this expression to the real variational dropout: for\n",
    "$q(z) = \\mathcal{N}(\\theta, \\alpha \\theta^2)$ and $p(z) \\propto \\lvert z\\rvert^{-1}$\n",
    "we have\n",
    "$$\n",
    "\\begin{align}\n",
    "    KL(q\\|p)\n",
    "        &= \\mathbb{E}_{q(z)} \\log \\tfrac{q(z)}{p(z)}\n",
    "        = \\mathbb{E}_{q(z)} \\log q(z) - \\mathbb{E}_{q(z)} \\log p(z)\n",
    "        \\\\\n",
    "        &= - \\tfrac12 \\log 2 \\pi e - \\tfrac12 \\log \\alpha \\theta^2\n",
    "        + \\mathbb{E}_{\\xi \\sim \\mathcal{N}(0, \\alpha)}\n",
    "            \\log \\bigl\\lvert \\theta (\\xi + 1) \\bigr\\rvert\n",
    "        + C\n",
    "        \\\\\n",
    "        &= - \\tfrac12 \\log 2 \\pi e - \\tfrac12 \\log \\alpha\n",
    "        + \\tfrac12 \\mathbb{E}_{\\xi \\sim \\mathcal{N}(0, \\alpha)}\n",
    "            \\log (\\xi + 1)^2\n",
    "        + C\n",
    "\\end{align}\n",
    "\\,. $$"
   ]
  },
  {
   "cell_type": "markdown",
   "metadata": {},
   "source": [
    "<br>"
   ]
  },
  {
   "cell_type": "code",
   "execution_count": null,
   "metadata": {},
   "outputs": [],
   "source": [
    "# random_state = np.random.RandomState(575727528)\n",
    "# random_state = np.random.RandomState()"
   ]
  },
  {
   "cell_type": "markdown",
   "metadata": {},
   "source": [
    "Negative kl-div approximation from arxiv:1701.05369.\n",
    "$$\n",
    "    - KL(\\mathcal{N}(w\\mid \\theta, \\alpha \\theta^2) \\|\n",
    "            \\tfrac1{\\lvert w \\rvert})\n",
    "        = \\tfrac12 \\log \\alpha\n",
    "          - \\mathbb{E}_{\\xi \\sim \\mathcal{N}(1, \\alpha)}\n",
    "            \\log{\\lvert \\xi \\rvert} + C\n",
    "        \\approx\n",
    "            k_1 \\sigma(k_2 + k_3 \\log \\alpha) + C \\big\\vert_{C = -k1}\n",
    "            - \\tfrac12 \\log (1 + e^{-\\log \\alpha})\n",
    "    \\,. $$"
   ]
  },
  {
   "cell_type": "code",
   "execution_count": null,
   "metadata": {},
   "outputs": [],
   "source": [
    "import tqdm\n",
    "\n",
    "def kldiv_real_mc(log_alpha, m=1e5):\n",
    "    kld, m = 0.5 * log_alpha, int(m)\n",
    "    for i, la in enumerate(tqdm.tqdm(log_alpha)):\n",
    "        eps = np.random.randn(m) * np.sqrt(np.exp(la))\n",
    "        kld[i] -= np.log(abs(eps + 1)).mean(axis=-1)\n",
    "    return kld\n",
    "\n",
    "def kldiv_cplx_mc(log_alpha, m=1e5):\n",
    "    kld, m = log_alpha.copy(), int(m)\n",
    "    for i, la in enumerate(tqdm.tqdm(log_alpha)):\n",
    "        eps = np.random.randn(m) + 1j * np.random.randn(m)\n",
    "        eps *= np.sqrt(np.exp(la) / 2)\n",
    "        kld[i] -= 2 * np.log(abs(eps + 1)).mean(axis=-1)\n",
    "    return kld"
   ]
  },
  {
   "cell_type": "markdown",
   "metadata": {},
   "source": [
    "Loky backend seems to correctly deal with `np.random`:\n",
    "[Random state within joblib.Parallel](https://joblib.readthedocs.io/en/latest/auto_examples/parallel_random_state.html)"
   ]
  },
  {
   "cell_type": "code",
   "execution_count": null,
   "metadata": {},
   "outputs": [],
   "source": [
    "import joblib\n",
    "\n",
    "def par_kldiv_real_mc(log_alpha, m=1e5):\n",
    "    def _kldiv_one(log_alpha):\n",
    "        eps = np.random.randn(int(m)) * np.sqrt(np.exp(log_alpha))\n",
    "        return 0.5 * log_alpha - np.log(abs(eps + 1)).mean(axis=-1)\n",
    "    kldiv_one = joblib.delayed(_kldiv_one)\n",
    "\n",
    "    par_ = joblib.Parallel(n_jobs=-1, backend=\"loky\", verbose=0)\n",
    "    return np.array(par_(kldiv_one(la) for la in tqdm.tqdm(log_alpha)))"
   ]
  },
  {
   "cell_type": "markdown",
   "metadata": {},
   "source": [
    "Compute (or load from cache) the MC estiamte of the negative Kullback-Leibler divergence."
   ]
  },
  {
   "cell_type": "code",
   "execution_count": null,
   "metadata": {},
   "outputs": [],
   "source": [
    "import os\n",
    "import gzip\n",
    "import joblib\n",
    "\n",
    "filename = \"neg kl-div mc 20190516-134609.gz\"\n",
    "if os.path.exists(filename):\n",
    "    # load from cache\n",
    "    with gzip.open(filename, \"rb\") as fin:\n",
    "        cache = joblib.load(fin)\n",
    "\n",
    "    kl_real_mc, kl_cplx_mc = cache[\"real\"], cache[\"cplx\"]\n",
    "    alpha = cache[\"alpha\"]\n",
    "    log_alpha = np.log(alpha)\n",
    "\n",
    "else:\n",
    "    alpha = np.logspace(-8, 8, num=4096)\n",
    "    log_alpha = np.log(alpha)\n",
    "\n",
    "    # get an MC estimate of the negative kl-divergence\n",
    "    kl_real_mc = kldiv_real_mc(log_alpha, m=1e7)\n",
    "    kl_cplx_mc = kldiv_cplx_mc(log_alpha, m=1e7)\n",
    "\n",
    "    filename = f\"neg kl-div mc {dttm}.gz\"\n",
    "    with gzip.open(filename, \"wb\", compresslevel=5) as fout:\n",
    "        joblib.dump({\n",
    "            \"m\" : 1e7,\n",
    "            \"alpha\" : alpha,\n",
    "            \"real\": kl_real_mc,\n",
    "            \"cplx\": kl_cplx_mc,\n",
    "        }, fout)\n",
    "# end if\n",
    "\n",
    "print(filename)"
   ]
  },
  {
   "cell_type": "markdown",
   "metadata": {},
   "source": [
    "```text\n",
    "100%|██████████| 513/513 [16:54<00:00,  1.93s/it]\n",
    "100%|██████████| 513/513 [39:25<00:00,  4.56s/it]\n",
    "```"
   ]
  },
  {
   "cell_type": "markdown",
   "metadata": {},
   "source": [
    "```text\n",
    "100%|██████████| 4096/4096 [22:08<00:00,  3.25it/s]\n",
    "100%|██████████| 4096/4096 [56:05<00:00,  1.21it/s]\n",
    "```"
   ]
  },
  {
   "cell_type": "markdown",
   "metadata": {},
   "source": [
    "<br>"
   ]
  },
  {
   "cell_type": "markdown",
   "metadata": {},
   "source": [
    "Fit a curve to the MC estimate"
   ]
  },
  {
   "cell_type": "markdown",
   "metadata": {},
   "source": [
    "$x \\mapsto \\log(1 + e^x)$ is softplus and needs different\n",
    " compute paths depending on the sign of $x$:\n",
    " $$ x\\mapsto \\log(1+e^{-\\lvert x\\rvert}) + \\max{\\{x, 0\\}} \\,. $$\n",
    "\n",
    "\n",
    "$$\n",
    "    \\log\\alpha - \\log(1 + e^{\\log\\alpha})\n",
    "        = \\log\\tfrac{\\alpha}{1 + \\alpha}\n",
    "        = - \\log\\tfrac{1 + \\alpha}{\\alpha}\n",
    "        = - \\log(1 + \\tfrac1\\alpha)\n",
    "        = - \\log(1 + e^{-\\log\\alpha})\n",
    "    \\,. $$"
   ]
  },
  {
   "cell_type": "code",
   "execution_count": null,
   "metadata": {},
   "outputs": [],
   "source": [
    "import torch\n",
    "import torch.nn.functional as F\n",
    "from scipy.special import expit, expi\n",
    "\n",
    "\n",
    "tr_kl_cplx_mc = torch.from_numpy(kl_cplx_mc)\n",
    "tr_kl_real_mc = torch.from_numpy(kl_real_mc)\n",
    "tr_log_alpha = torch.from_numpy(log_alpha)\n",
    "\n",
    "def fused_mse(k, log_alpha, target):\n",
    "    tr_k = torch.from_numpy(k).requires_grad_(True)\n",
    "\n",
    "    k1, k2, k3, k4 = tr_k\n",
    "    sigmoid = torch.sigmoid(k2 + k3 * log_alpha)\n",
    "    softplus = - k4 * F.softplus(- log_alpha)\n",
    "    approx = k1 * sigmoid + softplus\n",
    "\n",
    "    loss = F.mse_loss(approx, target, reduction=\"mean\")\n",
    "    loss.backward()\n",
    "\n",
    "    return loss.item(), tr_k.grad.numpy()\n",
    "\n",
    "def kldiv_approx(k, log_alpha):\n",
    "    k1, k2, k3, k4 = k\n",
    "    C = 0  # -k1\n",
    "\n",
    "    sigmoid = expit(k2 + k3 * log_alpha)\n",
    "    softplus = - k4 * np.logaddexp(0, -log_alpha)\n",
    "    return k1 * sigmoid + softplus + C\n",
    "\n",
    "def kl_div_exact(log_alpha):\n",
    "    return log_alpha + expi(- np.exp(- log_alpha))  # - np.euler_gamma"
   ]
  },
  {
   "cell_type": "markdown",
   "metadata": {},
   "source": [
    "<br>"
   ]
  },
  {
   "cell_type": "code",
   "execution_count": null,
   "metadata": {},
   "outputs": [],
   "source": [
    "resid = kl_div_exact(log_alpha) - kl_cplx_mc\n",
    "plt.plot(log_alpha, resid)\n",
    "\n",
    "abs(resid).mean(), resid.std()"
   ]
  },
  {
   "cell_type": "markdown",
   "metadata": {},
   "source": [
    "<br>"
   ]
  },
  {
   "cell_type": "markdown",
   "metadata": {},
   "source": [
    "[Moments of the log non-central chi-square distribution](https://arxiv.org/pdf/1503.06266.pdf)"
   ]
  },
  {
   "cell_type": "markdown",
   "metadata": {},
   "source": [
    "$$\n",
    "    \\mathbb{E}_{\\xi \\sim \\mathcal{N}(0, \\alpha)}\n",
    "        \\log (\\xi + 1)^2\n",
    "            = \\log \\alpha\n",
    "            + \\mathbb{E}_{\\xi \\sim \\mathcal{N}(0, 1)}\n",
    "                \\log (\\xi + \\tfrac1{\\sqrt\\alpha})^2\n",
    "            = \\log \\alpha + g\\bigl(\\tfrac1{\\sqrt\\alpha}\\bigr)\n",
    "    \\,. $$"
   ]
  },
  {
   "cell_type": "markdown",
   "metadata": {},
   "source": [
    "$$\n",
    "    g(\\mu)\n",
    "        = \\mathbb{E}_{\\xi \\sim \\mathcal{N}(0, 1)} \\log (\\xi + \\mu)^2\n",
    "\\,. $$"
   ]
  },
  {
   "cell_type": "markdown",
   "metadata": {},
   "source": [
    "$$\\begin{align}\n",
    "    \\int_{-\\infty}^\\infty\n",
    "        \\tfrac1{\\sqrt{2\\pi}} e^{-\\tfrac12x^2}\n",
    "        \\log \\lvert x + \\mu\\rvert dx\n",
    "        &= \\int_{-\\infty}^{-\\mu}\n",
    "            \\tfrac1{\\sqrt{2\\pi}} e^{-\\tfrac12x^2}\n",
    "            \\log (- x - \\mu) dx\n",
    "        + \\int_{-\\mu}^\\infty\n",
    "            \\tfrac1{\\sqrt{2\\pi}} e^{-\\tfrac12x^2}\n",
    "            \\log (x + \\mu) dx\n",
    "        \\\\\n",
    "        &= \\int_\\mu^\\infty\n",
    "            \\tfrac1{\\sqrt{2\\pi}} e^{-\\tfrac12x^2}\n",
    "            \\log (x - \\mu) dx\n",
    "        + \\int_{-\\mu}^\\infty\n",
    "            \\tfrac1{\\sqrt{2\\pi}} e^{-\\tfrac12x^2}\n",
    "            \\log (x + \\mu) dx\n",
    "\\end{align}$$"
   ]
  },
  {
   "cell_type": "markdown",
   "metadata": {},
   "source": [
    "Supppose $x \\sim \\chi^2_k$, the cumulant function of $y = \\log x$ is\n",
    "$$\n",
    "    K(t)\n",
    "        = \\log \\mathbb{E} e^{ty}\n",
    "        = \\log \\mathbb{E} x^t\n",
    "    \\,, $$\n",
    "which is known to be\n",
    "$$\n",
    "    K(t)\n",
    "        = t \\log2 + \\log\\Gamma\\bigl(\\tfrac{k}2 + t\\bigr) - \\log \\Gamma\\bigl(\\tfrac{k}2\\bigr)\n",
    "    \\,. $$\n",
    "Now\n",
    "$$\n",
    "    \\mathbb{E} y^k\n",
    "        != \\tfrac{d^k}{dt^k} K(t) \\big\\vert_{t=0}\n",
    "    \\,. $$"
   ]
  },
  {
   "cell_type": "markdown",
   "metadata": {},
   "source": [
    "[The Expected Logarithm of a Noncentral Chi-Square Random Variable](http://moser-isi.ethz.ch/explog.html)"
   ]
  },
  {
   "attachments": {
    "image.png": {
     "image/png": "[encoded data removed]"
    }
   },
   "cell_type": "markdown",
   "metadata": {},
   "source": [
    "![image.png](attachment:image.png)"
   ]
  },
  {
   "cell_type": "markdown",
   "metadata": {},
   "source": [
    "For $u \\sim \\mathcal{CN}(0, 1, 0)$ and $\\mu\\in \\mathbb{C}$ we have\n",
    "$$\n",
    "    g(\\mu)\n",
    "        = \\mathbb{E} \\log \\lvert u + \\mu\\rvert^2\n",
    "        = \\log \\lvert \\mu \\rvert^2 - \\mathop{Ei}{(-\\lvert \\mu \\rvert^2)}\n",
    "    \\,, $$\n",
    "where $\\mathop{Ei}(x) = - \\int_{-x}^\\infty \\tfrac{e^{-t}}t dt$.\n",
    "\n",
    "Thus for $z \\sim \\mathcal{CN}(0, \\alpha, 0)$, $\\alpha > 0$, we get\n",
    "$$\n",
    "    \\mathbb{E} \\log \\lvert z + \\mu\\rvert^2\n",
    "        = \\mathbb{E} \\log \\bigl\\lvert \\sqrt\\alpha u + \\mu\\bigr\\rvert^2\n",
    "        = \\mathbb{E} \\log \\alpha \\bigl\\lvert u + \\tfrac\\mu{\\sqrt\\alpha} \\bigr\\rvert^2\n",
    "        = \\log \\alpha + g\\bigl(\\tfrac{\\mu}{\\sqrt\\alpha}\\bigr)\n",
    "    \\,. $$\n",
    "\n",
    "\n",
    "Therefore\n",
    "$$\n",
    "\\begin{align}\n",
    "    KL(q\\|p)\n",
    "        &= \\mathbb{E}_{q(z)} \\log \\tfrac{q(z)}{p(z)}\n",
    "        = \\mathbb{E}_{q(z)} \\log q(z) - \\mathbb{E}_{q(z)} \\log p(z)\n",
    "        \\\\\n",
    "        &= - \\log \\pi e + \\bigl(\\tfrac\\beta2 - 1\\bigr) \\log \\alpha\n",
    "        + (\\beta - 2) \\log \\lvert \\theta \\rvert\n",
    "        + \\tfrac\\beta2 g\\bigl(\\tfrac1{\\sqrt\\alpha}\\bigr)\n",
    "        + C\n",
    "\\end{align}\n",
    "\\,. $$"
   ]
  },
  {
   "cell_type": "markdown",
   "metadata": {},
   "source": [
    "For $\\beta = 2$ we get\n",
    "$$\n",
    "\\begin{align}\n",
    "    KL(q\\|p)\n",
    "        &= - \\log \\pi e + g\\bigl(\\tfrac1{\\sqrt\\alpha}\\bigr) + C\n",
    "        \\\\\n",
    "        &= - \\log \\pi e + \\log \\bigl\\lvert \\tfrac1{\\sqrt\\alpha} \\bigr\\rvert^2\n",
    "        - \\mathop{Ei}{(-\\bigl\\lvert \\tfrac1{\\sqrt\\alpha} \\bigr\\rvert^2)}\n",
    "        + C\n",
    "        \\\\\n",
    "        &= - \\log \\pi e - \\log \\alpha + C\n",
    "        - \\mathop{Ei}{\\bigl(-\\tfrac1\\alpha \\bigr)}\n",
    "\\end{align}\n",
    "\\,. $$"
   ]
  },
  {
   "cell_type": "markdown",
   "metadata": {},
   "source": [
    "<br>"
   ]
  },
  {
   "cell_type": "code",
   "execution_count": null,
   "metadata": {},
   "outputs": [],
   "source": [
    "class ExpiFunction(torch.autograd.Function):\n",
    "    @staticmethod\n",
    "    def forward(ctx, x):\n",
    "        ctx.save_for_backward(x)\n",
    "\n",
    "        x_cpu = x.data.cpu().numpy()\n",
    "        output = expi(x_cpu, dtype=x_cpu.dtype)\n",
    "        return torch.from_numpy(output).to(x.device)\n",
    "\n",
    "    @staticmethod\n",
    "    def backward(ctx, grad_output):\n",
    "        x = ctx.saved_tensors[-1]\n",
    "        return grad_output * torch.exp(x) / x\n",
    "\n",
    "torch_expi = ExpiFunction.apply\n",
    "\n",
    "input = torch.randn(20, 20).to(torch.double)\n",
    "assert torch.autograd.gradcheck(torch_expi, input.requires_grad_(True))"
   ]
  },
  {
   "cell_type": "markdown",
   "metadata": {},
   "source": [
    "<br>"
   ]
  },
  {
   "cell_type": "code",
   "execution_count": null,
   "metadata": {},
   "outputs": [],
   "source": [
    "from scipy.optimize.lbfgsb import fmin_l_bfgs_b\n",
    "\n",
    "k_real = fmin_l_bfgs_b(fused_mse, np.r_[0.5, 0., 1., 0.5],\n",
    "                       bounds=((None, None), (None, None), (None, None), (0.5, 0.5)),\n",
    "                       args=(tr_log_alpha, tr_kl_real_mc))[0]\n",
    "\n",
    "k_cplx = fmin_l_bfgs_b(fused_mse, np.r_[0.5, 0., 1., 1.],\n",
    "                       bounds=((None, None), (None, None), (None, None), (1.0, 1.0)),\n",
    "                       args=(tr_log_alpha, tr_kl_cplx_mc))[0]"
   ]
  },
  {
   "cell_type": "code",
   "execution_count": null,
   "metadata": {},
   "outputs": [],
   "source": [
    "k_real_1701_05369 = np.r_[0.63576, 1.87320, 1.48695, 0.5]"
   ]
  },
  {
   "cell_type": "code",
   "execution_count": null,
   "metadata": {
    "scrolled": true
   },
   "outputs": [],
   "source": [
    "k_real_1701_05369, k_real, k_cplx"
   ]
  },
  {
   "cell_type": "markdown",
   "metadata": {
    "scrolled": true
   },
   "source": [
    "```text\n",
    "(array([0.63576, 1.8732 , 1.48695, 0.5    ]),\n",
    " array([0.63567313, 1.88114543, 1.49136378, 0.5       ]),\n",
    " array([0.57810091, 1.45926293, 1.36525956, 1.        ]))\n",
    "```"
   ]
  },
  {
   "cell_type": "markdown",
   "metadata": {},
   "source": [
    "<br>"
   ]
  },
  {
   "cell_type": "code",
   "execution_count": null,
   "metadata": {},
   "outputs": [],
   "source": [
    "kl_real_1701_05369 = kldiv_approx(k_real_1701_05369, log_alpha)\n",
    "kl_real_approx = kldiv_approx(k_real, log_alpha)\n",
    "kl_cplx_approx = kldiv_approx(k_cplx, log_alpha)"
   ]
  },
  {
   "cell_type": "code",
   "execution_count": null,
   "metadata": {},
   "outputs": [],
   "source": [
    "fig = plt.figure(figsize=(12, 5))\n",
    "ax = fig.add_subplot(111, xlabel=r\"$\\log\\alpha$\", ylabel=\"-kld\")\n",
    "\n",
    "ax.plot(log_alpha, kl_real_mc - kl_real_1701_05369, label=r\"$\\mathbb{R}$ - arXiv:1701.05369\", alpha=0.5)\n",
    "ax.plot(log_alpha, kl_real_mc - kl_real_approx, label=r\"$\\mathbb{R}$ - lbfgs\", alpha=0.5)\n",
    "ax.plot(log_alpha, kl_cplx_mc - kl_cplx_approx, label=r\"$\\mathbb{C}$ - lbfgs\")\n",
    "\n",
    "ax.axhline(0., c=\"k\", zorder=-10)\n",
    "ax.legend(ncol=3)\n",
    "ax.set_title(\"Regression residuals of the MC estimate of the KL-div for ARD\")\n",
    "plt.show()"
   ]
  },
  {
   "cell_type": "code",
   "execution_count": null,
   "metadata": {},
   "outputs": [],
   "source": [
    "fig = plt.figure(figsize=(12, 5))\n",
    "ax = fig.add_subplot(111, xlabel=r\"$\\log\\alpha$\", ylabel=\"-kld\")\n",
    "\n",
    "ax.plot(log_alpha, kl_div_exact(log_alpha), c=\"k\", label=r\"$\\mathbb{C}$ - exact\", lw=2)\n",
    "\n",
    "ax.plot(log_alpha, kl_real_mc, label=r\"$\\mathbb{R}$\")\n",
    "ax.plot(log_alpha, kl_cplx_mc, label=r\"$\\mathbb{C}$\")\n",
    "\n",
    "ax.legend(ncol=3)\n",
    "ax.set_title(\"the MC estimate of the KL-div for ARD\")\n",
    "plt.show()"
   ]
  },
  {
   "cell_type": "code",
   "execution_count": null,
   "metadata": {},
   "outputs": [],
   "source": [
    "abs(kl_real_mc - kl_real_1701_05369).max(), \\\n",
    "abs(kl_real_mc - kl_real_approx).max(), \\\n",
    "abs(kl_cplx_mc - kl_cplx_approx).max()"
   ]
  },
  {
   "cell_type": "code",
   "execution_count": null,
   "metadata": {},
   "outputs": [],
   "source": [
    "fig = plt.figure(figsize=(12, 5))\n",
    "ax = fig.add_subplot(111, xlabel=r\"$\\log\\alpha$\", ylabel=\"-kld\")\n",
    "\n",
    "mid_log_alpha = (log_alpha[1:] + log_alpha[:-1]) / 2\n",
    "d_log = log_alpha[1:] - log_alpha[:-1]\n",
    "ax.plot(mid_log_alpha, np.diff(kl_real_mc) / d_log, label=r\"$\\partial \\mathbb{R}$-approx\")\n",
    "ax.plot(mid_log_alpha, np.diff(kl_cplx_mc) / d_log, label=r\"$\\partial \\mathbb{C}$-approx\")\n",
    "\n",
    "ax.axhline(0., c=\"k\", zorder=-10)\n",
    "ax.legend(ncol=2)"
   ]
  },
  {
   "cell_type": "code",
   "execution_count": null,
   "metadata": {},
   "outputs": [],
   "source": [
    "fig = plt.figure(figsize=(12, 5))\n",
    "ax = fig.add_subplot(111, xlabel=r\"$\\log\\alpha$\", ylabel=\"-kld\")\n",
    "\n",
    "ax.plot(log_alpha, kl_cplx_mc, label=r\"$\\mathbb{C}$ - mc\")\n",
    "ax.plot(log_alpha, kl_cplx_approx, label=r\"$\\mathbb{C}$ - approx\")\n",
    "\n",
    "ax.plot(log_alpha, kl_real_mc, label=r\"$\\mathbb{R}$ - mc\")\n",
    "ax.plot(log_alpha, kl_real_approx, label=r\"$\\mathbb{R}$ - approx\")\n",
    "\n",
    "# ax.set_xlim(0, 20)\n",
    "# ax.set_ylim(0.55, 0.6)\n",
    "\n",
    "ax.legend()"
   ]
  },
  {
   "cell_type": "code",
   "execution_count": null,
   "metadata": {
    "scrolled": true
   },
   "outputs": [],
   "source": [
    "assert False, \"\"\"STOP!\"\"\""
   ]
  },
  {
   "cell_type": "markdown",
   "metadata": {},
   "source": [
    "Negative kl-div approximation from arxiv:1701.05369.\n",
    "$$\n",
    "- KL(\\mathcal{N}(w\\mid \\theta, \\alpha \\theta^2) \\|\n",
    "        \\tfrac1{\\lvert w \\rvert})\n",
    "    = \\tfrac12 \\log \\alpha\n",
    "      - \\mathbb{E}_{\\xi \\sim \\mathcal{N}(1, \\alpha)}\n",
    "        \\log{\\lvert \\xi \\rvert} + C\n",
    "%     = \\tfrac12 \\log \\alpha\n",
    "%       - \\log{\\sqrt{\\alpha}}\n",
    "%       - \\tfrac12 \\mathbb{E}_{\\xi \\sim \\mathcal{N}(0, 1)}\n",
    "%         \\log{\\bigl\\lvert \\tfrac1{\\sqrt{\\alpha}} + \\xi \\bigr\\rvert^2} + C\n",
    "    = - \\tfrac12 \\mathbb{E}_{\\xi \\sim \\mathcal{N}(0, 1)}\n",
    "        \\log{\\bigl\\lvert \\xi + \\tfrac1{\\sqrt{\\alpha}}\\bigr\\rvert^2} + C\n",
    "    \\,. $$"
   ]
  },
  {
   "cell_type": "code",
   "execution_count": null,
   "metadata": {},
   "outputs": [],
   "source": [
    "def kldiv_real_mc_reduced(log_alpha, m=1e5):\n",
    "    kld, m = np.zeros_like(log_alpha), int(m)\n",
    "    for i, la in enumerate(tqdm.tqdm(log_alpha)):\n",
    "        eps = np.random.randn(m)\n",
    "        kld[i] = np.log(abs(eps + np.exp(-0.5 * la))).mean(axis=-1)\n",
    "    return -kld"
   ]
  },
  {
   "cell_type": "markdown",
   "metadata": {},
   "source": [
    "Suppose $q(z) = \\mathcal{CN}(\\theta, \\alpha \\lvert\\theta\\rvert^2, 0)$ and\n",
    "$p(z) \\propto \\lvert z\\rvert^{-\\beta}$. Each term in the sum\n",
    "$$\n",
    "\\begin{align}\n",
    "    KL(q\\|p)\n",
    "        &= \\mathbb{E}_{q(z)} \\log \\tfrac{q(z)}{p(z)}\n",
    "        = \\mathbb{E}_{q(z)} \\log q(z) - \\mathbb{E}_{q(z)} \\log p(z)\n",
    "%         \\\\\n",
    "%         &= - \\log \\bigl\\lvert \\pi e \\alpha \\lvert\\theta\\rvert^2 \\bigr\\rvert\n",
    "%         + \\beta \\mathbb{E}_{q(z)} \\log \\lvert z\\rvert\n",
    "%         + C\n",
    "%         \\\\\n",
    "%         &= - \\log \\pi e\n",
    "%         - \\log \\alpha \\lvert\\theta\\rvert^2\n",
    "%         + \\beta \\mathbb{E}_{\\varepsilon \\sim \\mathcal{CN}(1, \\alpha, 0)}\n",
    "%             \\log \\lvert \\theta \\rvert \\lvert \\varepsilon\\rvert\n",
    "%         + C\n",
    "%         \\\\\n",
    "%         &= - \\log \\pi e - \\log \\alpha\n",
    "%         + \\tfrac{\\beta - 2}2 \\log \\lvert \\theta \\rvert^2\n",
    "%         + \\beta \\mathbb{E}_{\\varepsilon \\sim \\mathcal{CN}(1, \\alpha, 0)}\n",
    "%             \\log \\lvert \\varepsilon\\rvert\n",
    "%         + C\n",
    "%         \\\\\n",
    "%         &= - \\log \\pi e - \\log \\alpha\n",
    "%         + \\tfrac{\\beta - 2}2 \\log \\lvert \\theta \\rvert^2\n",
    "%         + \\tfrac\\beta2 \\mathbb{E}_{z \\sim \\mathcal{CN}(0, \\alpha, 0)}\n",
    "%             \\log \\bigl\\lvert z + 1 \\bigr\\rvert^2\n",
    "%         + C\n",
    "        \\\\\n",
    "        &= - \\log \\pi e\n",
    "        + \\tfrac{\\beta - 2}2 \\log \\lvert \\theta \\rvert^2\n",
    "        + \\tfrac{\\beta-2}2 \\log\\alpha\n",
    "        + \\tfrac\\beta2 \\mathbb{E}_{z \\sim \\mathcal{CN}(0, 1, 0)}\n",
    "            \\log \\bigl\\lvert z + \\tfrac1{\\sqrt{\\alpha}} \\bigr\\rvert^2\n",
    "        + C\n",
    "        \\\\\n",
    "        &= - \\log \\pi e\n",
    "        + \\tfrac{\\beta - 2}2 \\log \\lvert \\theta \\rvert^2\n",
    "        + \\tfrac{\\beta - 2}2 \\log\\alpha\n",
    "        + \\tfrac\\beta2 \\mathbb{E}_{\\varepsilon \\sim \\mathcal{N}_2\\bigl(0, \\tfrac12 I\\bigr)}\n",
    "            \\log \\bigl((\\varepsilon_1 + \\tfrac1{\\sqrt{\\alpha}})^2 + \\varepsilon_2^2\\bigr)\n",
    "        + C\n",
    "\\end{align}\n",
    "\\,. $$"
   ]
  },
  {
   "cell_type": "markdown",
   "metadata": {},
   "source": [
    "Negative kl-div divergence for $\\mathbb{C}$ gaussian and $\\beta=2$:\n",
    "$$\n",
    "- KL(\\mathcal{N}^{\\mathbb{C}}(w\\mid \\theta, \\alpha \\lvert\\theta\\rvert^2, 0) \\|\n",
    "        \\tfrac1{\\lvert w \\rvert})\n",
    "    = \\log \\pi e\n",
    "    - \\mathbb{E}_{z \\sim \\mathcal{CN}(0, 1, 0)}\n",
    "        \\log \\bigl\\lvert z + \\tfrac1{\\sqrt{\\alpha}} \\bigr\\rvert^2\n",
    "    + C\n",
    "    \\,. $$"
   ]
  },
  {
   "cell_type": "code",
   "execution_count": null,
   "metadata": {},
   "outputs": [],
   "source": [
    "def kldiv_cplx_mc_reduced(log_alpha, m=1e5):\n",
    "    kld, m, isq2 = np.zeros_like(log_alpha), int(m), 1/np.sqrt(2)\n",
    "    for i, la in enumerate(tqdm.tqdm(log_alpha)):\n",
    "        eps = isq2 * np.random.randn(m) + 1j * isq2 * np.random.randn(m)\n",
    "        kld[i] = 2 * np.log(abs(eps + np.exp(-0.5 * la))).mean(axis=-1)\n",
    "    return -kld"
   ]
  },
  {
   "cell_type": "code",
   "execution_count": null,
   "metadata": {
    "scrolled": true
   },
   "outputs": [],
   "source": [
    "assert False, \"\"\"STOP!\"\"\"\n",
    "kld_real_2 = kldiv_real_mc_reduced(log_alpha, m=1e7)\n",
    "kld_cplx_2 = kldiv_cplx_mc_reduced(log_alpha, m=1e7)"
   ]
  },
  {
   "cell_type": "code",
   "execution_count": null,
   "metadata": {},
   "outputs": [],
   "source": [
    "fig = plt.figure(figsize=(12, 5))\n",
    "ax = fig.add_subplot(111, xlabel=r\"$\\log\\alpha$\", ylabel=\"-kld\")\n",
    "\n",
    "ax.plot(log_alpha, kl_real_mc, label=r\"$\\mathbb{R}$\")\n",
    "ax.plot(log_alpha, kld_real_2, label=r\"2-$\\mathbb{R}$\")"
   ]
  },
  {
   "cell_type": "code",
   "execution_count": null,
   "metadata": {},
   "outputs": [],
   "source": [
    "fig = plt.figure(figsize=(12, 5))\n",
    "ax = fig.add_subplot(111, xlabel=r\"$\\log\\alpha$\", ylabel=\"-kld\")\n",
    "\n",
    "ax.plot(log_alpha, kl_cplx_mc, label=r\"$\\mathbb{C}$\")\n",
    "ax.plot(log_alpha, kld_cplx_2, label=r\"2-$\\mathbb{C}$\")"
   ]
  },
  {
   "cell_type": "markdown",
   "metadata": {},
   "source": [
    "#### Exact kl-div grad for $\\mathbb{R}$-gaussian"
   ]
  },
  {
   "cell_type": "markdown",
   "metadata": {},
   "source": [
    "Turns out the expectation $\n",
    "  \\mathbb{E}_{z \\sim \\mathcal{N}(0, 1)}\n",
    "    \\log{\\bigl\\lvert z + \\tfrac1{\\sqrt{\\alpha}} \\bigr\\rvert^2}\n",
    "$ is equal to $\n",
    "  - \\gamma - \\log2 + g_1(\\tfrac1\\alpha)\n",
    "$\n",
    "\n",
    "where\n",
    "\n",
    "$$\n",
    "g_m(x)\n",
    "% e^{-x} \\sum_{n=0}^{\\infty} \\frac{x^n}{n!} \\psi(n + m / 2)\n",
    "    = e^{-x} \\sum_{n \\geq 0} \\frac{x^n}{n!} \\psi(n + \\tfrac{m}2)\n",
    "    \\,, $$\n",
    "\n",
    "and $\\psi(x)$ is the digamma function, i.e. $\\psi(x) = \\tfrac{d}{dx} \\Gamma(x)$.\n",
    "In particular,\n",
    "\n",
    "$$\n",
    "g_1(x)\n",
    "    = e^{-x} \\sum_{n\\geq 0} \\frac{x^n}{n!} \\sum_{p=1}^n \\frac2{2p - 1}\n",
    "    \\,. $$"
   ]
  },
  {
   "cell_type": "markdown",
   "metadata": {},
   "source": [
    "For a general $m\\geq 1$ the value of $g$ is given by\n",
    "$$\n",
    "g(x) = \\psi(\\tfrac{m}2) - {{}_1 F_1}\\bigl(0, \\tfrac{m}2, -x\\bigr)\n",
    "    \\,. $$"
   ]
  },
  {
   "cell_type": "markdown",
   "metadata": {},
   "source": [
    "The derivative wrt $\\alpha$ is \n",
    "$$\n",
    "\\tfrac{d}{d \\alpha} g(\\tfrac1\\alpha)\n",
    "    = -\\tfrac1{\\alpha^2} \n",
    "    g'(\\tfrac1\\alpha)\n",
    "    \\,. $$"
   ]
  },
  {
   "cell_type": "markdown",
   "metadata": {},
   "source": [
    "Elementwise differentiation of $g$ yields:\n",
    "$$\n",
    "\\frac{d}{d x} g(x)\n",
    "    = e^{-x} \\sum_{n\\geq 1} \\frac{x^{n-1}}{(n-1)!} \\sum_{p=1}^n \\frac2{2p - 1} - g(x)\n",
    "%     = e^{-x} \\sum_{n\\geq 0} \\frac{x^n}{n!} \\sum_{p=1}^{n+1} \\frac2{2p - 1} - g(x)\n",
    "%     = e^{-x} \\sum_{n\\geq 0} \\frac{x^n}{n!} \\frac2{2(n+1) - 1}\n",
    "    = e^{-x} \\sum_{n\\geq 0} \\frac{x^n}{n!} (n + \\tfrac12)^{-1}\n",
    "    \\,. $$"
   ]
  },
  {
   "cell_type": "code",
   "execution_count": null,
   "metadata": {},
   "outputs": [],
   "source": [
    "from scipy.special import hyp1f1, digamma"
   ]
  },
  {
   "cell_type": "code",
   "execution_count": null,
   "metadata": {},
   "outputs": [],
   "source": [
    "digamma(0.5) - hyp1f1(0, 0.5, -x)"
   ]
  },
  {
   "cell_type": "markdown",
   "metadata": {},
   "source": [
    "Which turns out to be equal to (thanks Wolfram$\\alpha$):\n",
    "\n",
    "$$\n",
    "\\cdots\n",
    "%     = e^{-x} \\sum_{n=0}^{\\infty} \\frac{x^n}{n! (n+0.5)}\n",
    "    = e^{-x} \\sqrt{\\pi} \\tfrac{\n",
    "        \\mathrm{erfi}(\\sqrt{x})\n",
    "    }{\\sqrt{x}}\n",
    "    \\,, $$\n",
    "\n",
    "and can be computed using Dawson’s integral special function (in `scipy`) thus\n",
    "\n",
    "$$\n",
    "\\cdots\n",
    "    = 2 \\tfrac{F(\\sqrt{x})}{\\sqrt{x}}\n",
    "    \\,, $$\n",
    "\n",
    "where $F$ is Dawson’s integral $\n",
    "    F(x) = e^{- x^2} \\int_0^x e^{t^2} dt\n",
    "$. Hence\n",
    "$$\n",
    "\\tfrac{d}{d \\alpha} g(\\tfrac1\\alpha)\n",
    "    = -\\tfrac2{\\alpha \\sqrt{\\alpha}} \n",
    "    F(\\tfrac1{\\sqrt{\\alpha}})\n",
    "    \\,. $$"
   ]
  },
  {
   "cell_type": "code",
   "execution_count": null,
   "metadata": {},
   "outputs": [],
   "source": [
    "from scipy.special import dawsn\n",
    "\n",
    "def deriv(log_alpha):\n",
    "    return dawsn(np.exp(- 0.5 * log_alpha)) * np.exp(- 0.5 * log_alpha)"
   ]
  },
  {
   "cell_type": "code",
   "execution_count": null,
   "metadata": {},
   "outputs": [],
   "source": [
    "class ExpiFunction(torch.autograd.Function):\n",
    "    @staticmethod\n",
    "    def forward(ctx, x):\n",
    "        ctx.save_for_backward(x)\n",
    "\n",
    "        x_cpu = x.data.cpu().numpy()\n",
    "        output = expi(x_cpu, dtype=x_cpu.dtype)\n",
    "        return torch.from_numpy(output).to(x.device)\n",
    "\n",
    "    @staticmethod\n",
    "    def backward(ctx, grad_output):\n",
    "        x = ctx.saved_tensors[-1]\n",
    "        return grad_output * torch.exp(x) / x\n",
    "\n",
    "torch_expi = ExpiFunction.apply\n",
    "\n",
    "input = torch.randn(20, 20).to(torch.double)\n",
    "assert torch.autograd.gradcheck(torch_expi, input.requires_grad_(True))"
   ]
  },
  {
   "cell_type": "code",
   "execution_count": null,
   "metadata": {},
   "outputs": [],
   "source": [
    "plt.plot(mid_log_alpha, np.diff(kl_real_mc) / d_log, label=r\"$\\partial \\mathbb{R}$-approx\")\n",
    "plt.plot(log_alpha, deriv(log_alpha))"
   ]
  },
  {
   "cell_type": "code",
   "execution_count": null,
   "metadata": {},
   "outputs": [],
   "source": [
    "from scipy.special import erf, expit\n",
    "\n",
    "x = np.linspace(-10, 10, num=513)\n",
    "plt.plot(x, 1 - expit(x))\n",
    "plt.plot(x, 1 - (erf(x) + 1) / 2)"
   ]
  },
  {
   "cell_type": "markdown",
   "metadata": {},
   "source": [
    "<br>"
   ]
  },
  {
   "cell_type": "markdown",
   "metadata": {},
   "source": [
    "### Output of a random complex-linear function"
   ]
  },
  {
   "cell_type": "markdown",
   "metadata": {},
   "source": [
    "Consider $y = Wx = (I \\otimes x^\\top) \\mathop{vec}(W)$ for\n",
    "$$\n",
    "    \\mathop{vec}(W) \\sim \\mathcal{CN}_{[d_1\\times d_0]}\n",
    "        \\Bigl(\\mathop{vec} \\theta, K, C\\Bigr)\n",
    "    \\,, $$\n",
    "for $K \\in \\mathbb{C}^{[d_1\\times d_0]\\times [d_1\\times d_0]}$ diagonal $K = \\mathop{diag}(k_\\omega)$.\n",
    "\n",
    "Since $K = K^H$ we must have $k_\\omega = \\overline{k_\\omega}$, whence $k_\\omega \\in \\mathbb{R}$\n",
    "and $k_\\omega \\geq 0$. The relation matrix $C$ is also diagonal with $c_\\omega \\in \\mathbb{C}$."
   ]
  },
  {
   "cell_type": "markdown",
   "metadata": {},
   "source": [
    "Observe that for $A = I \\otimes x^\\top$ we have $A^H = I \\otimes \\bar{x}$\n",
    "and $A^\\top = I \\otimes x$ both $[d_1\\times d_0]\\times [d_1\\times 1]$ matrices.\n",
    "$$\n",
    "    A K A^H\n",
    "        = \\sum_{i=1}^{d_1} \\sum_{j=1}^{d_0}\n",
    "            A (e_i \\otimes e_j) k_{ij} (e_i \\otimes e_j)^\\top A^H\n",
    "        = \\sum_{i=1}^{d_1} \\sum_{j=1}^{d_0} e_i e_i^\\top x_j k_{ij} \\bar{x}_j\n",
    "        = \\sum_{i=1}^{d_1} e_i e_i^\\top \\Bigl\\{ \\sum_{j=1}^{d_0} k_{ij} x_j \\bar{x}_j \\Bigr\\}\n",
    "    \\,, $$\n",
    "and\n",
    "$$\n",
    "    A C A^\\top\n",
    "        = \\sum_{i=1}^{d_1} \\sum_{j=1}^{d_0}\n",
    "            A (e_i \\otimes e_j) c_{ij} (e_i \\otimes e_j)^\\top A^\\top\n",
    "        = \\sum_{i=1}^{d_1} \\sum_{j=1}^{d_0} e_i e_i^\\top x_j c_{ij} x_j\n",
    "        = \\sum_{i=1}^{d_1} e_i e_i^\\top \\Bigl\\{ \\sum_{j=1}^{d_0} c_{ij} x_j x_j \\Bigr\\}\n",
    "    \\,, $$"
   ]
  },
  {
   "cell_type": "markdown",
   "metadata": {},
   "source": [
    "Therefore\n",
    "$$\n",
    "    y \\sim \\mathcal{CN}_{d_1}\\Bigl(\n",
    "        \\theta x, \\sum_{i=1}^{d_1} e_i e_i^\\top \\Bigl\\{ \\sum_{j=1}^{d_0} k_{ij} x_j \\bar{x}_j \\Bigr\\},\n",
    "        \\sum_{i=1}^{d_1} e_i e_i^\\top \\Bigl\\{ \\sum_{j=1}^{d_0} c_{ij} x_j x_j \\Bigr\\}\n",
    "    \\Bigr)\n",
    "    = \\bigotimes_{i=1}^{d_1}\n",
    "        \\mathcal{CN}\\Bigl(\n",
    "            \\sum_{j=1}^{d_0} \\theta_{ij} x_j,\n",
    "            \\sum_{j=1}^{d_0} k_{ij} x_j \\bar{x}_j,\n",
    "            \\sum_{j=1}^{d_0} c_{ij} x_j x_j\n",
    "        \\Bigr)\n",
    "    \\,. $$"
   ]
  },
  {
   "cell_type": "markdown",
   "metadata": {},
   "source": [
    "Let's suppose that the complex random vector $\\mathop{vec}W$ is proper, i.e. $C = 0$.\n",
    "Then $y$ is itself proper, has independent components and\n",
    "$$\n",
    "    y_i \\sim \\mathcal{CN}\\Bigl(\n",
    "            \\sum_{j=1}^{d_0} \\theta_{ij} x_j,\n",
    "            \\sum_{j=1}^{d_0} k_{ij} \\lvert x_j \\rvert^2, 0\n",
    "        \\Bigr)\n",
    "    \\,. $$\n",
    "In a form, more aligned with `the reparametrization trick`, the expression for the\n",
    "output is\n",
    "$$\n",
    "    y_i\n",
    "        = \\sum_{j=1}^{d_0} \\theta_{ij} x_j\n",
    "        + \\sqrt{\\sum_{j=1}^{d_0} k_{ij} \\lvert x_j \\rvert^2}\n",
    "            \\varepsilon_i\n",
    "    \\,,\n",
    "    \\varepsilon_i \\sim \\mathcal{CN}\\Bigl(\n",
    "            0, 1, 0\n",
    "        \\Bigr)\n",
    "    \\,. $$"
   ]
  },
  {
   "cell_type": "markdown",
   "metadata": {},
   "source": [
    "Observe that if $z \\sim \\mathcal{CN}(\\mu, \\gamma, 0)$ for $\\gamma \\in \\mathbb{C}$, then\n",
    "$\\gamma = \\gamma^H = \\bar{\\gamma}$, $\\gamma\\in \\mathbb{R}$ and $\\gamma \\geq 0$:\n",
    "$$\n",
    "    \\begin{pmatrix}\\Re z \\\\ \\Im z\\end{pmatrix}\n",
    "    = \\begin{pmatrix}\\Re \\mu \\\\ \\Im \\mu \\end{pmatrix}\n",
    "    + \\sqrt{\\gamma} \\varepsilon\n",
    "    \\,,\n",
    "        \\varepsilon \\sim \\mathcal{N}_{2} \\bigl( 0, \\tfrac12 I\\bigr)\n",
    "    \\,,\n",
    "$$"
   ]
  },
  {
   "cell_type": "markdown",
   "metadata": {},
   "source": [
    "The reparametrization $z_\\omega = \\theta_\\omega \\varepsilon_\\omega$ for\n",
    "$\\varepsilon_\\omega \\sim \\mathcal{CN}(1, \\alpha_\\omega, 0)$.\n",
    "\n",
    "$$\n",
    "    z_\\omega\n",
    "        = \\theta_\\omega \\varepsilon_\\omega\n",
    "    \\,,\n",
    "    \\varepsilon_\\omega\n",
    "        \\sim \\mathcal{CN}(1, \\alpha_\\omega, 0)\n",
    "    \\Leftrightarrow\n",
    "    z_\\omega\n",
    "        \\sim \\mathcal{CN}(\\theta_\\omega, \\alpha_\\omega \\lvert \\theta_\\omega\\rvert^2, 0)\n",
    "    \\Leftrightarrow\n",
    "    z_\\omega\n",
    "        = \\theta_\\omega + \\sigma_\\omega \\varepsilon_\\omega\n",
    "    \\,, \\sigma_\\omega^2\n",
    "        = \\alpha_\\omega \\lvert \\theta_\\omega\\rvert^2\n",
    "    \\,,\n",
    "    \\varepsilon_\\omega\n",
    "        \\sim \\mathcal{CN}(0, 1, 0)\n",
    "    \\,. $$"
   ]
  },
  {
   "cell_type": "markdown",
   "metadata": {},
   "source": [
    "<br>"
   ]
  },
  {
   "cell_type": "code",
   "execution_count": null,
   "metadata": {},
   "outputs": [],
   "source": [
    "# !pip install git+https://github.com/ivannz/cplxmodule.git --upgrade"
   ]
  },
  {
   "cell_type": "code",
   "execution_count": null,
   "metadata": {},
   "outputs": [],
   "source": [
    "import torch.nn\n",
    "import torch.nn.functional as F"
   ]
  },
  {
   "cell_type": "code",
   "execution_count": null,
   "metadata": {},
   "outputs": [],
   "source": [
    "x = np.random.randn(100, 10) + 1j * np.random.randn(100, 10)"
   ]
  },
  {
   "cell_type": "code",
   "execution_count": null,
   "metadata": {},
   "outputs": [],
   "source": [
    "tr_x = torch.tensor(np.concatenate([x.real, x.imag], axis=-1),\n",
    "                    dtype=torch.float32)"
   ]
  },
  {
   "cell_type": "code",
   "execution_count": null,
   "metadata": {},
   "outputs": [],
   "source": [
    "from cplxmodule.layers import CplxLinear\n",
    "from automated.vardropout import CplxLinearARD"
   ]
  },
  {
   "cell_type": "code",
   "execution_count": null,
   "metadata": {},
   "outputs": [],
   "source": [
    "lin_a = torch.nn.Sequential(\n",
    "    RealToCplx(),\n",
    "    CplxLinearARD(x.shape[-1], 100, bias=True),\n",
    "    CplxToReal()\n",
    ")\n",
    "\n",
    "lin_b = torch.nn.Sequential(\n",
    "    RealToCplx(),\n",
    "    CplxLinear(x.shape[-1], 100, bias=True),\n",
    "    CplxToReal()\n",
    ")\n",
    "\n",
    "lin_a.load_state_dict(lin_b.state_dict(), strict=False)"
   ]
  },
  {
   "cell_type": "code",
   "execution_count": null,
   "metadata": {},
   "outputs": [],
   "source": [
    "lin_a.eval()"
   ]
  },
  {
   "cell_type": "code",
   "execution_count": null,
   "metadata": {},
   "outputs": [],
   "source": [
    "from automated.utils import allclose\n",
    "\n",
    "assert all(map(allclose, lin_a(tr_x), lin_b(tr_x)))"
   ]
  },
  {
   "cell_type": "code",
   "execution_count": null,
   "metadata": {},
   "outputs": [],
   "source": [
    "from automated.vardropout import penalties\n",
    "from cplxmodule import CplxToReal, RealToCplx"
   ]
  },
  {
   "cell_type": "code",
   "execution_count": null,
   "metadata": {},
   "outputs": [],
   "source": [
    "from cplxmodule.activation import CplxModReLU"
   ]
  },
  {
   "cell_type": "code",
   "execution_count": null,
   "metadata": {},
   "outputs": [],
   "source": [
    "model = torch.nn.Sequential(\n",
    "    RealToCplx(),\n",
    "    CplxLinearARD(10, 100),\n",
    "    CplxModReLU(threshold=None),\n",
    "    CplxLinearARD(100, 10),\n",
    "    CplxToReal()\n",
    ")"
   ]
  },
  {
   "cell_type": "markdown",
   "metadata": {},
   "source": [
    "<br>"
   ]
  },
  {
   "cell_type": "code",
   "execution_count": null,
   "metadata": {},
   "outputs": [],
   "source": [
    "optim = torch.optim.Adam(model.parameters())\n",
    "for _ in tqdm.tqdm(range(400)):\n",
    "    optim.zero_grad()\n",
    "\n",
    "    out = F.mse_loss(tr_x, model(tr_x))\n",
    "    out += sum(penalties(model))\n",
    "\n",
    "    out.backward()\n",
    "    optim.step()"
   ]
  },
  {
   "cell_type": "code",
   "execution_count": null,
   "metadata": {},
   "outputs": [],
   "source": [
    "from automated.vardropout import sparsity, make_sparse"
   ]
  },
  {
   "cell_type": "code",
   "execution_count": null,
   "metadata": {},
   "outputs": [],
   "source": [
    "sparsity(model, 1.0)"
   ]
  },
  {
   "cell_type": "code",
   "execution_count": null,
   "metadata": {},
   "outputs": [],
   "source": [
    "sp_model.eval()"
   ]
  },
  {
   "cell_type": "code",
   "execution_count": null,
   "metadata": {},
   "outputs": [],
   "source": [
    "sp_model = make_sparse(model, 1.0, kind=\"sparse\")"
   ]
  },
  {
   "cell_type": "code",
   "execution_count": null,
   "metadata": {},
   "outputs": [],
   "source": [
    "sp_model[2].threshold"
   ]
  },
  {
   "cell_type": "code",
   "execution_count": null,
   "metadata": {},
   "outputs": [],
   "source": [
    "sp_model(tr_x)"
   ]
  },
  {
   "cell_type": "code",
   "execution_count": null,
   "metadata": {},
   "outputs": [],
   "source": []
  },
  {
   "cell_type": "code",
   "execution_count": null,
   "metadata": {},
   "outputs": [],
   "source": [
    "import torch\n",
    "import torch.nn.functional as F\n",
    "\n",
    "tr_kl_cplx_mc = torch.from_numpy(kl_cplx_mc)\n",
    "tr_kl_real_mc = torch.from_numpy(kl_real_mc)\n",
    "tr_log_alpha = torch.from_numpy(log_alpha)\n",
    "\n",
    "def fused_mse_real(k):\n",
    "    tr_k = torch.from_numpy(k).requires_grad_(True)\n",
    "\n",
    "    k1, k2, k3 = tr_k\n",
    "    sigmoid = torch.sigmoid(k2 + k3 * tr_log_alpha)\n",
    "    softplus = - 0.5 * F.softplus(- tr_log_alpha)\n",
    "\n",
    "    approx = k1 * sigmoid + softplus\n",
    "\n",
    "    loss = F.mse_loss(approx, tr_kl_real_mc, reduction=\"mean\")\n",
    "    loss.backward()\n",
    "\n",
    "    return loss.item(), tr_k.grad.numpy()\n",
    "\n",
    "def fused_mse_cplx(k):\n",
    "    tr_k = torch.from_numpy(k).requires_grad_(True)\n",
    "\n",
    "    k1, k2, k3 = tr_k\n",
    "    sigmoid = torch.sigmoid(k2 + k3 * tr_log_alpha)\n",
    "    # errf = (torch.erf(k2 + k3 * tr_log_alpha) + 1) / 2  # erf - suxx!\n",
    "    softplus = - F.softplus(- tr_log_alpha)\n",
    "\n",
    "    approx = k1 * sigmoid + softplus\n",
    "\n",
    "    loss = F.mse_loss(approx, tr_kl_cplx_mc, reduction=\"mean\")\n",
    "    loss.backward()\n",
    "    \n",
    "    return loss.item(), tr_k.grad.numpy()"
   ]
  },
  {
   "cell_type": "code",
   "execution_count": null,
   "metadata": {},
   "outputs": [],
   "source": [
    "from scipy.special import expit\n",
    "\n",
    "def kldiv_real_approx(log_alpha, k):\n",
    "    k1, k2, k3 = k\n",
    "    C = 0  # -k1\n",
    "\n",
    "    sigmoid = expit(k2 + k3 * log_alpha)\n",
    "    softplus = - 0.5 * np.logaddexp(0, -log_alpha)\n",
    "    return k1 * sigmoid + softplus + C\n",
    "\n",
    "def kldiv_cplx_approx(log_alpha, k):\n",
    "    k1, k2, k3 = k\n",
    "    C = 0  # -k1\n",
    "\n",
    "    sigmoid = expit(k2 + k3 * log_alpha)\n",
    "    softplus = - np.logaddexp(0, -log_alpha)\n",
    "    return k1 * sigmoid + softplus + C"
   ]
  },
  {
   "cell_type": "code",
   "execution_count": null,
   "metadata": {},
   "outputs": [],
   "source": [
    "assert False"
   ]
  },
  {
   "cell_type": "markdown",
   "metadata": {},
   "source": [
    "<br>"
   ]
  },
  {
   "cell_type": "markdown",
   "metadata": {},
   "source": [
    "# trunk"
   ]
  },
  {
   "cell_type": "markdown",
   "metadata": {},
   "source": [
    "A complex Gaussian random vector $z\\in \\mathbb{C}^d$ is completely determiend by the\n",
    "distribution of $\\begin{pmatrix}\\Re z \\\\ \\Im z\\end{pmatrix} \\in \\mathbb{R}^{[2\\times d]}$\n",
    "or equivalently a $\\mathbb{C}^{[2\\times d]}$ vector:\n",
    "$$\n",
    "    \\begin{pmatrix}z \\\\ \\bar{z} \\end{pmatrix}\n",
    "        = \\underbrace{\\begin{pmatrix}I & iI \\\\ I & -iI \\end{pmatrix}}_{\\Xi}\n",
    "        \\begin{pmatrix}\\Re z \\\\ \\Im z\\end{pmatrix}\n",
    "    \\,. $$\n",
    "For a rv $z$ this vector is called the augmented $z$ vector."
   ]
  },
  {
   "cell_type": "markdown",
   "metadata": {},
   "source": [
    "Now the transjugation (Hermitian transpose) of $\\Xi$ is \n",
    "$$\n",
    "    \\Xi^H\n",
    "        = \\begin{pmatrix}I & I \\\\ -iI & iI \\end{pmatrix}\n",
    "    \\,, $$\n",
    "and $ \\Xi^H \\Xi = \\Xi \\Xi^H = \\begin{pmatrix} 2I & 0 \\\\ 0 & 2I \\end{pmatrix}$.\n",
    "Therefore, $\\Xi^{-H} = \\tfrac12 \\Xi$ and $\\Xi^{-1} = \\tfrac12 \\Xi^H$.\n",
    "Thus\n",
    "$$\n",
    "    \\begin{pmatrix}\\Re z \\\\ \\Im z\\end{pmatrix}\n",
    "        = \\Xi^{-1} \\begin{pmatrix}z \\\\ \\bar{z} \\end{pmatrix}\n",
    "        = \\tfrac12 \\Xi^H \\begin{pmatrix}z \\\\ \\bar{z} \\end{pmatrix}\n",
    "    \\,. $$"
   ]
  },
  {
   "cell_type": "markdown",
   "metadata": {},
   "source": [
    "Consider the complex covariance of the augmented $z$:\n",
    "$$\n",
    "    \\mathbb{E}\n",
    "        \\begin{pmatrix}z \\\\ \\bar{z} \\end{pmatrix}\n",
    "        \\begin{pmatrix}z \\\\ \\bar{z} \\end{pmatrix}^H\n",
    "        = \\begin{pmatrix}\n",
    "            \\mathbb{E} z \\bar{z}^\\top & \\mathbb{E} z z^\\top \\\\\n",
    "            \\mathbb{E} \\bar{z} \\bar{z}^\\top & \\mathbb{E} \\bar{z} z^\\top\n",
    "        \\end{pmatrix}\n",
    "        = \\begin{pmatrix} K & C \\\\ \\bar{C} & \\bar{K} \\end{pmatrix}\n",
    "    \\,, $$\n",
    "since effectively $z^H = (\\bar{z})^\\top = \\overline{\\bigl(z^\\top\\bigr)}$.\n",
    "\n",
    "Since $$\n",
    "    \\bigl(z z^\\top\\bigr)^H\n",
    "        = \\overline{\\bigl(z z^\\top\\bigr)}^\\top\n",
    "        = \\bigl(\\bar{z} \\bar{z}^\\top\\bigr)^\\top\n",
    "        = \\bar{z}^{\\top\\top} \\bar{z}^\\top\n",
    "        = \\bar{z} \\bar{z}^\\top\n",
    "    \\,, $$\n",
    "we have $\\bar{C} = C^H$. This implies the following constraints on $K$ (the\n",
    "covariance) and $C$ (the pseudo-covariance): $K \\succeq 0$, $K = K^H$ and\n",
    "$C=C^\\top$."
   ]
  },
  {
   "cell_type": "markdown",
   "metadata": {},
   "source": [
    "This complex covariance matrix corresponds to the following real-vector covariance:\n",
    "$$\n",
    "    \\mathbb{E}\n",
    "        \\begin{pmatrix}\\Re z \\\\ \\Im z\\end{pmatrix}\n",
    "        \\begin{pmatrix}\\Re z \\\\ \\Im z\\end{pmatrix}^\\top\n",
    "        = \\mathbb{E}\n",
    "            \\begin{pmatrix}\\Re z \\\\ \\Im z\\end{pmatrix}\n",
    "            \\begin{pmatrix}\\Re z \\\\ \\Im z\\end{pmatrix}^H\n",
    "        = \\Xi^{-1}\n",
    "            \\begin{pmatrix} K & C \\\\ \\bar{C} & \\bar{K} \\end{pmatrix}\n",
    "        \\Xi^{-H}\n",
    "        = \\tfrac14 \\Xi^H \\begin{pmatrix}\n",
    "            K & C \\\\ \\bar{C} & \\bar{K}\n",
    "        \\end{pmatrix} \\Xi  % \\begin{pmatrix}I & iI \\\\ I & -iI \\end{pmatrix}\n",
    "%         = \\tfrac14 \\begin{pmatrix}I & I \\\\ -iI & iI \\end{pmatrix}\n",
    "%         \\begin{pmatrix}\n",
    "%             K + C & i (K - C) \\\\ \\bar{C} + \\bar{K} & i(\\bar{C} - \\bar{K})\n",
    "%         \\end{pmatrix}\n",
    "%         = \\tfrac14 \\begin{pmatrix}\n",
    "%              K + \\bar{K} + C + \\bar{C}\n",
    "%                  & i (K - \\bar{K} - (C - \\bar{C}))\n",
    "%                      \\\\\n",
    "%              - i (K - \\bar{K} + C - \\bar{C})\n",
    "%                  & K + \\bar{K} - (C + \\bar{C})\n",
    "%         \\end{pmatrix}\n",
    "        = \\tfrac12 \\begin{pmatrix}\n",
    "             \\Re (K + C) & - \\Im (K - C) \\\\\n",
    "             \\Im (K + C) & \\Re (K - C)\n",
    "        \\end{pmatrix}\n",
    "        = \\tfrac12 \\begin{pmatrix}\n",
    "             \\Re (K + C) & \\Im (\\overline{K - C}) \\\\\n",
    "             \\Im (K + C) & \\Re (\\overline{K - C})\n",
    "        \\end{pmatrix}\n",
    "    \\,, $$\n",
    "since $- \\Im z = \\Im \\bar{z}$ and $\\Re z = \\Re \\bar{z}$."
   ]
  },
  {
   "cell_type": "markdown",
   "metadata": {},
   "source": [
    "$$ \\Im (K+C)^\\top\n",
    "    = \\Im (K^\\top+C^\\top)\n",
    "    = \\Im (\\bar{K} + C)\n",
    "    = \\Im \\bar{K} + \\Im C\n",
    "    = -\\Im K + \\Im C\n",
    "    = -\\Im (K - C)\n",
    "    \\,. $$"
   ]
  },
  {
   "cell_type": "markdown",
   "metadata": {},
   "source": [
    "$$ \\Re (K-C)^\\top\n",
    "    = \\Re (K^\\top - C^\\top)\n",
    "    = \\Re (\\bar{K} - C)\n",
    "    = \\Re \\bar{K} - \\Re C\n",
    "    = \\Re K - \\Re C\n",
    "    = \\Re (K - C)\n",
    "    \\,. $$"
   ]
  },
  {
   "cell_type": "markdown",
   "metadata": {},
   "source": [
    "<br>"
   ]
  },
  {
   "cell_type": "markdown",
   "metadata": {},
   "source": [
    "<span style=\"color:red;\">**TODO**</span>\n",
    "Futhermore, the whole matrix must be complex positive semi-definite.\n",
    "$$\n",
    "    \\begin{pmatrix}a \\\\ b \\end{pmatrix}^\\top\n",
    "        \\begin{pmatrix}\n",
    "             \\Re (K + C) & - \\Im (K - C) \\\\\n",
    "             \\Im (K + C) & \\Re (K - C)\n",
    "        \\end{pmatrix}\n",
    "    \\begin{pmatrix}a \\\\ b \\end{pmatrix}\n",
    "        = \\tfrac14 \\begin{pmatrix}a \\\\ b \\end{pmatrix}^H \\Xi^H\n",
    "            \\begin{pmatrix}\n",
    "                K & C \\\\ \\bar{C} & \\bar{K}\n",
    "            \\end{pmatrix}\n",
    "        \\Xi \\begin{pmatrix}a \\\\ b \\end{pmatrix}\n",
    "        = \\tfrac14 \\begin{pmatrix}a + i b \\\\ a - i b \\end{pmatrix}^H\n",
    "            \\begin{pmatrix}\n",
    "                K & C \\\\ \\bar{C} & \\bar{K}\n",
    "            \\end{pmatrix}\n",
    "        \\begin{pmatrix}a + i b \\\\ a - i b \\end{pmatrix}\n",
    "        = \\tfrac14 \\begin{pmatrix}z \\\\ \\bar{z} \\end{pmatrix}^H\n",
    "            \\begin{pmatrix}\n",
    "                K & C \\\\ \\bar{C} & \\bar{K}\n",
    "            \\end{pmatrix}\n",
    "        \\begin{pmatrix}z \\\\ \\bar{z} \\end{pmatrix}\n",
    "%         = \\tfrac14 \\begin{pmatrix}z \\\\ \\bar{z} \\end{pmatrix}^H\n",
    "%             \\begin{pmatrix}\n",
    "%                 K z + C \\bar{z} \\\\ \\bar{C} z + \\bar{K} \\bar{z}\n",
    "%             \\end{pmatrix}\n",
    "%         = \\tfrac14 \\bigl(\n",
    "%                 z^H K z + z^H C \\bar{z} + \\bar{z}^H \\bar{C} z + \\bar{z}^H \\bar{K} \\bar{z}\n",
    "%         \\bigr)\n",
    "        = \\tfrac14 \\bigl(\n",
    "                z^H K z + z^H C \\bar{z} + \\overline{z^H C \\bar{z}} + \\overline{z^H K z}\n",
    "        \\bigr)\n",
    "        = \\tfrac12 \\Re (z^H K z) + \\tfrac12 \\Re (z^H C \\bar{z})\n",
    "    \\,. $$"
   ]
  },
  {
   "cell_type": "markdown",
   "metadata": {},
   "source": [
    "<br>"
   ]
  },
  {
   "cell_type": "markdown",
   "metadata": {},
   "source": [
    "Let $A$ and $B$ be conforming $\\mathbb{C}$-valued matrices. Let\n",
    "$$\n",
    "    \\hat{\\cdot}\n",
    "    \\colon \\mathbb{C}^{n \\times m} \\to \\mathbb{R}^{2n \\times 2m}\n",
    "    \\colon A \\mapsto \\begin{pmatrix}\n",
    "            \\Re A & - \\Im A \\\\\n",
    "            \\Im A & \\Re A \\\\\n",
    "        \\end{pmatrix}\n",
    "    \\,. $$\n",
    "$$\n",
    "\\begin{align}\n",
    "    AB = \\Re A \\Re B - \\Im A \\Im B + i (\\Re A \\Im B + \\Im A \\Re B)\n",
    "    &\\Leftrightarrow\n",
    "        \\begin{pmatrix}\n",
    "            \\Re A & - \\Im A \\\\\n",
    "            \\Im A & \\Re A \\\\\n",
    "        \\end{pmatrix}\n",
    "        \\begin{pmatrix}\n",
    "            \\Re B & - \\Im B \\\\\n",
    "            \\Im B & \\Re B \\\\\n",
    "        \\end{pmatrix}\n",
    "        = \\begin{pmatrix}\n",
    "            \\Re A \\Re B - \\Im A \\Im B & - (\\Re A \\Im B + \\Im A \\Re B) \\\\\n",
    "            \\Im A \\Re B + \\Re A \\Im B & \\Re A \\Re B - \\Im A \\Im B\\\\\n",
    "        \\end{pmatrix}\n",
    "        \\,, \\\\\n",
    "    \\widehat{AB} &= \\hat{A} \\hat{B}\n",
    "        \\,, \\\\\n",
    "    \\widehat{A^H} &= \\hat{A}^\\top\n",
    "        \\,, \\\\\n",
    "    I_{2n}\n",
    "        = \\widehat{I}\n",
    "        = \\widehat{A A^{-1}}\n",
    "        = \\hat{A} \\widehat{A^{-1}}\n",
    "        &\\Rightarrow\n",
    "        \\widehat{A^{-1}} = (\\hat{A})^{-1}\n",
    "        \\,, \\\\\n",
    "    \\det \\hat{A}\n",
    "        = \\det \\begin{pmatrix}\n",
    "            I & i I \\\\\n",
    "            0 & I \\\\\n",
    "        \\end{pmatrix}\n",
    "        \\begin{pmatrix}\n",
    "            \\Re A & - \\Im A \\\\\n",
    "            \\Im A & \\Re A \\\\\n",
    "        \\end{pmatrix}\n",
    "        \\begin{pmatrix}\n",
    "            I & - i I \\\\\n",
    "            0 & I \\\\\n",
    "        \\end{pmatrix}\n",
    "%         = \\det \\begin{pmatrix}\n",
    "%             \\Re A + i \\Im A & - \\Im A + i \\Re A \\\\\n",
    "%             \\Im A & \\Re A \\\\\n",
    "%         \\end{pmatrix}\n",
    "%         \\begin{pmatrix}\n",
    "%             I & - i I \\\\\n",
    "%             0 & I \\\\\n",
    "%         \\end{pmatrix}\n",
    "        &= \\det \\begin{pmatrix}\n",
    "            A & i A \\\\\n",
    "            \\Im A & \\Re A \\\\\n",
    "        \\end{pmatrix}\n",
    "        \\begin{pmatrix}\n",
    "            I & - i I \\\\\n",
    "            0 & I \\\\\n",
    "        \\end{pmatrix}\n",
    "        = \\det \\begin{pmatrix}\n",
    "            A & 0 \\\\\n",
    "            \\Im A & \\bar{A} \\\\\n",
    "        \\end{pmatrix}\n",
    "        = \\det A \\det \\bar{A}\n",
    "        = \\det A \\overline{\\det A}\n",
    "        \\,.\n",
    "\\end{align}\n",
    "$$"
   ]
  },
  {
   "cell_type": "markdown",
   "metadata": {},
   "source": [
    "On vectors the hat-operator works by treating vectors as one-column matrices.\n",
    "$$\n",
    "    \\widehat{u^H v}\n",
    "        = \\widehat{u^H} \\hat{v}\n",
    "        = \\hat{u}^\\top \\hat{v}\n",
    "        = \\begin{pmatrix}\n",
    "            \\Re u^\\top & \\Im u^\\top \\\\\n",
    "            - \\Im u^\\top & \\Re u^\\top\n",
    "        \\end{pmatrix} \\begin{pmatrix}\n",
    "            \\Re v & - \\Im v \\\\\n",
    "            \\Im v & \\Re v\n",
    "        \\end{pmatrix}\n",
    "        = \\begin{pmatrix}\n",
    "            \\Re u^\\top \\Re v + \\Im u^\\top \\Im v\n",
    "                & - (\\Re u^\\top \\Im v - \\Im u^\\top \\Re v) \\\\\n",
    "            \\Re u^\\top \\Im v - \\Im u^\\top \\Re v\n",
    "                & \\Im u^\\top \\Im v + \\Re u^\\top \\Re v\n",
    "        \\end{pmatrix}\n",
    "    \\,. $$"
   ]
  },
  {
   "cell_type": "markdown",
   "metadata": {},
   "source": [
    "If $Q\\in \\mathbb{C}^{n\\times n}$ is postive semidefinite, then $z^H Q z \\geq 0$ for all $z\\in \\mathbb{C}^n$.\n",
    "Then\n",
    "$$\n",
    "    0 \\leq z^H Q z\n",
    "        = \\Re z^H Q z\n",
    "        \\equiv \\begin{pmatrix}\n",
    "            \\Re z^H Q z & 0 \\\\\n",
    "            0 & \\Re z^H Q z\n",
    "        \\end{pmatrix}\n",
    "        = \\widehat{z^H Q z}\n",
    "        = \\widehat{z^H} \\widehat{Q z}\n",
    "        = \\hat{z}^\\top \\hat{Q} \\hat{z}\n",
    "    \\,. $$"
   ]
  },
  {
   "cell_type": "markdown",
   "metadata": {},
   "source": [
    "<br>"
   ]
  }
 ],
 "metadata": {
  "kernelspec": {
   "display_name": "Python 3",
   "language": "python",
   "name": "python3"
  },
  "language_info": {
   "codemirror_mode": {
    "name": "ipython",
    "version": 3
   },
   "file_extension": ".py",
   "mimetype": "text/x-python",
   "name": "python",
   "nbconvert_exporter": "python",
   "pygments_lexer": "ipython3",
   "version": "3.7.2"
  }
 },
 "nbformat": 4,
 "nbformat_minor": 2
}
